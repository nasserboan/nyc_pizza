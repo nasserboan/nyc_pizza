{
 "cells": [
  {
   "cell_type": "markdown",
   "metadata": {},
   "source": [
    "# How \"pizzaness\" is New York City?"
   ]
  },
  {
   "cell_type": "markdown",
   "metadata": {},
   "source": [
    "## 1. Introduction\n",
    "___\n",
    "### 1.1 Background\n",
    "\n",
    "New York is a huge multicultural city where millions of people commute, eat and work everyday. In the city we can find an almost infinite assortment of restaurants and behind each one a story. Different groups of immigrants came to America trying to improve their lifes and introducing us to their cousine was the way they found, not only to rewrite their history, but also to enrich ours.\n",
    "\n",
    "Italians are a big part of this immigrant chapter of NY, but by 1860 the city had only 1400 new yorkers with some italian descent, they were working as dockworkers, fruit vendors, organ grinders or rag pickers.  In the late 1860's a wave of immigration from italy began and culminated in a scenario where from 1900 to 1914 almost two million italians immigrated to all of America, including NY. By 1930 NY was home to one million italian americans.<sup>1</sup>\n",
    "\n",
    "Pizza is an italian dish largely appreciated in the whole world and it was brought to America by italian immigrants. The first pizzeria in America was Lombardi's, by Genaro Lombardi in Manhattan's Little Italy in 1905. In 1924 Tottono's opened up in Coney Island and in 1933 Patsy's opened in Harlem, and all the three restaurants are still open today. <sup>2</sup>\n",
    "\n",
    "Living a huge city like NY can be stressfull, mood and anxiety disorders are the most prevalent mental health problems among city dwellers <sup>3</sup>. Dealing with stress, work, bills is a dauting task and most of us try to find a way to cope with everything, some turn to meditation, some turn to addiction, some turn to games and some turn to eating a good delicious meal. Pizza became a part of every new yorker day to day routine, it can be a fast meal for a busy day or something you eat to relax with friends, either way it has an weight in peoples lifes. \n",
    "\n",
    "### 1.2 Problem\n",
    "\n",
    "Eating a good slice of pizza is a stress release to some people and finding the right place is crucial to that. Image doing that in a city that you don't know. I will define an index fondly called 'pizzaness' for every neighbourhood of NYC using data gathered from Foursquare about every pizza place in the city. Finally I'll compare these neighborhoods to those from another city, activelly creating clusters of similar neighborhoods base on their pizza places.\n",
    "\n",
    "**Business problem: Can we cluster neighborhoods of NYC based on their pizza places? How similar are neighborhoods from NYC to  neighborhoods of aother city?** \n",
    "\n",
    "### 1.3 Interest\n",
    "\n",
    "Entrepeneurs can take the findings in this project into considerations when defining the best place to open their pizza places in cities that they don't know about. Finally, users can search for neighborhoods with great pizza places near and far from home. \n",
    "\n",
    "\n",
    "## 2. Data Acquisition and cleaning\n",
    "___\n",
    "### 2.1 Data Sources\n",
    "\n",
    "> Foursquare: request the foursquare API for all pizza places in town (getting their latitute, longitude and id); using their ID to get basic information about them that can be used for 'pizzaness' index. \n",
    "\n",
    "> NYC Open Data: get the NTA (Neighborhood Tabulation Area) geojson to discover in which NTA every pizza place is; get the NTA demograhic data enrich our analysis and find correlations between 'pizzaness' and demographic data;\n",
    "\n",
    "\n",
    "\n",
    "![Data Diagram](dataDiagram.png)\n",
    "\n",
    "\n",
    "### 2.2 Data Cleaning\n",
    "\n",
    "\n",
    "\n",
    "### 2.3 Feature Selection\n",
    "\n",
    "\n",
    "\n",
    "\n",
    "\n",
    "<sup>1</sup> https://www.walksofnewyork.com/blog/italians-new-york-city\n",
    "\n",
    "<sup>2</sup> https://www.thespruceeats.com/what-is-new-york-style-pizza-2708764\n",
    "\n",
    "<sup>3</sup> https://www.nature.com/articles/nature10190\n"
   ]
  },
  {
   "cell_type": "code",
   "execution_count": null,
   "metadata": {},
   "outputs": [],
   "source": []
  },
  {
   "cell_type": "code",
   "execution_count": null,
   "metadata": {},
   "outputs": [],
   "source": []
  },
  {
   "cell_type": "code",
   "execution_count": null,
   "metadata": {},
   "outputs": [],
   "source": []
  },
  {
   "cell_type": "code",
   "execution_count": null,
   "metadata": {},
   "outputs": [],
   "source": []
  },
  {
   "cell_type": "code",
   "execution_count": null,
   "metadata": {},
   "outputs": [],
   "source": []
  }
 ],
 "metadata": {
  "kernelspec": {
   "display_name": "Python 3",
   "language": "python",
   "name": "python3"
  },
  "language_info": {
   "codemirror_mode": {
    "name": "ipython",
    "version": 3
   },
   "file_extension": ".py",
   "mimetype": "text/x-python",
   "name": "python",
   "nbconvert_exporter": "python",
   "pygments_lexer": "ipython3",
   "version": "3.7.5"
  }
 },
 "nbformat": 4,
 "nbformat_minor": 4
}

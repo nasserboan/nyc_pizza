{
 "cells": [
  {
   "cell_type": "code",
   "execution_count": 1,
   "metadata": {},
   "outputs": [],
   "source": [
    "import json, requests\n",
    "import pandas as pd\n",
    "from tqdm import tqdm\n",
    "import time\n",
    "import numpy as np\n",
    "import geopandas as geopd\n",
    "import warnings\n",
    "warnings.filterwarnings('ignore')"
   ]
  },
  {
   "cell_type": "code",
   "execution_count": null,
   "metadata": {},
   "outputs": [],
   "source": [
    "\n",
    "\n"
   ]
  },
  {
   "cell_type": "code",
   "execution_count": null,
   "metadata": {},
   "outputs": [],
   "source": []
  },
  {
   "cell_type": "code",
   "execution_count": null,
   "metadata": {},
   "outputs": [],
   "source": []
  },
  {
   "cell_type": "markdown",
   "metadata": {},
   "source": [
    "## Business Understanding\n",
    "\n",
    "### Problem Framing"
   ]
  },
  {
   "cell_type": "code",
   "execution_count": null,
   "metadata": {},
   "outputs": [],
   "source": []
  },
  {
   "cell_type": "code",
   "execution_count": null,
   "metadata": {},
   "outputs": [],
   "source": []
  },
  {
   "cell_type": "code",
   "execution_count": null,
   "metadata": {},
   "outputs": [],
   "source": []
  },
  {
   "cell_type": "markdown",
   "metadata": {},
   "source": [
    "## Getting data"
   ]
  },
  {
   "cell_type": "code",
   "execution_count": 83,
   "metadata": {},
   "outputs": [],
   "source": [
    "def get_geo_data():\n",
    "        \n",
    "    print('> Creating the geo_dataframe.')\n",
    "    \n",
    "    geo_df = geopd.read_file('https://data.cityofnewyork.us/api/geospatial/d3qk-pfyz?method=export&format=GeoJSON')\n",
    "    geo_df['centroid_gpd'] = geo_df.geometry.centroid\n",
    "    geo_df['lat_long'] = 0\n",
    "    \n",
    "    print('> Getting the centroids coordinates (lat/long).')\n",
    "    \n",
    "    time.sleep(0.7)\n",
    "    \n",
    "    for i in tqdm(range(len(geo_df)),ncols=150):\n",
    "        \n",
    "        centroid_lat_long = np.array(geo_df.centroid_gpd[i])\n",
    "        geo_df.loc[i,'lat_long'] = [str(centroid_lat_long[1])+','+str(centroid_lat_long[0])]\n",
    "    \n",
    "    print('> Done.')\n",
    "    \n",
    "    return geo_df\n",
    "\n",
    "def get_foursquare_search_data(location):\n",
    "\n",
    "    params = dict(\n",
    "        client_id='UTCC2TLL2HALAQM2CAP3UK4SPVA4PSJFP32OW3WKD0PJAFLF',\n",
    "        client_secret='TMRMFTUYEWR3E5ISBAGFIXX10FZE0TVVSPL5LPRLUWSQZEAW',\n",
    "        ll = location,\n",
    "        radius = 5000,\n",
    "        limit = 100,\n",
    "        v = '20191122',\n",
    "        intent='browse',\n",
    "        categoryId = '4bf58dd8d48988d1ca941735')\n",
    "    \n",
    "    url = 'https://api.foursquare.com/v2/venues/search?'\n",
    "    pizzeria_data = requests.get(url = url, params= params)\n",
    "    \n",
    "    if pizzeria_data.ok:\n",
    "        \n",
    "        #return pizzeria_data.json()['response']['venues']\n",
    "        return pd.io.json.json_normalize(pizzeria_data.json()['response']['venues'])\n",
    "    \n",
    "    else:\n",
    "        \n",
    "        raise Exception('Could not get the data: ',pizzeria_data.status_code)\n",
    "        \n",
    "        \n",
    "def get_pizzerias_from_nta_centroids(centroids):\n",
    "    \n",
    "    pizza_nta = []\n",
    "        \n",
    "    for centroid in tqdm(centroids):\n",
    "        \n",
    "        data = pizza_nta.append(get_foursquare_search_data(location=centroid))\n",
    "    \n",
    "    df = pd.DataFrame()\n",
    "        \n",
    "    for i in tqdm(range(len(pizza_nta))):\n",
    "        df = pd.concat([df,pd.DataFrame.from_dict(pizza_nta[i])])\n",
    "        \n",
    "    df.reset_index(drop=True,inplace=True)    \n",
    "    \n",
    "    return df"
   ]
  },
  {
   "cell_type": "code",
   "execution_count": 84,
   "metadata": {},
   "outputs": [
    {
     "name": "stdout",
     "output_type": "stream",
     "text": [
      "> Creating the geo_dataframe.\n",
      "> Getting the centroids coordinates (lat/long).\n"
     ]
    },
    {
     "name": "stderr",
     "output_type": "stream",
     "text": [
      "100%|█████████████████████████████████████████████████████████████████████████████████████████████████████████████| 195/195 [00:00<00:00, 2429.96it/s]"
     ]
    },
    {
     "name": "stdout",
     "output_type": "stream",
     "text": [
      "> Done.\n"
     ]
    },
    {
     "name": "stderr",
     "output_type": "stream",
     "text": [
      "\n"
     ]
    }
   ],
   "source": [
    "geo_df2 = get_geo_data()"
   ]
  },
  {
   "cell_type": "code",
   "execution_count": 88,
   "metadata": {},
   "outputs": [
    {
     "name": "stderr",
     "output_type": "stream",
     "text": [
      "100%|██████████| 195/195 [02:18<00:00,  1.41it/s]\n",
      "100%|██████████| 195/195 [00:01<00:00, 147.62it/s]\n"
     ]
    }
   ],
   "source": [
    "df = get_pizzerias_from_nta_centroids(geo_df2.lat_long)"
   ]
  },
  {
   "cell_type": "code",
   "execution_count": null,
   "metadata": {},
   "outputs": [],
   "source": []
  },
  {
   "cell_type": "code",
   "execution_count": null,
   "metadata": {},
   "outputs": [],
   "source": []
  },
  {
   "cell_type": "code",
   "execution_count": null,
   "metadata": {},
   "outputs": [],
   "source": []
  },
  {
   "cell_type": "code",
   "execution_count": null,
   "metadata": {},
   "outputs": [],
   "source": []
  },
  {
   "cell_type": "code",
   "execution_count": null,
   "metadata": {},
   "outputs": [],
   "source": []
  },
  {
   "cell_type": "code",
   "execution_count": null,
   "metadata": {},
   "outputs": [],
   "source": []
  },
  {
   "cell_type": "code",
   "execution_count": null,
   "metadata": {},
   "outputs": [],
   "source": []
  },
  {
   "cell_type": "code",
   "execution_count": null,
   "metadata": {},
   "outputs": [],
   "source": []
  },
  {
   "cell_type": "code",
   "execution_count": null,
   "metadata": {},
   "outputs": [],
   "source": []
  },
  {
   "cell_type": "markdown",
   "metadata": {},
   "source": [
    "## Data Preparation"
   ]
  },
  {
   "cell_type": "code",
   "execution_count": null,
   "metadata": {},
   "outputs": [],
   "source": []
  },
  {
   "cell_type": "code",
   "execution_count": null,
   "metadata": {},
   "outputs": [],
   "source": []
  },
  {
   "cell_type": "code",
   "execution_count": null,
   "metadata": {},
   "outputs": [],
   "source": []
  },
  {
   "cell_type": "code",
   "execution_count": null,
   "metadata": {},
   "outputs": [],
   "source": []
  },
  {
   "cell_type": "code",
   "execution_count": null,
   "metadata": {},
   "outputs": [],
   "source": []
  },
  {
   "cell_type": "markdown",
   "metadata": {},
   "source": [
    "## Modeling"
   ]
  },
  {
   "cell_type": "code",
   "execution_count": null,
   "metadata": {},
   "outputs": [],
   "source": []
  },
  {
   "cell_type": "code",
   "execution_count": null,
   "metadata": {},
   "outputs": [],
   "source": []
  },
  {
   "cell_type": "code",
   "execution_count": null,
   "metadata": {},
   "outputs": [],
   "source": []
  },
  {
   "cell_type": "code",
   "execution_count": null,
   "metadata": {},
   "outputs": [],
   "source": []
  },
  {
   "cell_type": "markdown",
   "metadata": {},
   "source": [
    "## Evaluation"
   ]
  },
  {
   "cell_type": "code",
   "execution_count": null,
   "metadata": {},
   "outputs": [],
   "source": []
  },
  {
   "cell_type": "code",
   "execution_count": null,
   "metadata": {},
   "outputs": [],
   "source": []
  },
  {
   "cell_type": "code",
   "execution_count": null,
   "metadata": {},
   "outputs": [],
   "source": []
  },
  {
   "cell_type": "code",
   "execution_count": null,
   "metadata": {},
   "outputs": [],
   "source": []
  },
  {
   "cell_type": "markdown",
   "metadata": {},
   "source": [
    "## Results"
   ]
  },
  {
   "cell_type": "code",
   "execution_count": null,
   "metadata": {},
   "outputs": [],
   "source": []
  }
 ],
 "metadata": {
  "kernelspec": {
   "display_name": "Python 3",
   "language": "python",
   "name": "python3"
  },
  "language_info": {
   "codemirror_mode": {
    "name": "ipython",
    "version": 3
   },
   "file_extension": ".py",
   "mimetype": "text/x-python",
   "name": "python",
   "nbconvert_exporter": "python",
   "pygments_lexer": "ipython3",
   "version": "3.7.5"
  }
 },
 "nbformat": 4,
 "nbformat_minor": 4
}

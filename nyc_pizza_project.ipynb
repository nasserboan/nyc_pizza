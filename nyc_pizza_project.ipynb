{
 "cells": [
  {
   "cell_type": "code",
   "execution_count": 66,
   "metadata": {},
   "outputs": [],
   "source": [
    "import json, requests\n",
    "import pandas as pd\n",
    "from tqdm import tqdm\n",
    "import time\n",
    "import numpy as np\n",
    "import geopandas as geopd\n",
    "import warnings\n",
    "import folium as fl\n",
    "from shapely import wkt\n",
    "from shapely.geometry import Point\n",
    "\n",
    "warnings.filterwarnings('ignore')"
   ]
  },
  {
   "cell_type": "markdown",
   "metadata": {},
   "source": [
    "## Business Understanding\n",
    "\n",
    "### Problem Framing"
   ]
  },
  {
   "cell_type": "code",
   "execution_count": null,
   "metadata": {},
   "outputs": [],
   "source": []
  },
  {
   "cell_type": "code",
   "execution_count": null,
   "metadata": {},
   "outputs": [],
   "source": []
  },
  {
   "cell_type": "code",
   "execution_count": null,
   "metadata": {},
   "outputs": [],
   "source": []
  },
  {
   "cell_type": "markdown",
   "metadata": {},
   "source": [
    "## Getting data - Stage 1"
   ]
  },
  {
   "cell_type": "code",
   "execution_count": 5,
   "metadata": {},
   "outputs": [],
   "source": [
    "def get_geo_data():\n",
    "        \n",
    "    print('> Creating the geo_dataframe.')\n",
    "    \n",
    "    geo_df = geopd.read_file('https://data.cityofnewyork.us/api/geospatial/d3qk-pfyz?method=export&format=GeoJSON')\n",
    "    geo_df['centroid_gpd'] = geo_df.geometry.centroid\n",
    "    geo_df['lat_long'] = 0\n",
    "    \n",
    "    print('> Getting the centroids coordinates (lat/long).')\n",
    "    \n",
    "    time.sleep(0.7)\n",
    "    \n",
    "    for i in tqdm(range(len(geo_df)),ncols=150):\n",
    "        \n",
    "        centroid_lat_long = np.array(geo_df.centroid_gpd[i])\n",
    "        geo_df.loc[i,'lat_long'] = [str(centroid_lat_long[1])+','+str(centroid_lat_long[0])]\n",
    "    \n",
    "    print('> Done.')\n",
    "    \n",
    "    return geo_df\n",
    "\n",
    "def get_foursquare_search_data(location):\n",
    "\n",
    "    params = dict(\n",
    "        client_id='UTCC2TLL2HALAQM2CAP3UK4SPVA4PSJFP32OW3WKD0PJAFLF',\n",
    "        client_secret='TMRMFTUYEWR3E5ISBAGFIXX10FZE0TVVSPL5LPRLUWSQZEAW',\n",
    "        ll = location,\n",
    "        radius = 5000,\n",
    "        limit = 100,\n",
    "        v = '20191122',\n",
    "        intent='browse',\n",
    "        categoryId = '4bf58dd8d48988d1ca941735')\n",
    "    \n",
    "    url = 'https://api.foursquare.com/v2/venues/search?'\n",
    "    pizzeria_data = requests.get(url = url, params= params)\n",
    "    \n",
    "    if pizzeria_data.ok:\n",
    "        \n",
    "        #return pizzeria_data.json()['response']['venues']\n",
    "        return pd.io.json.json_normalize(pizzeria_data.json()['response']['venues'])\n",
    "    \n",
    "    else:\n",
    "        \n",
    "        raise Exception('Could not get the data: ',pizzeria_data.status_code)\n",
    "        \n",
    "        \n",
    "def get_pizzerias_from_nta_centroids(centroids):\n",
    "    \n",
    "    pizza_nta = []\n",
    "        \n",
    "    for centroid in tqdm(centroids):\n",
    "        \n",
    "        data = pizza_nta.append(get_foursquare_search_data(location=centroid))\n",
    "    \n",
    "    df = pd.DataFrame()\n",
    "        \n",
    "    for i in tqdm(range(len(pizza_nta))):\n",
    "        df = pd.concat([df,pd.DataFrame.from_dict(pizza_nta[i])])\n",
    "        \n",
    "    df.reset_index(drop=True,inplace=True)    \n",
    "    \n",
    "    return df"
   ]
  },
  {
   "cell_type": "code",
   "execution_count": 6,
   "metadata": {},
   "outputs": [
    {
     "name": "stdout",
     "output_type": "stream",
     "text": [
      "> Creating the geo_dataframe.\n",
      "> Getting the centroids coordinates (lat/long).\n"
     ]
    },
    {
     "name": "stderr",
     "output_type": "stream",
     "text": [
      "100%|█████████████████████████████████████████████████████████████████████████████████████████████████████████████| 195/195 [00:00<00:00, 1508.32it/s]"
     ]
    },
    {
     "name": "stdout",
     "output_type": "stream",
     "text": [
      "> Done.\n"
     ]
    },
    {
     "name": "stderr",
     "output_type": "stream",
     "text": [
      "\n"
     ]
    }
   ],
   "source": [
    "## getting the nta data from nyc open data\n",
    "\n",
    "nyc_nta = get_geo_data()\n",
    "\n",
    "## dropping columns that will not need\n",
    "\n",
    "nyc_nta.drop(['shape_area','shape_leng','borocode','countyfips'],axis=1,inplace=True)"
   ]
  },
  {
   "cell_type": "code",
   "execution_count": 7,
   "metadata": {},
   "outputs": [
    {
     "data": {
      "text/html": [
       "<div>\n",
       "<style scoped>\n",
       "    .dataframe tbody tr th:only-of-type {\n",
       "        vertical-align: middle;\n",
       "    }\n",
       "\n",
       "    .dataframe tbody tr th {\n",
       "        vertical-align: top;\n",
       "    }\n",
       "\n",
       "    .dataframe thead th {\n",
       "        text-align: right;\n",
       "    }\n",
       "</style>\n",
       "<table border=\"1\" class=\"dataframe\">\n",
       "  <thead>\n",
       "    <tr style=\"text-align: right;\">\n",
       "      <th></th>\n",
       "      <th>ntacode</th>\n",
       "      <th>ntaname</th>\n",
       "      <th>boroname</th>\n",
       "      <th>geometry</th>\n",
       "      <th>centroid_gpd</th>\n",
       "      <th>lat_long</th>\n",
       "    </tr>\n",
       "  </thead>\n",
       "  <tbody>\n",
       "    <tr>\n",
       "      <th>0</th>\n",
       "      <td>BK43</td>\n",
       "      <td>Midwood</td>\n",
       "      <td>Brooklyn</td>\n",
       "      <td>MULTIPOLYGON (((-73.94733 40.62917, -73.94687 ...</td>\n",
       "      <td>POINT (-73.95682 40.62092)</td>\n",
       "      <td>40.620924048798294,-73.95682460579987</td>\n",
       "    </tr>\n",
       "    <tr>\n",
       "      <th>1</th>\n",
       "      <td>BK75</td>\n",
       "      <td>Bedford</td>\n",
       "      <td>Brooklyn</td>\n",
       "      <td>MULTIPOLYGON (((-73.94193 40.70073, -73.94439 ...</td>\n",
       "      <td>POINT (-73.94991 40.69151)</td>\n",
       "      <td>40.691507495068585,-73.94990503494105</td>\n",
       "    </tr>\n",
       "    <tr>\n",
       "      <th>2</th>\n",
       "      <td>BX40</td>\n",
       "      <td>Fordham South</td>\n",
       "      <td>Bronx</td>\n",
       "      <td>MULTIPOLYGON (((-73.89138 40.86170, -73.89106 ...</td>\n",
       "      <td>POINT (-73.89954 40.85816)</td>\n",
       "      <td>40.858155196233064,-73.89953593415377</td>\n",
       "    </tr>\n",
       "    <tr>\n",
       "      <th>3</th>\n",
       "      <td>BK88</td>\n",
       "      <td>Borough Park</td>\n",
       "      <td>Brooklyn</td>\n",
       "      <td>MULTIPOLYGON (((-73.97605 40.63128, -73.97717 ...</td>\n",
       "      <td>POINT (-73.98866 40.63095)</td>\n",
       "      <td>40.63094965540432,-73.98866123069084</td>\n",
       "    </tr>\n",
       "    <tr>\n",
       "      <th>4</th>\n",
       "      <td>BK96</td>\n",
       "      <td>Rugby-Remsen Village</td>\n",
       "      <td>Brooklyn</td>\n",
       "      <td>MULTIPOLYGON (((-73.90856 40.65210, -73.90945 ...</td>\n",
       "      <td>POINT (-73.92225 40.65236)</td>\n",
       "      <td>40.652364804102795,-73.92225097387865</td>\n",
       "    </tr>\n",
       "  </tbody>\n",
       "</table>\n",
       "</div>"
      ],
      "text/plain": [
       "  ntacode               ntaname  boroname  \\\n",
       "0    BK43               Midwood  Brooklyn   \n",
       "1    BK75               Bedford  Brooklyn   \n",
       "2    BX40         Fordham South     Bronx   \n",
       "3    BK88          Borough Park  Brooklyn   \n",
       "4    BK96  Rugby-Remsen Village  Brooklyn   \n",
       "\n",
       "                                            geometry  \\\n",
       "0  MULTIPOLYGON (((-73.94733 40.62917, -73.94687 ...   \n",
       "1  MULTIPOLYGON (((-73.94193 40.70073, -73.94439 ...   \n",
       "2  MULTIPOLYGON (((-73.89138 40.86170, -73.89106 ...   \n",
       "3  MULTIPOLYGON (((-73.97605 40.63128, -73.97717 ...   \n",
       "4  MULTIPOLYGON (((-73.90856 40.65210, -73.90945 ...   \n",
       "\n",
       "                 centroid_gpd                               lat_long  \n",
       "0  POINT (-73.95682 40.62092)  40.620924048798294,-73.95682460579987  \n",
       "1  POINT (-73.94991 40.69151)  40.691507495068585,-73.94990503494105  \n",
       "2  POINT (-73.89954 40.85816)  40.858155196233064,-73.89953593415377  \n",
       "3  POINT (-73.98866 40.63095)   40.63094965540432,-73.98866123069084  \n",
       "4  POINT (-73.92225 40.65236)  40.652364804102795,-73.92225097387865  "
      ]
     },
     "execution_count": 7,
     "metadata": {},
     "output_type": "execute_result"
    }
   ],
   "source": [
    "## inspecting the geodataframe [1]\n",
    "\n",
    "nyc_nta.head()"
   ]
  },
  {
   "cell_type": "code",
   "execution_count": 42,
   "metadata": {},
   "outputs": [
    {
     "name": "stdout",
     "output_type": "stream",
     "text": [
      "<class 'geopandas.geodataframe.GeoDataFrame'>\n",
      "RangeIndex: 195 entries, 0 to 194\n",
      "Data columns (total 6 columns):\n",
      "ntacode         195 non-null object\n",
      "ntaname         195 non-null object\n",
      "boroname        195 non-null object\n",
      "geometry        195 non-null geometry\n",
      "centroid_gpd    195 non-null geometry\n",
      "lat_long        195 non-null object\n",
      "dtypes: geometry(2), object(4)\n",
      "memory usage: 9.3+ KB\n"
     ]
    }
   ],
   "source": [
    "## inspecting the geodataframe [2]\n",
    "\n",
    "nyc_nta.info()"
   ]
  },
  {
   "cell_type": "code",
   "execution_count": 44,
   "metadata": {},
   "outputs": [
    {
     "data": {
      "text/plain": [
       "ntacode         0\n",
       "ntaname         0\n",
       "boroname        0\n",
       "geometry        0\n",
       "centroid_gpd    0\n",
       "lat_long        0\n",
       "dtype: int64"
      ]
     },
     "execution_count": 44,
     "metadata": {},
     "output_type": "execute_result"
    }
   ],
   "source": [
    "## inspecting the geodataframe [3]\n",
    "\n",
    "nyc_nta.isna().sum()"
   ]
  },
  {
   "cell_type": "code",
   "execution_count": 46,
   "metadata": {},
   "outputs": [
    {
     "name": "stderr",
     "output_type": "stream",
     "text": [
      "100%|██████████| 195/195 [02:00<00:00,  1.61it/s]\n",
      "100%|██████████| 195/195 [00:03<00:00, 60.59it/s]\n"
     ]
    }
   ],
   "source": [
    "## using the lat_long column to request the search API from foursquare\n",
    "\n",
    "df = get_pizzerias_from_nta_centroids(nyc_nta.lat_long)"
   ]
  },
  {
   "cell_type": "code",
   "execution_count": 47,
   "metadata": {},
   "outputs": [
    {
     "data": {
      "text/html": [
       "<div>\n",
       "<style scoped>\n",
       "    .dataframe tbody tr th:only-of-type {\n",
       "        vertical-align: middle;\n",
       "    }\n",
       "\n",
       "    .dataframe tbody tr th {\n",
       "        vertical-align: top;\n",
       "    }\n",
       "\n",
       "    .dataframe thead th {\n",
       "        text-align: right;\n",
       "    }\n",
       "</style>\n",
       "<table border=\"1\" class=\"dataframe\">\n",
       "  <thead>\n",
       "    <tr style=\"text-align: right;\">\n",
       "      <th></th>\n",
       "      <th>categories</th>\n",
       "      <th>delivery.id</th>\n",
       "      <th>delivery.provider.icon.name</th>\n",
       "      <th>delivery.provider.icon.prefix</th>\n",
       "      <th>delivery.provider.icon.sizes</th>\n",
       "      <th>delivery.provider.name</th>\n",
       "      <th>delivery.url</th>\n",
       "      <th>hasPerk</th>\n",
       "      <th>id</th>\n",
       "      <th>location.address</th>\n",
       "      <th>...</th>\n",
       "      <th>location.formattedAddress</th>\n",
       "      <th>location.labeledLatLngs</th>\n",
       "      <th>location.lat</th>\n",
       "      <th>location.lng</th>\n",
       "      <th>location.neighborhood</th>\n",
       "      <th>location.postalCode</th>\n",
       "      <th>location.state</th>\n",
       "      <th>name</th>\n",
       "      <th>referralId</th>\n",
       "      <th>venuePage.id</th>\n",
       "    </tr>\n",
       "  </thead>\n",
       "  <tbody>\n",
       "    <tr>\n",
       "      <th>0</th>\n",
       "      <td>[{'id': '4bf58dd8d48988d1ca941735', 'name': 'P...</td>\n",
       "      <td>1148888</td>\n",
       "      <td>/delivery_provider_seamless_20180129.png</td>\n",
       "      <td>https://fastly.4sqi.net/img/general/cap/</td>\n",
       "      <td>[40, 50]</td>\n",
       "      <td>seamless</td>\n",
       "      <td>https://www.seamless.com/menu/lb-spumoni-garde...</td>\n",
       "      <td>False</td>\n",
       "      <td>49d006ccf964a520f85a1fe3</td>\n",
       "      <td>2725 86th St</td>\n",
       "      <td>...</td>\n",
       "      <td>[2725 86th St (at W 10th St), Brooklyn, NY 112...</td>\n",
       "      <td>[{'label': 'display', 'lat': 40.59457745537681...</td>\n",
       "      <td>40.594577</td>\n",
       "      <td>-73.981458</td>\n",
       "      <td>NaN</td>\n",
       "      <td>11223</td>\n",
       "      <td>NY</td>\n",
       "      <td>L&amp;B Spumoni Gardens</td>\n",
       "      <td>v-1574765059</td>\n",
       "      <td>94425361</td>\n",
       "    </tr>\n",
       "    <tr>\n",
       "      <th>1</th>\n",
       "      <td>[{'id': '4bf58dd8d48988d1ca941735', 'name': 'P...</td>\n",
       "      <td>1035645</td>\n",
       "      <td>/delivery_provider_seamless_20180129.png</td>\n",
       "      <td>https://fastly.4sqi.net/img/general/cap/</td>\n",
       "      <td>[40, 50]</td>\n",
       "      <td>seamless</td>\n",
       "      <td>https://www.seamless.com/menu/di-fara-pizza-14...</td>\n",
       "      <td>False</td>\n",
       "      <td>40be6a00f964a520c4001fe3</td>\n",
       "      <td>1424 Avenue J</td>\n",
       "      <td>...</td>\n",
       "      <td>[1424 Avenue J (at E 15th St), Brooklyn, NY 11...</td>\n",
       "      <td>[{'label': 'display', 'lat': 40.62513471122533...</td>\n",
       "      <td>40.625135</td>\n",
       "      <td>-73.961479</td>\n",
       "      <td>NaN</td>\n",
       "      <td>11230</td>\n",
       "      <td>NY</td>\n",
       "      <td>Di Fara Pizza</td>\n",
       "      <td>v-1574765059</td>\n",
       "      <td>95765712</td>\n",
       "    </tr>\n",
       "    <tr>\n",
       "      <th>2</th>\n",
       "      <td>[{'id': '4bf58dd8d48988d11e941735', 'name': 'C...</td>\n",
       "      <td>NaN</td>\n",
       "      <td>NaN</td>\n",
       "      <td>NaN</td>\n",
       "      <td>NaN</td>\n",
       "      <td>NaN</td>\n",
       "      <td>NaN</td>\n",
       "      <td>False</td>\n",
       "      <td>563580bd498e59191f37606e</td>\n",
       "      <td>705 Flatbush Ave</td>\n",
       "      <td>...</td>\n",
       "      <td>[705 Flatbush Ave (Parkside And Winthrop), Bro...</td>\n",
       "      <td>[{'label': 'display', 'lat': 40.65591812487629...</td>\n",
       "      <td>40.655918</td>\n",
       "      <td>-73.959928</td>\n",
       "      <td>NaN</td>\n",
       "      <td>11225</td>\n",
       "      <td>NY</td>\n",
       "      <td>Parkside</td>\n",
       "      <td>v-1574765059</td>\n",
       "      <td>NaN</td>\n",
       "    </tr>\n",
       "    <tr>\n",
       "      <th>3</th>\n",
       "      <td>[{'id': '4bf58dd8d48988d1ca941735', 'name': 'P...</td>\n",
       "      <td>751754</td>\n",
       "      <td>/delivery_provider_seamless_20180129.png</td>\n",
       "      <td>https://fastly.4sqi.net/img/general/cap/</td>\n",
       "      <td>[40, 50]</td>\n",
       "      <td>seamless</td>\n",
       "      <td>https://www.seamless.com/menu/papa-johns-3408-...</td>\n",
       "      <td>False</td>\n",
       "      <td>4b64e55af964a52031d82ae3</td>\n",
       "      <td>601 Rogers Ave</td>\n",
       "      <td>...</td>\n",
       "      <td>[601 Rogers Ave (Winthrop St.), Brooklyn, NY 1...</td>\n",
       "      <td>[{'label': 'display', 'lat': 40.65706260104479...</td>\n",
       "      <td>40.657063</td>\n",
       "      <td>-73.952911</td>\n",
       "      <td>NaN</td>\n",
       "      <td>11225</td>\n",
       "      <td>NY</td>\n",
       "      <td>Papa John's Pizza</td>\n",
       "      <td>v-1574765059</td>\n",
       "      <td>NaN</td>\n",
       "    </tr>\n",
       "    <tr>\n",
       "      <th>4</th>\n",
       "      <td>[{'id': '4bf58dd8d48988d1ca941735', 'name': 'P...</td>\n",
       "      <td>NaN</td>\n",
       "      <td>NaN</td>\n",
       "      <td>NaN</td>\n",
       "      <td>NaN</td>\n",
       "      <td>NaN</td>\n",
       "      <td>NaN</td>\n",
       "      <td>False</td>\n",
       "      <td>4baec97df964a520fed73be3</td>\n",
       "      <td>1324 Avenue J</td>\n",
       "      <td>...</td>\n",
       "      <td>[1324 Avenue J (at E 14th St), Brooklyn, NY 11...</td>\n",
       "      <td>[{'label': 'display', 'lat': 40.62505248036124...</td>\n",
       "      <td>40.625052</td>\n",
       "      <td>-73.962342</td>\n",
       "      <td>NaN</td>\n",
       "      <td>11230</td>\n",
       "      <td>NY</td>\n",
       "      <td>Pizza Time</td>\n",
       "      <td>v-1574765059</td>\n",
       "      <td>NaN</td>\n",
       "    </tr>\n",
       "  </tbody>\n",
       "</table>\n",
       "<p>5 rows × 25 columns</p>\n",
       "</div>"
      ],
      "text/plain": [
       "                                          categories delivery.id  \\\n",
       "0  [{'id': '4bf58dd8d48988d1ca941735', 'name': 'P...     1148888   \n",
       "1  [{'id': '4bf58dd8d48988d1ca941735', 'name': 'P...     1035645   \n",
       "2  [{'id': '4bf58dd8d48988d11e941735', 'name': 'C...         NaN   \n",
       "3  [{'id': '4bf58dd8d48988d1ca941735', 'name': 'P...      751754   \n",
       "4  [{'id': '4bf58dd8d48988d1ca941735', 'name': 'P...         NaN   \n",
       "\n",
       "                delivery.provider.icon.name  \\\n",
       "0  /delivery_provider_seamless_20180129.png   \n",
       "1  /delivery_provider_seamless_20180129.png   \n",
       "2                                       NaN   \n",
       "3  /delivery_provider_seamless_20180129.png   \n",
       "4                                       NaN   \n",
       "\n",
       "              delivery.provider.icon.prefix delivery.provider.icon.sizes  \\\n",
       "0  https://fastly.4sqi.net/img/general/cap/                     [40, 50]   \n",
       "1  https://fastly.4sqi.net/img/general/cap/                     [40, 50]   \n",
       "2                                       NaN                          NaN   \n",
       "3  https://fastly.4sqi.net/img/general/cap/                     [40, 50]   \n",
       "4                                       NaN                          NaN   \n",
       "\n",
       "  delivery.provider.name                                       delivery.url  \\\n",
       "0               seamless  https://www.seamless.com/menu/lb-spumoni-garde...   \n",
       "1               seamless  https://www.seamless.com/menu/di-fara-pizza-14...   \n",
       "2                    NaN                                                NaN   \n",
       "3               seamless  https://www.seamless.com/menu/papa-johns-3408-...   \n",
       "4                    NaN                                                NaN   \n",
       "\n",
       "   hasPerk                        id  location.address  ...  \\\n",
       "0    False  49d006ccf964a520f85a1fe3      2725 86th St  ...   \n",
       "1    False  40be6a00f964a520c4001fe3     1424 Avenue J  ...   \n",
       "2    False  563580bd498e59191f37606e  705 Flatbush Ave  ...   \n",
       "3    False  4b64e55af964a52031d82ae3    601 Rogers Ave  ...   \n",
       "4    False  4baec97df964a520fed73be3     1324 Avenue J  ...   \n",
       "\n",
       "                           location.formattedAddress  \\\n",
       "0  [2725 86th St (at W 10th St), Brooklyn, NY 112...   \n",
       "1  [1424 Avenue J (at E 15th St), Brooklyn, NY 11...   \n",
       "2  [705 Flatbush Ave (Parkside And Winthrop), Bro...   \n",
       "3  [601 Rogers Ave (Winthrop St.), Brooklyn, NY 1...   \n",
       "4  [1324 Avenue J (at E 14th St), Brooklyn, NY 11...   \n",
       "\n",
       "                             location.labeledLatLngs location.lat  \\\n",
       "0  [{'label': 'display', 'lat': 40.59457745537681...    40.594577   \n",
       "1  [{'label': 'display', 'lat': 40.62513471122533...    40.625135   \n",
       "2  [{'label': 'display', 'lat': 40.65591812487629...    40.655918   \n",
       "3  [{'label': 'display', 'lat': 40.65706260104479...    40.657063   \n",
       "4  [{'label': 'display', 'lat': 40.62505248036124...    40.625052   \n",
       "\n",
       "  location.lng  location.neighborhood location.postalCode location.state  \\\n",
       "0   -73.981458                    NaN               11223             NY   \n",
       "1   -73.961479                    NaN               11230             NY   \n",
       "2   -73.959928                    NaN               11225             NY   \n",
       "3   -73.952911                    NaN               11225             NY   \n",
       "4   -73.962342                    NaN               11230             NY   \n",
       "\n",
       "                  name    referralId venuePage.id  \n",
       "0  L&B Spumoni Gardens  v-1574765059     94425361  \n",
       "1        Di Fara Pizza  v-1574765059     95765712  \n",
       "2             Parkside  v-1574765059          NaN  \n",
       "3    Papa John's Pizza  v-1574765059          NaN  \n",
       "4           Pizza Time  v-1574765059          NaN  \n",
       "\n",
       "[5 rows x 25 columns]"
      ]
     },
     "execution_count": 47,
     "metadata": {},
     "output_type": "execute_result"
    }
   ],
   "source": [
    "## inspecting the pizzeria data [1]\n",
    "\n",
    "df.head()"
   ]
  },
  {
   "cell_type": "code",
   "execution_count": 48,
   "metadata": {},
   "outputs": [
    {
     "name": "stdout",
     "output_type": "stream",
     "text": [
      "<class 'pandas.core.frame.DataFrame'>\n",
      "RangeIndex: 7882 entries, 0 to 7881\n",
      "Data columns (total 25 columns):\n",
      "categories                       7882 non-null object\n",
      "delivery.id                      3634 non-null object\n",
      "delivery.provider.icon.name      3634 non-null object\n",
      "delivery.provider.icon.prefix    3634 non-null object\n",
      "delivery.provider.icon.sizes     3634 non-null object\n",
      "delivery.provider.name           3634 non-null object\n",
      "delivery.url                     3634 non-null object\n",
      "hasPerk                          7882 non-null bool\n",
      "id                               7882 non-null object\n",
      "location.address                 7617 non-null object\n",
      "location.cc                      7882 non-null object\n",
      "location.city                    7853 non-null object\n",
      "location.country                 7882 non-null object\n",
      "location.crossStreet             5021 non-null object\n",
      "location.distance                7882 non-null int64\n",
      "location.formattedAddress        7882 non-null object\n",
      "location.labeledLatLngs          7882 non-null object\n",
      "location.lat                     7882 non-null float64\n",
      "location.lng                     7882 non-null float64\n",
      "location.neighborhood            408 non-null object\n",
      "location.postalCode              7719 non-null object\n",
      "location.state                   7882 non-null object\n",
      "name                             7882 non-null object\n",
      "referralId                       7882 non-null object\n",
      "venuePage.id                     1792 non-null object\n",
      "dtypes: bool(1), float64(2), int64(1), object(21)\n",
      "memory usage: 1.5+ MB\n"
     ]
    }
   ],
   "source": [
    "## inspecting the pizzeria data [2]\n",
    "\n",
    "df.info()"
   ]
  },
  {
   "cell_type": "code",
   "execution_count": 49,
   "metadata": {},
   "outputs": [
    {
     "data": {
      "text/plain": [
       "categories                          0\n",
       "delivery.id                      4248\n",
       "delivery.provider.icon.name      4248\n",
       "delivery.provider.icon.prefix    4248\n",
       "delivery.provider.icon.sizes     4248\n",
       "delivery.provider.name           4248\n",
       "delivery.url                     4248\n",
       "hasPerk                             0\n",
       "id                                  0\n",
       "location.address                  265\n",
       "location.cc                         0\n",
       "location.city                      29\n",
       "location.country                    0\n",
       "location.crossStreet             2861\n",
       "location.distance                   0\n",
       "location.formattedAddress           0\n",
       "location.labeledLatLngs             0\n",
       "location.lat                        0\n",
       "location.lng                        0\n",
       "location.neighborhood            7474\n",
       "location.postalCode               163\n",
       "location.state                      0\n",
       "name                                0\n",
       "referralId                          0\n",
       "venuePage.id                     6090\n",
       "dtype: int64"
      ]
     },
     "execution_count": 49,
     "metadata": {},
     "output_type": "execute_result"
    }
   ],
   "source": [
    "## inspecting the pizzeria data [3]\n",
    "\n",
    "df.isna().sum()"
   ]
  },
  {
   "cell_type": "code",
   "execution_count": 51,
   "metadata": {},
   "outputs": [],
   "source": [
    "## saving the pizzerias data for further use\n",
    "\n",
    "df.to_csv('data/raw_venues_data.csv',index=False)"
   ]
  },
  {
   "cell_type": "code",
   "execution_count": 52,
   "metadata": {},
   "outputs": [],
   "source": [
    "## saving the nta data from further use. \n",
    "\n",
    "## Obs.: I've tried saving as a geojson but I couldn't due to some error,\n",
    "## I'm saving as csv and later i'll need to treat the geometry column and recreate the centroid data\n",
    "\n",
    "\n",
    "nyc_nta.to_csv('data/raw_nta_data.csv',index=False)"
   ]
  },
  {
   "cell_type": "code",
   "execution_count": 57,
   "metadata": {},
   "outputs": [],
   "source": [
    "del nyc_nta\n",
    "del df"
   ]
  },
  {
   "cell_type": "markdown",
   "metadata": {},
   "source": [
    "## Data Prep - Stage 1"
   ]
  },
  {
   "cell_type": "code",
   "execution_count": 69,
   "metadata": {},
   "outputs": [],
   "source": [
    "def pre_process_raw(df):\n",
    "    df.drop(['categories','delivery.id','delivery.provider.icon.name','delivery.provider.icon.prefix',\n",
    "             'delivery.provider.icon.sizes','delivery.provider.name','delivery.url','hasPerk',\n",
    "             'location.labeledLatLngs','referralId', 'venuePage.id','location.neighborhood'],axis=1,inplace=True)\n",
    "    df.drop_duplicates('id',inplace=True)\n",
    "    df.reset_index(drop=True,inplace=True)\n",
    "    \n",
    "    return df\n",
    "\n",
    "def create_point_shape(df):\n",
    "    \n",
    "    points_series = []\n",
    "    \n",
    "    for value in zip(df['location.lng'],df['location.lat']):\n",
    "        points_series.append(Point(value))\n",
    "    \n",
    "    df['location.point'] = points_series\n",
    "    \n",
    "    return df\n",
    "\n",
    "def find_nta_name_from_pizzaria(df):\n",
    "    \n",
    "    geodf = geopd.read_file('https://data.cityofnewyork.us/api/geospatial/d3qk-pfyz?method=export&format=GeoJSON')\n",
    "    \n",
    "    choro = geodf.geometry\n",
    "    \n",
    "    df['ntaname'] = ''\n",
    "\n",
    "    for i,point in enumerate(df['location.point']):\n",
    "    \n",
    "        for nta,poly in zip(geodf['ntaname'],geodf['geometry']):\n",
    "        \n",
    "            if poly.contains(point):\n",
    "            \n",
    "                df.loc[i,'ntaname'] = nta\n",
    "    \n",
    "    df.drop(df[df.ntaname == ''].index,axis=0,inplace=True)\n",
    "    \n",
    "    return df, [choro]\n",
    "\n",
    "def create_folium_map(df,choros):\n",
    "    \n",
    "    m = fl.Map(location=['40.64554010471746','-73.90272819297329'],tiles='Stamen Toner')\n",
    "\n",
    "    for choro in choros:\n",
    "        fl.Choropleth(geo_data=choro,line_weight=2,line_color='red',fill_color='gray',name='NTAs').add_to(m)\n",
    "\n",
    "    for lat,long,name,ntaname in zip(df['location.lat'],df['location.lng'],df['name'],df['ntaname']):\n",
    "    \n",
    "        popup = '**{}** in {}'.format(name,ntaname)\n",
    "    \n",
    "        fl.Marker(location=[str(lat),str(long)],popup=popup).add_to(m)    \n",
    "    \n",
    "    m.save('report/map_nta_pizzeiras.html')\n",
    "    \n",
    "def stage1_pre_processing(raw_venues_path):\n",
    "    \n",
    "    df = pd.read_csv(raw_venues_path)\n",
    "    \n",
    "    df = pre_process_raw(df)\n",
    "    df = create_point_shape(df)\n",
    "    df,choros = find_nta_name_from_pizzaria(df)\n",
    "    create_folium_map(df,choros)\n",
    "    \n",
    "    return df.to_csv('data/treated_venues_data.csv',index=False)"
   ]
  },
  {
   "cell_type": "code",
   "execution_count": 70,
   "metadata": {},
   "outputs": [],
   "source": [
    "stage1_pre_processing('data/raw_venues_data.csv')"
   ]
  },
  {
   "cell_type": "markdown",
   "metadata": {},
   "source": [
    "## Getting data - Stage 2"
   ]
  },
  {
   "cell_type": "code",
   "execution_count": 75,
   "metadata": {},
   "outputs": [],
   "source": [
    "def get_one_vanue_details(venue_id):\n",
    "    \n",
    "    CLIENT_ID = 'UTCC2TLL2HALAQM2CAP3UK4SPVA4PSJFP32OW3WKD0PJAFLF'\n",
    "    CLIENT_SECRET = 'TMRMFTUYEWR3E5ISBAGFIXX10FZE0TVVSPL5LPRLUWSQZEAW'\n",
    "    VERSION='20191109'\n",
    "    \n",
    "    url = 'https://api.foursquare.com/v2/venues/{}?client_id={}&client_secret={}&v={}'.format(venue_id, CLIENT_ID, CLIENT_SECRET, VERSION)\n",
    "    \n",
    "    pizzaria_details = requests.get(url)\n",
    "    \n",
    "    if pizzaria_details.ok: \n",
    "        return pizzaria_details.json()['response']['venue']\n",
    "    \n",
    "    elif pizzaria_details.status_code == 429:\n",
    "                \n",
    "        CLIENT_ID = 'C3X5ON0TBSJM3TUPZ3WVFAE5LNF2ZC3SDAW2HFFCHLWBJX0D'\n",
    "        CLIENT_SECRET = 'OJXPOLZZCOKJJ0VUGXCUJWNCXKOYFGQRZZMWVVYQ4KA2TLM5'\n",
    "        VERSION='20191109'\n",
    "    \n",
    "        url = 'https://api.foursquare.com/v2/venues/{}?client_id={}&client_secret={}&v={}'.format(venue_id, CLIENT_ID, CLIENT_SECRET, VERSION)\n",
    "    \n",
    "        pizzaria_details = requests.get(url)\n",
    "    \n",
    "        return pizzaria_details.json()['response']['venue']\n",
    "    \n",
    "    \n",
    "    else:\n",
    "        raise Exception('Could not get the data: ',pizzaria_details.status_code)\n",
    "\n",
    "def get_all_venues_details(df):\n",
    "\n",
    "    details_dict = {}\n",
    "\n",
    "    for pizzaria in tqdm(df.id,ncols=150):\n",
    "        details_dict[pizzaria] = get_one_vanue_details(pizzaria)\n",
    "    \n",
    "    return details_dict"
   ]
  },
  {
   "cell_type": "code",
   "execution_count": 78,
   "metadata": {},
   "outputs": [],
   "source": [
    "treated_venues_dataframe = pd.read_csv('data/treated_venues_data.csv')"
   ]
  },
  {
   "cell_type": "code",
   "execution_count": 79,
   "metadata": {},
   "outputs": [
    {
     "name": "stderr",
     "output_type": "stream",
     "text": [
      "100%|███████████████████████████████████████████████████████████████████████████████████████████████████████████████| 903/903 [13:01<00:00,  1.16it/s]\n"
     ]
    }
   ],
   "source": [
    "venues_details = get_all_venues_details(df)"
   ]
  },
  {
   "cell_type": "code",
   "execution_count": 80,
   "metadata": {},
   "outputs": [],
   "source": [
    "with open('data/raw_venues_details.json', 'w') as file:\n",
    "    json.dump(venues_details,file)"
   ]
  },
  {
   "cell_type": "markdown",
   "metadata": {},
   "source": [
    "## Data Prep - Stage 2"
   ]
  },
  {
   "cell_type": "code",
   "execution_count": 82,
   "metadata": {},
   "outputs": [],
   "source": [
    "def get_likes(value):\n",
    "    return int(value['count'])\n",
    "\n",
    "def get_listed(value):\n",
    "    return int(value['count'])\n",
    "\n",
    "def get_price_tier(value):\n",
    "    \n",
    "    if value == 0:\n",
    "        return 0\n",
    "    else:\n",
    "        return value['tier']\n",
    "\n",
    "def get_stats(value):\n",
    "    return int(value['tipCount'])\n",
    "\n",
    "\n",
    "def pre_process(json_path):\n",
    "    \n",
    "    df = pd.read_json(json_path,orient='index')\n",
    "    df.reset_index(inplace=True,drop=True)\n",
    "    df.drop(['allowMenuUrlEdit','attributes','beenHere',\n",
    "         'bestPhoto','categories','colors','contact',\n",
    "         'createdAt','delivery','description','dislike',\n",
    "         'hasMenu', 'hereNow','hierarchy','hours',\n",
    "         'inbox','menu','ok','page','pageUpdates',\n",
    "         'parent','photos','popular','ratingColor',\n",
    "         'reasons', 'shortUrl','specials', 'storeId', \n",
    "         'timeZone', 'tips', 'url', 'venuePage', 'verified',\n",
    "         'location'],axis = 1, inplace = True)\n",
    "    df.price.fillna(0,inplace=True)\n",
    "    \n",
    "    df['likes'] = df.likes.apply(get_likes)\n",
    "    \n",
    "    df['listed'] = df.listed.apply(get_listed)\n",
    "    \n",
    "    df['price'] = df.price.apply(get_price_tier)\n",
    "        \n",
    "    df['stats'] = df.stats.apply(get_stats)\n",
    "    \n",
    "    df['rating'].fillna(0,inplace=True)\n",
    "    df['ratingSignals'].fillna(0,inplace=True)\n",
    "    \n",
    "    return df.to_csv('data/treated_venues_details.csv')"
   ]
  },
  {
   "cell_type": "code",
   "execution_count": 84,
   "metadata": {},
   "outputs": [],
   "source": [
    "pre_process('data/raw_venues_details.json')"
   ]
  },
  {
   "cell_type": "markdown",
   "metadata": {},
   "source": [
    "## Data Prep - Stage 3"
   ]
  },
  {
   "cell_type": "code",
   "execution_count": 145,
   "metadata": {},
   "outputs": [],
   "source": [
    "def pre_process_stage3(treated_venues_data,treated_venues_details):\n",
    "    \n",
    "    venues_data = pd.read_csv(treated_venues_data)\n",
    "    venues_details = pd.read_csv(treated_venues_details)\n",
    "    \n",
    "    df = venues_data.merge(venues_details,left_on='id',right_on='id')\n",
    "    df.drop(['name_y','location.distance'],axis=1,inplace=True)\n",
    "    \n",
    "    return df\n",
    "\n",
    "def calculate_nta_scores(df):\n",
    "    df.drop(['Unnamed: 0','price'],axis='columns',inplace=True)\n",
    "    df_agg = df.groupby('ntaname').agg({'id':'count',\n",
    "                           'likes':'mean',\n",
    "                           'listed':'mean',\n",
    "                           'rating':'mean',\n",
    "                           'ratingSignals':'mean',\n",
    "                           'stats':'mean'})\n",
    "    \n",
    "    df_agg['grading'] = df_agg.rating * df_agg.ratingSignals / max(df_agg.rating * df_agg.ratingSignals)\n",
    "    df_agg['popularity'] = np.cbrt((df_agg.likes * df_agg.listed * df_agg.stats)) / max(np.cbrt((df_agg.likes * df_agg.listed * df_agg.stats)))\n",
    "    df_agg['quantity'] = df_agg.id / max(df_agg.id)\n",
    "    df_agg.reset_index(drop=False,inplace=True)\n",
    "    df_agg.rename({'id':'number_of_pizzerias','index':'ntaname'},axis=1,inplace=True)\n",
    "    \n",
    "    return df_agg"
   ]
  },
  {
   "cell_type": "code",
   "execution_count": 146,
   "metadata": {},
   "outputs": [],
   "source": [
    "df = calculate_nta_scores(pre_process_stage3('data/treated_venues_data.csv','data/treated_venues_details.csv'))"
   ]
  },
  {
   "cell_type": "code",
   "execution_count": 147,
   "metadata": {},
   "outputs": [
    {
     "data": {
      "text/html": [
       "<div>\n",
       "<style scoped>\n",
       "    .dataframe tbody tr th:only-of-type {\n",
       "        vertical-align: middle;\n",
       "    }\n",
       "\n",
       "    .dataframe tbody tr th {\n",
       "        vertical-align: top;\n",
       "    }\n",
       "\n",
       "    .dataframe thead th {\n",
       "        text-align: right;\n",
       "    }\n",
       "</style>\n",
       "<table border=\"1\" class=\"dataframe\">\n",
       "  <thead>\n",
       "    <tr style=\"text-align: right;\">\n",
       "      <th></th>\n",
       "      <th>ntaname</th>\n",
       "      <th>number_of_pizzerias</th>\n",
       "      <th>likes</th>\n",
       "      <th>listed</th>\n",
       "      <th>rating</th>\n",
       "      <th>ratingSignals</th>\n",
       "      <th>stats</th>\n",
       "      <th>grading</th>\n",
       "      <th>popularity</th>\n",
       "      <th>quantity</th>\n",
       "    </tr>\n",
       "  </thead>\n",
       "  <tbody>\n",
       "    <tr>\n",
       "      <th>0</th>\n",
       "      <td>Airport</td>\n",
       "      <td>16</td>\n",
       "      <td>9.875000</td>\n",
       "      <td>1.625000</td>\n",
       "      <td>3.356250</td>\n",
       "      <td>26.187500</td>\n",
       "      <td>9.437500</td>\n",
       "      <td>0.010351</td>\n",
       "      <td>0.009201</td>\n",
       "      <td>0.457143</td>\n",
       "    </tr>\n",
       "    <tr>\n",
       "      <th>1</th>\n",
       "      <td>Allerton-Pelham Gardens</td>\n",
       "      <td>5</td>\n",
       "      <td>18.800000</td>\n",
       "      <td>3.800000</td>\n",
       "      <td>5.600000</td>\n",
       "      <td>30.400000</td>\n",
       "      <td>7.400000</td>\n",
       "      <td>0.020050</td>\n",
       "      <td>0.013957</td>\n",
       "      <td>0.142857</td>\n",
       "    </tr>\n",
       "    <tr>\n",
       "      <th>2</th>\n",
       "      <td>Annadale-Huguenot-Prince's Bay-Eltingville</td>\n",
       "      <td>11</td>\n",
       "      <td>2.363636</td>\n",
       "      <td>0.272727</td>\n",
       "      <td>1.218182</td>\n",
       "      <td>1.818182</td>\n",
       "      <td>1.181818</td>\n",
       "      <td>0.000261</td>\n",
       "      <td>0.001577</td>\n",
       "      <td>0.314286</td>\n",
       "    </tr>\n",
       "    <tr>\n",
       "      <th>3</th>\n",
       "      <td>Arden Heights</td>\n",
       "      <td>2</td>\n",
       "      <td>6.500000</td>\n",
       "      <td>3.000000</td>\n",
       "      <td>3.850000</td>\n",
       "      <td>9.500000</td>\n",
       "      <td>3.500000</td>\n",
       "      <td>0.004308</td>\n",
       "      <td>0.007054</td>\n",
       "      <td>0.057143</td>\n",
       "    </tr>\n",
       "    <tr>\n",
       "      <th>4</th>\n",
       "      <td>Astoria</td>\n",
       "      <td>16</td>\n",
       "      <td>50.937500</td>\n",
       "      <td>56.812500</td>\n",
       "      <td>6.150000</td>\n",
       "      <td>74.250000</td>\n",
       "      <td>19.750000</td>\n",
       "      <td>0.053780</td>\n",
       "      <td>0.066491</td>\n",
       "      <td>0.457143</td>\n",
       "    </tr>\n",
       "  </tbody>\n",
       "</table>\n",
       "</div>"
      ],
      "text/plain": [
       "                                      ntaname  number_of_pizzerias      likes  \\\n",
       "0                                     Airport                   16   9.875000   \n",
       "1                     Allerton-Pelham Gardens                    5  18.800000   \n",
       "2  Annadale-Huguenot-Prince's Bay-Eltingville                   11   2.363636   \n",
       "3                               Arden Heights                    2   6.500000   \n",
       "4                                     Astoria                   16  50.937500   \n",
       "\n",
       "      listed    rating  ratingSignals      stats   grading  popularity  \\\n",
       "0   1.625000  3.356250      26.187500   9.437500  0.010351    0.009201   \n",
       "1   3.800000  5.600000      30.400000   7.400000  0.020050    0.013957   \n",
       "2   0.272727  1.218182       1.818182   1.181818  0.000261    0.001577   \n",
       "3   3.000000  3.850000       9.500000   3.500000  0.004308    0.007054   \n",
       "4  56.812500  6.150000      74.250000  19.750000  0.053780    0.066491   \n",
       "\n",
       "   quantity  \n",
       "0  0.457143  \n",
       "1  0.142857  \n",
       "2  0.314286  \n",
       "3  0.057143  \n",
       "4  0.457143  "
      ]
     },
     "execution_count": 147,
     "metadata": {},
     "output_type": "execute_result"
    }
   ],
   "source": [
    "df.head()"
   ]
  },
  {
   "cell_type": "code",
   "execution_count": 148,
   "metadata": {},
   "outputs": [],
   "source": [
    "raw = pd.read_csv('data/raw_nta_data.csv')"
   ]
  },
  {
   "cell_type": "code",
   "execution_count": 149,
   "metadata": {},
   "outputs": [],
   "source": [
    "treated_nta_data = raw.merge(df,left_on='ntaname',right_on='ntaname')"
   ]
  },
  {
   "cell_type": "code",
   "execution_count": 150,
   "metadata": {},
   "outputs": [
    {
     "name": "stdout",
     "output_type": "stream",
     "text": [
      "<class 'pandas.core.frame.DataFrame'>\n",
      "Int64Index: 174 entries, 0 to 173\n",
      "Data columns (total 15 columns):\n",
      "ntacode                174 non-null object\n",
      "ntaname                174 non-null object\n",
      "boroname               174 non-null object\n",
      "geometry               174 non-null object\n",
      "centroid_gpd           174 non-null object\n",
      "lat_long               174 non-null object\n",
      "number_of_pizzerias    174 non-null int64\n",
      "likes                  174 non-null float64\n",
      "listed                 174 non-null float64\n",
      "rating                 174 non-null float64\n",
      "ratingSignals          174 non-null float64\n",
      "stats                  174 non-null float64\n",
      "grading                174 non-null float64\n",
      "popularity             174 non-null float64\n",
      "quantity               174 non-null float64\n",
      "dtypes: float64(8), int64(1), object(6)\n",
      "memory usage: 21.8+ KB\n"
     ]
    }
   ],
   "source": [
    "treated_nta_data.info()"
   ]
  },
  {
   "cell_type": "code",
   "execution_count": 151,
   "metadata": {},
   "outputs": [],
   "source": [
    "treated_nta_data.to_csv('data/treated_nta_data.csv',index=False)"
   ]
  },
  {
   "cell_type": "markdown",
   "metadata": {},
   "source": [
    "## Modeling"
   ]
  },
  {
   "cell_type": "code",
   "execution_count": null,
   "metadata": {},
   "outputs": [],
   "source": []
  },
  {
   "cell_type": "code",
   "execution_count": null,
   "metadata": {},
   "outputs": [],
   "source": []
  },
  {
   "cell_type": "code",
   "execution_count": null,
   "metadata": {},
   "outputs": [],
   "source": []
  },
  {
   "cell_type": "code",
   "execution_count": null,
   "metadata": {},
   "outputs": [],
   "source": []
  },
  {
   "cell_type": "markdown",
   "metadata": {},
   "source": [
    "## Evaluation"
   ]
  },
  {
   "cell_type": "code",
   "execution_count": null,
   "metadata": {},
   "outputs": [],
   "source": []
  },
  {
   "cell_type": "code",
   "execution_count": null,
   "metadata": {},
   "outputs": [],
   "source": []
  },
  {
   "cell_type": "code",
   "execution_count": null,
   "metadata": {},
   "outputs": [],
   "source": []
  },
  {
   "cell_type": "code",
   "execution_count": null,
   "metadata": {},
   "outputs": [],
   "source": []
  },
  {
   "cell_type": "markdown",
   "metadata": {},
   "source": [
    "## Results"
   ]
  },
  {
   "cell_type": "code",
   "execution_count": null,
   "metadata": {},
   "outputs": [],
   "source": []
  }
 ],
 "metadata": {
  "kernelspec": {
   "display_name": "Python 3",
   "language": "python",
   "name": "python3"
  },
  "language_info": {
   "codemirror_mode": {
    "name": "ipython",
    "version": 3
   },
   "file_extension": ".py",
   "mimetype": "text/x-python",
   "name": "python",
   "nbconvert_exporter": "python",
   "pygments_lexer": "ipython3",
   "version": "3.7.5"
  }
 },
 "nbformat": 4,
 "nbformat_minor": 4
}

{
 "cells": [
  {
   "cell_type": "code",
   "execution_count": 89,
   "metadata": {},
   "outputs": [],
   "source": [
    "import json, requests\n",
    "import pandas as pd\n",
    "from tqdm import tqdm\n",
    "import time\n",
    "import numpy as np\n",
    "import geopandas as geopd\n",
    "import warnings\n",
    "import folium as fl\n",
    "from shapely import wkt\n",
    "from shapely.geometry import Point, MultiPolygon\n",
    "\n",
    "\n",
    "from sklearn.cluster import KMeans \n",
    "from yellowbrick.cluster import KElbowVisualizer\n",
    "\n",
    "import plotly.express as px\n",
    "\n",
    "\n",
    "warnings.filterwarnings('ignore')"
   ]
  },
  {
   "cell_type": "markdown",
   "metadata": {},
   "source": [
    "## Business Understanding\n",
    "\n",
    "### Problem Framing"
   ]
  },
  {
   "cell_type": "code",
   "execution_count": null,
   "metadata": {},
   "outputs": [],
   "source": []
  },
  {
   "cell_type": "code",
   "execution_count": null,
   "metadata": {},
   "outputs": [],
   "source": []
  },
  {
   "cell_type": "code",
   "execution_count": null,
   "metadata": {},
   "outputs": [],
   "source": []
  },
  {
   "cell_type": "markdown",
   "metadata": {},
   "source": [
    "## Getting data - Stage 1"
   ]
  },
  {
   "cell_type": "code",
   "execution_count": 5,
   "metadata": {},
   "outputs": [],
   "source": [
    "def get_geo_data():\n",
    "        \n",
    "    print('> Creating the geo_dataframe.')\n",
    "    \n",
    "    geo_df = geopd.read_file('https://data.cityofnewyork.us/api/geospatial/d3qk-pfyz?method=export&format=GeoJSON')\n",
    "    geo_df['centroid_gpd'] = geo_df.geometry.centroid\n",
    "    geo_df['lat_long'] = 0\n",
    "    \n",
    "    print('> Getting the centroids coordinates (lat/long).')\n",
    "    \n",
    "    time.sleep(0.7)\n",
    "    \n",
    "    for i in tqdm(range(len(geo_df)),ncols=150):\n",
    "        \n",
    "        centroid_lat_long = np.array(geo_df.centroid_gpd[i])\n",
    "        geo_df.loc[i,'lat_long'] = [str(centroid_lat_long[1])+','+str(centroid_lat_long[0])]\n",
    "    \n",
    "    print('> Done.')\n",
    "    \n",
    "    return geo_df\n",
    "\n",
    "def get_foursquare_search_data(location):\n",
    "\n",
    "    params = dict(\n",
    "        client_id='UTCC2TLL2HALAQM2CAP3UK4SPVA4PSJFP32OW3WKD0PJAFLF',\n",
    "        client_secret='TMRMFTUYEWR3E5ISBAGFIXX10FZE0TVVSPL5LPRLUWSQZEAW',\n",
    "        ll = location,\n",
    "        radius = 5000,\n",
    "        limit = 100,\n",
    "        v = '20191122',\n",
    "        intent='browse',\n",
    "        categoryId = '4bf58dd8d48988d1ca941735')\n",
    "    \n",
    "    url = 'https://api.foursquare.com/v2/venues/search?'\n",
    "    pizzeria_data = requests.get(url = url, params= params)\n",
    "    \n",
    "    if pizzeria_data.ok:\n",
    "        \n",
    "        #return pizzeria_data.json()['response']['venues']\n",
    "        return pd.io.json.json_normalize(pizzeria_data.json()['response']['venues'])\n",
    "    \n",
    "    else:\n",
    "        \n",
    "        raise Exception('Could not get the data: ',pizzeria_data.status_code)\n",
    "        \n",
    "        \n",
    "def get_pizzerias_from_nta_centroids(centroids):\n",
    "    \n",
    "    pizza_nta = []\n",
    "        \n",
    "    for centroid in tqdm(centroids):\n",
    "        \n",
    "        data = pizza_nta.append(get_foursquare_search_data(location=centroid))\n",
    "    \n",
    "    df = pd.DataFrame()\n",
    "        \n",
    "    for i in tqdm(range(len(pizza_nta))):\n",
    "        df = pd.concat([df,pd.DataFrame.from_dict(pizza_nta[i])])\n",
    "        \n",
    "    df.reset_index(drop=True,inplace=True)    \n",
    "    \n",
    "    return df"
   ]
  },
  {
   "cell_type": "code",
   "execution_count": 6,
   "metadata": {},
   "outputs": [
    {
     "name": "stdout",
     "output_type": "stream",
     "text": [
      "> Creating the geo_dataframe.\n",
      "> Getting the centroids coordinates (lat/long).\n"
     ]
    },
    {
     "name": "stderr",
     "output_type": "stream",
     "text": [
      "100%|█████████████████████████████████████████████████████████████████████████████████████████████████████████████| 195/195 [00:00<00:00, 1508.32it/s]"
     ]
    },
    {
     "name": "stdout",
     "output_type": "stream",
     "text": [
      "> Done.\n"
     ]
    },
    {
     "name": "stderr",
     "output_type": "stream",
     "text": [
      "\n"
     ]
    }
   ],
   "source": [
    "## getting the nta data from nyc open data\n",
    "\n",
    "nyc_nta = get_geo_data()\n",
    "\n",
    "## dropping columns that will not need\n",
    "\n",
    "nyc_nta.drop(['shape_area','shape_leng','borocode','countyfips'],axis=1,inplace=True)"
   ]
  },
  {
   "cell_type": "code",
   "execution_count": 7,
   "metadata": {},
   "outputs": [
    {
     "data": {
      "text/html": [
       "<div>\n",
       "<style scoped>\n",
       "    .dataframe tbody tr th:only-of-type {\n",
       "        vertical-align: middle;\n",
       "    }\n",
       "\n",
       "    .dataframe tbody tr th {\n",
       "        vertical-align: top;\n",
       "    }\n",
       "\n",
       "    .dataframe thead th {\n",
       "        text-align: right;\n",
       "    }\n",
       "</style>\n",
       "<table border=\"1\" class=\"dataframe\">\n",
       "  <thead>\n",
       "    <tr style=\"text-align: right;\">\n",
       "      <th></th>\n",
       "      <th>ntacode</th>\n",
       "      <th>ntaname</th>\n",
       "      <th>boroname</th>\n",
       "      <th>geometry</th>\n",
       "      <th>centroid_gpd</th>\n",
       "      <th>lat_long</th>\n",
       "    </tr>\n",
       "  </thead>\n",
       "  <tbody>\n",
       "    <tr>\n",
       "      <th>0</th>\n",
       "      <td>BK43</td>\n",
       "      <td>Midwood</td>\n",
       "      <td>Brooklyn</td>\n",
       "      <td>MULTIPOLYGON (((-73.94733 40.62917, -73.94687 ...</td>\n",
       "      <td>POINT (-73.95682 40.62092)</td>\n",
       "      <td>40.620924048798294,-73.95682460579987</td>\n",
       "    </tr>\n",
       "    <tr>\n",
       "      <th>1</th>\n",
       "      <td>BK75</td>\n",
       "      <td>Bedford</td>\n",
       "      <td>Brooklyn</td>\n",
       "      <td>MULTIPOLYGON (((-73.94193 40.70073, -73.94439 ...</td>\n",
       "      <td>POINT (-73.94991 40.69151)</td>\n",
       "      <td>40.691507495068585,-73.94990503494105</td>\n",
       "    </tr>\n",
       "    <tr>\n",
       "      <th>2</th>\n",
       "      <td>BX40</td>\n",
       "      <td>Fordham South</td>\n",
       "      <td>Bronx</td>\n",
       "      <td>MULTIPOLYGON (((-73.89138 40.86170, -73.89106 ...</td>\n",
       "      <td>POINT (-73.89954 40.85816)</td>\n",
       "      <td>40.858155196233064,-73.89953593415377</td>\n",
       "    </tr>\n",
       "    <tr>\n",
       "      <th>3</th>\n",
       "      <td>BK88</td>\n",
       "      <td>Borough Park</td>\n",
       "      <td>Brooklyn</td>\n",
       "      <td>MULTIPOLYGON (((-73.97605 40.63128, -73.97717 ...</td>\n",
       "      <td>POINT (-73.98866 40.63095)</td>\n",
       "      <td>40.63094965540432,-73.98866123069084</td>\n",
       "    </tr>\n",
       "    <tr>\n",
       "      <th>4</th>\n",
       "      <td>BK96</td>\n",
       "      <td>Rugby-Remsen Village</td>\n",
       "      <td>Brooklyn</td>\n",
       "      <td>MULTIPOLYGON (((-73.90856 40.65210, -73.90945 ...</td>\n",
       "      <td>POINT (-73.92225 40.65236)</td>\n",
       "      <td>40.652364804102795,-73.92225097387865</td>\n",
       "    </tr>\n",
       "  </tbody>\n",
       "</table>\n",
       "</div>"
      ],
      "text/plain": [
       "  ntacode               ntaname  boroname  \\\n",
       "0    BK43               Midwood  Brooklyn   \n",
       "1    BK75               Bedford  Brooklyn   \n",
       "2    BX40         Fordham South     Bronx   \n",
       "3    BK88          Borough Park  Brooklyn   \n",
       "4    BK96  Rugby-Remsen Village  Brooklyn   \n",
       "\n",
       "                                            geometry  \\\n",
       "0  MULTIPOLYGON (((-73.94733 40.62917, -73.94687 ...   \n",
       "1  MULTIPOLYGON (((-73.94193 40.70073, -73.94439 ...   \n",
       "2  MULTIPOLYGON (((-73.89138 40.86170, -73.89106 ...   \n",
       "3  MULTIPOLYGON (((-73.97605 40.63128, -73.97717 ...   \n",
       "4  MULTIPOLYGON (((-73.90856 40.65210, -73.90945 ...   \n",
       "\n",
       "                 centroid_gpd                               lat_long  \n",
       "0  POINT (-73.95682 40.62092)  40.620924048798294,-73.95682460579987  \n",
       "1  POINT (-73.94991 40.69151)  40.691507495068585,-73.94990503494105  \n",
       "2  POINT (-73.89954 40.85816)  40.858155196233064,-73.89953593415377  \n",
       "3  POINT (-73.98866 40.63095)   40.63094965540432,-73.98866123069084  \n",
       "4  POINT (-73.92225 40.65236)  40.652364804102795,-73.92225097387865  "
      ]
     },
     "execution_count": 7,
     "metadata": {},
     "output_type": "execute_result"
    }
   ],
   "source": [
    "## inspecting the geodataframe [1]\n",
    "\n",
    "nyc_nta.head()"
   ]
  },
  {
   "cell_type": "code",
   "execution_count": 42,
   "metadata": {},
   "outputs": [
    {
     "name": "stdout",
     "output_type": "stream",
     "text": [
      "<class 'geopandas.geodataframe.GeoDataFrame'>\n",
      "RangeIndex: 195 entries, 0 to 194\n",
      "Data columns (total 6 columns):\n",
      "ntacode         195 non-null object\n",
      "ntaname         195 non-null object\n",
      "boroname        195 non-null object\n",
      "geometry        195 non-null geometry\n",
      "centroid_gpd    195 non-null geometry\n",
      "lat_long        195 non-null object\n",
      "dtypes: geometry(2), object(4)\n",
      "memory usage: 9.3+ KB\n"
     ]
    }
   ],
   "source": [
    "## inspecting the geodataframe [2]\n",
    "\n",
    "nyc_nta.info()"
   ]
  },
  {
   "cell_type": "code",
   "execution_count": 44,
   "metadata": {},
   "outputs": [
    {
     "data": {
      "text/plain": [
       "ntacode         0\n",
       "ntaname         0\n",
       "boroname        0\n",
       "geometry        0\n",
       "centroid_gpd    0\n",
       "lat_long        0\n",
       "dtype: int64"
      ]
     },
     "execution_count": 44,
     "metadata": {},
     "output_type": "execute_result"
    }
   ],
   "source": [
    "## inspecting the geodataframe [3]\n",
    "\n",
    "nyc_nta.isna().sum()"
   ]
  },
  {
   "cell_type": "code",
   "execution_count": 46,
   "metadata": {},
   "outputs": [
    {
     "name": "stderr",
     "output_type": "stream",
     "text": [
      "100%|██████████| 195/195 [02:00<00:00,  1.61it/s]\n",
      "100%|██████████| 195/195 [00:03<00:00, 60.59it/s]\n"
     ]
    }
   ],
   "source": [
    "## using the lat_long column to request the search API from foursquare\n",
    "\n",
    "df = get_pizzerias_from_nta_centroids(nyc_nta.lat_long)"
   ]
  },
  {
   "cell_type": "code",
   "execution_count": 47,
   "metadata": {},
   "outputs": [
    {
     "data": {
      "text/html": [
       "<div>\n",
       "<style scoped>\n",
       "    .dataframe tbody tr th:only-of-type {\n",
       "        vertical-align: middle;\n",
       "    }\n",
       "\n",
       "    .dataframe tbody tr th {\n",
       "        vertical-align: top;\n",
       "    }\n",
       "\n",
       "    .dataframe thead th {\n",
       "        text-align: right;\n",
       "    }\n",
       "</style>\n",
       "<table border=\"1\" class=\"dataframe\">\n",
       "  <thead>\n",
       "    <tr style=\"text-align: right;\">\n",
       "      <th></th>\n",
       "      <th>categories</th>\n",
       "      <th>delivery.id</th>\n",
       "      <th>delivery.provider.icon.name</th>\n",
       "      <th>delivery.provider.icon.prefix</th>\n",
       "      <th>delivery.provider.icon.sizes</th>\n",
       "      <th>delivery.provider.name</th>\n",
       "      <th>delivery.url</th>\n",
       "      <th>hasPerk</th>\n",
       "      <th>id</th>\n",
       "      <th>location.address</th>\n",
       "      <th>...</th>\n",
       "      <th>location.formattedAddress</th>\n",
       "      <th>location.labeledLatLngs</th>\n",
       "      <th>location.lat</th>\n",
       "      <th>location.lng</th>\n",
       "      <th>location.neighborhood</th>\n",
       "      <th>location.postalCode</th>\n",
       "      <th>location.state</th>\n",
       "      <th>name</th>\n",
       "      <th>referralId</th>\n",
       "      <th>venuePage.id</th>\n",
       "    </tr>\n",
       "  </thead>\n",
       "  <tbody>\n",
       "    <tr>\n",
       "      <th>0</th>\n",
       "      <td>[{'id': '4bf58dd8d48988d1ca941735', 'name': 'P...</td>\n",
       "      <td>1148888</td>\n",
       "      <td>/delivery_provider_seamless_20180129.png</td>\n",
       "      <td>https://fastly.4sqi.net/img/general/cap/</td>\n",
       "      <td>[40, 50]</td>\n",
       "      <td>seamless</td>\n",
       "      <td>https://www.seamless.com/menu/lb-spumoni-garde...</td>\n",
       "      <td>False</td>\n",
       "      <td>49d006ccf964a520f85a1fe3</td>\n",
       "      <td>2725 86th St</td>\n",
       "      <td>...</td>\n",
       "      <td>[2725 86th St (at W 10th St), Brooklyn, NY 112...</td>\n",
       "      <td>[{'label': 'display', 'lat': 40.59457745537681...</td>\n",
       "      <td>40.594577</td>\n",
       "      <td>-73.981458</td>\n",
       "      <td>NaN</td>\n",
       "      <td>11223</td>\n",
       "      <td>NY</td>\n",
       "      <td>L&amp;B Spumoni Gardens</td>\n",
       "      <td>v-1574765059</td>\n",
       "      <td>94425361</td>\n",
       "    </tr>\n",
       "    <tr>\n",
       "      <th>1</th>\n",
       "      <td>[{'id': '4bf58dd8d48988d1ca941735', 'name': 'P...</td>\n",
       "      <td>1035645</td>\n",
       "      <td>/delivery_provider_seamless_20180129.png</td>\n",
       "      <td>https://fastly.4sqi.net/img/general/cap/</td>\n",
       "      <td>[40, 50]</td>\n",
       "      <td>seamless</td>\n",
       "      <td>https://www.seamless.com/menu/di-fara-pizza-14...</td>\n",
       "      <td>False</td>\n",
       "      <td>40be6a00f964a520c4001fe3</td>\n",
       "      <td>1424 Avenue J</td>\n",
       "      <td>...</td>\n",
       "      <td>[1424 Avenue J (at E 15th St), Brooklyn, NY 11...</td>\n",
       "      <td>[{'label': 'display', 'lat': 40.62513471122533...</td>\n",
       "      <td>40.625135</td>\n",
       "      <td>-73.961479</td>\n",
       "      <td>NaN</td>\n",
       "      <td>11230</td>\n",
       "      <td>NY</td>\n",
       "      <td>Di Fara Pizza</td>\n",
       "      <td>v-1574765059</td>\n",
       "      <td>95765712</td>\n",
       "    </tr>\n",
       "    <tr>\n",
       "      <th>2</th>\n",
       "      <td>[{'id': '4bf58dd8d48988d11e941735', 'name': 'C...</td>\n",
       "      <td>NaN</td>\n",
       "      <td>NaN</td>\n",
       "      <td>NaN</td>\n",
       "      <td>NaN</td>\n",
       "      <td>NaN</td>\n",
       "      <td>NaN</td>\n",
       "      <td>False</td>\n",
       "      <td>563580bd498e59191f37606e</td>\n",
       "      <td>705 Flatbush Ave</td>\n",
       "      <td>...</td>\n",
       "      <td>[705 Flatbush Ave (Parkside And Winthrop), Bro...</td>\n",
       "      <td>[{'label': 'display', 'lat': 40.65591812487629...</td>\n",
       "      <td>40.655918</td>\n",
       "      <td>-73.959928</td>\n",
       "      <td>NaN</td>\n",
       "      <td>11225</td>\n",
       "      <td>NY</td>\n",
       "      <td>Parkside</td>\n",
       "      <td>v-1574765059</td>\n",
       "      <td>NaN</td>\n",
       "    </tr>\n",
       "    <tr>\n",
       "      <th>3</th>\n",
       "      <td>[{'id': '4bf58dd8d48988d1ca941735', 'name': 'P...</td>\n",
       "      <td>751754</td>\n",
       "      <td>/delivery_provider_seamless_20180129.png</td>\n",
       "      <td>https://fastly.4sqi.net/img/general/cap/</td>\n",
       "      <td>[40, 50]</td>\n",
       "      <td>seamless</td>\n",
       "      <td>https://www.seamless.com/menu/papa-johns-3408-...</td>\n",
       "      <td>False</td>\n",
       "      <td>4b64e55af964a52031d82ae3</td>\n",
       "      <td>601 Rogers Ave</td>\n",
       "      <td>...</td>\n",
       "      <td>[601 Rogers Ave (Winthrop St.), Brooklyn, NY 1...</td>\n",
       "      <td>[{'label': 'display', 'lat': 40.65706260104479...</td>\n",
       "      <td>40.657063</td>\n",
       "      <td>-73.952911</td>\n",
       "      <td>NaN</td>\n",
       "      <td>11225</td>\n",
       "      <td>NY</td>\n",
       "      <td>Papa John's Pizza</td>\n",
       "      <td>v-1574765059</td>\n",
       "      <td>NaN</td>\n",
       "    </tr>\n",
       "    <tr>\n",
       "      <th>4</th>\n",
       "      <td>[{'id': '4bf58dd8d48988d1ca941735', 'name': 'P...</td>\n",
       "      <td>NaN</td>\n",
       "      <td>NaN</td>\n",
       "      <td>NaN</td>\n",
       "      <td>NaN</td>\n",
       "      <td>NaN</td>\n",
       "      <td>NaN</td>\n",
       "      <td>False</td>\n",
       "      <td>4baec97df964a520fed73be3</td>\n",
       "      <td>1324 Avenue J</td>\n",
       "      <td>...</td>\n",
       "      <td>[1324 Avenue J (at E 14th St), Brooklyn, NY 11...</td>\n",
       "      <td>[{'label': 'display', 'lat': 40.62505248036124...</td>\n",
       "      <td>40.625052</td>\n",
       "      <td>-73.962342</td>\n",
       "      <td>NaN</td>\n",
       "      <td>11230</td>\n",
       "      <td>NY</td>\n",
       "      <td>Pizza Time</td>\n",
       "      <td>v-1574765059</td>\n",
       "      <td>NaN</td>\n",
       "    </tr>\n",
       "  </tbody>\n",
       "</table>\n",
       "<p>5 rows × 25 columns</p>\n",
       "</div>"
      ],
      "text/plain": [
       "                                          categories delivery.id  \\\n",
       "0  [{'id': '4bf58dd8d48988d1ca941735', 'name': 'P...     1148888   \n",
       "1  [{'id': '4bf58dd8d48988d1ca941735', 'name': 'P...     1035645   \n",
       "2  [{'id': '4bf58dd8d48988d11e941735', 'name': 'C...         NaN   \n",
       "3  [{'id': '4bf58dd8d48988d1ca941735', 'name': 'P...      751754   \n",
       "4  [{'id': '4bf58dd8d48988d1ca941735', 'name': 'P...         NaN   \n",
       "\n",
       "                delivery.provider.icon.name  \\\n",
       "0  /delivery_provider_seamless_20180129.png   \n",
       "1  /delivery_provider_seamless_20180129.png   \n",
       "2                                       NaN   \n",
       "3  /delivery_provider_seamless_20180129.png   \n",
       "4                                       NaN   \n",
       "\n",
       "              delivery.provider.icon.prefix delivery.provider.icon.sizes  \\\n",
       "0  https://fastly.4sqi.net/img/general/cap/                     [40, 50]   \n",
       "1  https://fastly.4sqi.net/img/general/cap/                     [40, 50]   \n",
       "2                                       NaN                          NaN   \n",
       "3  https://fastly.4sqi.net/img/general/cap/                     [40, 50]   \n",
       "4                                       NaN                          NaN   \n",
       "\n",
       "  delivery.provider.name                                       delivery.url  \\\n",
       "0               seamless  https://www.seamless.com/menu/lb-spumoni-garde...   \n",
       "1               seamless  https://www.seamless.com/menu/di-fara-pizza-14...   \n",
       "2                    NaN                                                NaN   \n",
       "3               seamless  https://www.seamless.com/menu/papa-johns-3408-...   \n",
       "4                    NaN                                                NaN   \n",
       "\n",
       "   hasPerk                        id  location.address  ...  \\\n",
       "0    False  49d006ccf964a520f85a1fe3      2725 86th St  ...   \n",
       "1    False  40be6a00f964a520c4001fe3     1424 Avenue J  ...   \n",
       "2    False  563580bd498e59191f37606e  705 Flatbush Ave  ...   \n",
       "3    False  4b64e55af964a52031d82ae3    601 Rogers Ave  ...   \n",
       "4    False  4baec97df964a520fed73be3     1324 Avenue J  ...   \n",
       "\n",
       "                           location.formattedAddress  \\\n",
       "0  [2725 86th St (at W 10th St), Brooklyn, NY 112...   \n",
       "1  [1424 Avenue J (at E 15th St), Brooklyn, NY 11...   \n",
       "2  [705 Flatbush Ave (Parkside And Winthrop), Bro...   \n",
       "3  [601 Rogers Ave (Winthrop St.), Brooklyn, NY 1...   \n",
       "4  [1324 Avenue J (at E 14th St), Brooklyn, NY 11...   \n",
       "\n",
       "                             location.labeledLatLngs location.lat  \\\n",
       "0  [{'label': 'display', 'lat': 40.59457745537681...    40.594577   \n",
       "1  [{'label': 'display', 'lat': 40.62513471122533...    40.625135   \n",
       "2  [{'label': 'display', 'lat': 40.65591812487629...    40.655918   \n",
       "3  [{'label': 'display', 'lat': 40.65706260104479...    40.657063   \n",
       "4  [{'label': 'display', 'lat': 40.62505248036124...    40.625052   \n",
       "\n",
       "  location.lng  location.neighborhood location.postalCode location.state  \\\n",
       "0   -73.981458                    NaN               11223             NY   \n",
       "1   -73.961479                    NaN               11230             NY   \n",
       "2   -73.959928                    NaN               11225             NY   \n",
       "3   -73.952911                    NaN               11225             NY   \n",
       "4   -73.962342                    NaN               11230             NY   \n",
       "\n",
       "                  name    referralId venuePage.id  \n",
       "0  L&B Spumoni Gardens  v-1574765059     94425361  \n",
       "1        Di Fara Pizza  v-1574765059     95765712  \n",
       "2             Parkside  v-1574765059          NaN  \n",
       "3    Papa John's Pizza  v-1574765059          NaN  \n",
       "4           Pizza Time  v-1574765059          NaN  \n",
       "\n",
       "[5 rows x 25 columns]"
      ]
     },
     "execution_count": 47,
     "metadata": {},
     "output_type": "execute_result"
    }
   ],
   "source": [
    "## inspecting the pizzeria data [1]\n",
    "\n",
    "df.head()"
   ]
  },
  {
   "cell_type": "code",
   "execution_count": 48,
   "metadata": {},
   "outputs": [
    {
     "name": "stdout",
     "output_type": "stream",
     "text": [
      "<class 'pandas.core.frame.DataFrame'>\n",
      "RangeIndex: 7882 entries, 0 to 7881\n",
      "Data columns (total 25 columns):\n",
      "categories                       7882 non-null object\n",
      "delivery.id                      3634 non-null object\n",
      "delivery.provider.icon.name      3634 non-null object\n",
      "delivery.provider.icon.prefix    3634 non-null object\n",
      "delivery.provider.icon.sizes     3634 non-null object\n",
      "delivery.provider.name           3634 non-null object\n",
      "delivery.url                     3634 non-null object\n",
      "hasPerk                          7882 non-null bool\n",
      "id                               7882 non-null object\n",
      "location.address                 7617 non-null object\n",
      "location.cc                      7882 non-null object\n",
      "location.city                    7853 non-null object\n",
      "location.country                 7882 non-null object\n",
      "location.crossStreet             5021 non-null object\n",
      "location.distance                7882 non-null int64\n",
      "location.formattedAddress        7882 non-null object\n",
      "location.labeledLatLngs          7882 non-null object\n",
      "location.lat                     7882 non-null float64\n",
      "location.lng                     7882 non-null float64\n",
      "location.neighborhood            408 non-null object\n",
      "location.postalCode              7719 non-null object\n",
      "location.state                   7882 non-null object\n",
      "name                             7882 non-null object\n",
      "referralId                       7882 non-null object\n",
      "venuePage.id                     1792 non-null object\n",
      "dtypes: bool(1), float64(2), int64(1), object(21)\n",
      "memory usage: 1.5+ MB\n"
     ]
    }
   ],
   "source": [
    "## inspecting the pizzeria data [2]\n",
    "\n",
    "df.info()"
   ]
  },
  {
   "cell_type": "code",
   "execution_count": 49,
   "metadata": {},
   "outputs": [
    {
     "data": {
      "text/plain": [
       "categories                          0\n",
       "delivery.id                      4248\n",
       "delivery.provider.icon.name      4248\n",
       "delivery.provider.icon.prefix    4248\n",
       "delivery.provider.icon.sizes     4248\n",
       "delivery.provider.name           4248\n",
       "delivery.url                     4248\n",
       "hasPerk                             0\n",
       "id                                  0\n",
       "location.address                  265\n",
       "location.cc                         0\n",
       "location.city                      29\n",
       "location.country                    0\n",
       "location.crossStreet             2861\n",
       "location.distance                   0\n",
       "location.formattedAddress           0\n",
       "location.labeledLatLngs             0\n",
       "location.lat                        0\n",
       "location.lng                        0\n",
       "location.neighborhood            7474\n",
       "location.postalCode               163\n",
       "location.state                      0\n",
       "name                                0\n",
       "referralId                          0\n",
       "venuePage.id                     6090\n",
       "dtype: int64"
      ]
     },
     "execution_count": 49,
     "metadata": {},
     "output_type": "execute_result"
    }
   ],
   "source": [
    "## inspecting the pizzeria data [3]\n",
    "\n",
    "df.isna().sum()"
   ]
  },
  {
   "cell_type": "code",
   "execution_count": 51,
   "metadata": {},
   "outputs": [],
   "source": [
    "## saving the pizzerias data for further use\n",
    "\n",
    "df.to_csv('data/raw_venues_data.csv',index=False)"
   ]
  },
  {
   "cell_type": "code",
   "execution_count": 52,
   "metadata": {},
   "outputs": [],
   "source": [
    "## saving the nta data from further use. \n",
    "\n",
    "## Obs.: I've tried saving as a geojson but I couldn't due to some error,\n",
    "## I'm saving as csv and later i'll need to treat the geometry column and recreate the centroid data\n",
    "\n",
    "\n",
    "nyc_nta.to_csv('data/raw_nta_data.csv',index=False)"
   ]
  },
  {
   "cell_type": "code",
   "execution_count": 57,
   "metadata": {},
   "outputs": [],
   "source": [
    "del nyc_nta\n",
    "del df"
   ]
  },
  {
   "cell_type": "markdown",
   "metadata": {},
   "source": [
    "## Data Prep - Stage 1"
   ]
  },
  {
   "cell_type": "code",
   "execution_count": 69,
   "metadata": {},
   "outputs": [],
   "source": [
    "def pre_process_raw(df):\n",
    "    df.drop(['categories','delivery.id','delivery.provider.icon.name','delivery.provider.icon.prefix',\n",
    "             'delivery.provider.icon.sizes','delivery.provider.name','delivery.url','hasPerk',\n",
    "             'location.labeledLatLngs','referralId', 'venuePage.id','location.neighborhood'],axis=1,inplace=True)\n",
    "    df.drop_duplicates('id',inplace=True)\n",
    "    df.reset_index(drop=True,inplace=True)\n",
    "    \n",
    "    return df\n",
    "\n",
    "def create_point_shape(df):\n",
    "    \n",
    "    points_series = []\n",
    "    \n",
    "    for value in zip(df['location.lng'],df['location.lat']):\n",
    "        points_series.append(Point(value))\n",
    "    \n",
    "    df['location.point'] = points_series\n",
    "    \n",
    "    return df\n",
    "\n",
    "def find_nta_name_from_pizzaria(df):\n",
    "    \n",
    "    geodf = geopd.read_file('https://data.cityofnewyork.us/api/geospatial/d3qk-pfyz?method=export&format=GeoJSON')\n",
    "    \n",
    "    choro = geodf.geometry\n",
    "    \n",
    "    df['ntaname'] = ''\n",
    "\n",
    "    for i,point in enumerate(df['location.point']):\n",
    "    \n",
    "        for nta,poly in zip(geodf['ntaname'],geodf['geometry']):\n",
    "        \n",
    "            if poly.contains(point):\n",
    "            \n",
    "                df.loc[i,'ntaname'] = nta\n",
    "    \n",
    "    df.drop(df[df.ntaname == ''].index,axis=0,inplace=True)\n",
    "    \n",
    "    return df, [choro]\n",
    "\n",
    "def create_folium_map(df,choros):\n",
    "    \n",
    "    m = fl.Map(location=['40.64554010471746','-73.90272819297329'],tiles='Stamen Toner')\n",
    "\n",
    "    for choro in choros:\n",
    "        fl.Choropleth(geo_data=choro,line_weight=2,line_color='red',fill_color='gray',name='NTAs').add_to(m)\n",
    "\n",
    "    for lat,long,name,ntaname in zip(df['location.lat'],df['location.lng'],df['name'],df['ntaname']):\n",
    "    \n",
    "        popup = '**{}** in {}'.format(name,ntaname)\n",
    "    \n",
    "        fl.Marker(location=[str(lat),str(long)],popup=popup).add_to(m)    \n",
    "    \n",
    "    m.save('report/map_nta_pizzeiras.html')\n",
    "    \n",
    "def stage1_pre_processing(raw_venues_path):\n",
    "    \n",
    "    df = pd.read_csv(raw_venues_path)\n",
    "    \n",
    "    df = pre_process_raw(df)\n",
    "    df = create_point_shape(df)\n",
    "    df,choros = find_nta_name_from_pizzaria(df)\n",
    "    create_folium_map(df,choros)\n",
    "    \n",
    "    return df.to_csv('data/treated_venues_data.csv',index=False)"
   ]
  },
  {
   "cell_type": "code",
   "execution_count": 70,
   "metadata": {},
   "outputs": [],
   "source": [
    "stage1_pre_processing('data/raw_venues_data.csv')"
   ]
  },
  {
   "cell_type": "markdown",
   "metadata": {},
   "source": [
    "## Getting data - Stage 2"
   ]
  },
  {
   "cell_type": "code",
   "execution_count": 75,
   "metadata": {},
   "outputs": [],
   "source": [
    "def get_one_vanue_details(venue_id):\n",
    "    \n",
    "    CLIENT_ID = 'UTCC2TLL2HALAQM2CAP3UK4SPVA4PSJFP32OW3WKD0PJAFLF'\n",
    "    CLIENT_SECRET = 'TMRMFTUYEWR3E5ISBAGFIXX10FZE0TVVSPL5LPRLUWSQZEAW'\n",
    "    VERSION='20191109'\n",
    "    \n",
    "    url = 'https://api.foursquare.com/v2/venues/{}?client_id={}&client_secret={}&v={}'.format(venue_id, CLIENT_ID, CLIENT_SECRET, VERSION)\n",
    "    \n",
    "    pizzaria_details = requests.get(url)\n",
    "    \n",
    "    if pizzaria_details.ok: \n",
    "        return pizzaria_details.json()['response']['venue']\n",
    "    \n",
    "    elif pizzaria_details.status_code == 429:\n",
    "                \n",
    "        CLIENT_ID = 'C3X5ON0TBSJM3TUPZ3WVFAE5LNF2ZC3SDAW2HFFCHLWBJX0D'\n",
    "        CLIENT_SECRET = 'OJXPOLZZCOKJJ0VUGXCUJWNCXKOYFGQRZZMWVVYQ4KA2TLM5'\n",
    "        VERSION='20191109'\n",
    "    \n",
    "        url = 'https://api.foursquare.com/v2/venues/{}?client_id={}&client_secret={}&v={}'.format(venue_id, CLIENT_ID, CLIENT_SECRET, VERSION)\n",
    "    \n",
    "        pizzaria_details = requests.get(url)\n",
    "    \n",
    "        return pizzaria_details.json()['response']['venue']\n",
    "    \n",
    "    \n",
    "    else:\n",
    "        raise Exception('Could not get the data: ',pizzaria_details.status_code)\n",
    "\n",
    "def get_all_venues_details(df):\n",
    "\n",
    "    details_dict = {}\n",
    "\n",
    "    for pizzaria in tqdm(df.id,ncols=150):\n",
    "        details_dict[pizzaria] = get_one_vanue_details(pizzaria)\n",
    "    \n",
    "    return details_dict"
   ]
  },
  {
   "cell_type": "code",
   "execution_count": 78,
   "metadata": {},
   "outputs": [],
   "source": [
    "treated_venues_dataframe = pd.read_csv('data/treated_venues_data.csv')"
   ]
  },
  {
   "cell_type": "code",
   "execution_count": 79,
   "metadata": {},
   "outputs": [
    {
     "name": "stderr",
     "output_type": "stream",
     "text": [
      "100%|███████████████████████████████████████████████████████████████████████████████████████████████████████████████| 903/903 [13:01<00:00,  1.16it/s]\n"
     ]
    }
   ],
   "source": [
    "venues_details = get_all_venues_details(df)"
   ]
  },
  {
   "cell_type": "code",
   "execution_count": 80,
   "metadata": {},
   "outputs": [],
   "source": [
    "with open('data/raw_venues_details.json', 'w') as file:\n",
    "    json.dump(venues_details,file)"
   ]
  },
  {
   "cell_type": "markdown",
   "metadata": {},
   "source": [
    "## Data Prep - Stage 2"
   ]
  },
  {
   "cell_type": "code",
   "execution_count": 82,
   "metadata": {},
   "outputs": [],
   "source": [
    "def get_likes(value):\n",
    "    return int(value['count'])\n",
    "\n",
    "def get_listed(value):\n",
    "    return int(value['count'])\n",
    "\n",
    "def get_price_tier(value):\n",
    "    \n",
    "    if value == 0:\n",
    "        return 0\n",
    "    else:\n",
    "        return value['tier']\n",
    "\n",
    "def get_stats(value):\n",
    "    return int(value['tipCount'])\n",
    "\n",
    "\n",
    "def pre_process(json_path):\n",
    "    \n",
    "    df = pd.read_json(json_path,orient='index')\n",
    "    df.reset_index(inplace=True,drop=True)\n",
    "    df.drop(['allowMenuUrlEdit','attributes','beenHere',\n",
    "         'bestPhoto','categories','colors','contact',\n",
    "         'createdAt','delivery','description','dislike',\n",
    "         'hasMenu', 'hereNow','hierarchy','hours',\n",
    "         'inbox','menu','ok','page','pageUpdates',\n",
    "         'parent','photos','popular','ratingColor',\n",
    "         'reasons', 'shortUrl','specials', 'storeId', \n",
    "         'timeZone', 'tips', 'url', 'venuePage', 'verified',\n",
    "         'location'],axis = 1, inplace = True)\n",
    "    df.price.fillna(0,inplace=True)\n",
    "    \n",
    "    df['likes'] = df.likes.apply(get_likes)\n",
    "    \n",
    "    df['listed'] = df.listed.apply(get_listed)\n",
    "    \n",
    "    df['price'] = df.price.apply(get_price_tier)\n",
    "        \n",
    "    df['stats'] = df.stats.apply(get_stats)\n",
    "    \n",
    "    df['rating'].fillna(0,inplace=True)\n",
    "    df['ratingSignals'].fillna(0,inplace=True)\n",
    "    \n",
    "    return df.to_csv('data/treated_venues_details.csv')"
   ]
  },
  {
   "cell_type": "code",
   "execution_count": 84,
   "metadata": {},
   "outputs": [],
   "source": [
    "pre_process('data/raw_venues_details.json')"
   ]
  },
  {
   "cell_type": "markdown",
   "metadata": {},
   "source": [
    "## Data Prep - Stage 3"
   ]
  },
  {
   "cell_type": "code",
   "execution_count": 145,
   "metadata": {},
   "outputs": [],
   "source": [
    "def pre_process_stage3(treated_venues_data,treated_venues_details):\n",
    "    \n",
    "    venues_data = pd.read_csv(treated_venues_data)\n",
    "    venues_details = pd.read_csv(treated_venues_details)\n",
    "    \n",
    "    df = venues_data.merge(venues_details,left_on='id',right_on='id')\n",
    "    df.drop(['name_y','location.distance'],axis=1,inplace=True)\n",
    "    \n",
    "    return df\n",
    "\n",
    "def calculate_nta_scores(df):\n",
    "    df.drop(['Unnamed: 0','price'],axis='columns',inplace=True)\n",
    "    df_agg = df.groupby('ntaname').agg({'id':'count',\n",
    "                           'likes':'mean',\n",
    "                           'listed':'mean',\n",
    "                           'rating':'mean',\n",
    "                           'ratingSignals':'mean',\n",
    "                           'stats':'mean'})\n",
    "    \n",
    "    df_agg['grading'] = df_agg.rating * df_agg.ratingSignals / max(df_agg.rating * df_agg.ratingSignals)\n",
    "    df_agg['popularity'] = np.cbrt((df_agg.likes * df_agg.listed * df_agg.stats)) / max(np.cbrt((df_agg.likes * df_agg.listed * df_agg.stats)))\n",
    "    df_agg['quantity'] = df_agg.id / max(df_agg.id)\n",
    "    df_agg.reset_index(drop=False,inplace=True)\n",
    "    df_agg.rename({'id':'number_of_pizzerias','index':'ntaname'},axis=1,inplace=True)\n",
    "    \n",
    "    return df_agg"
   ]
  },
  {
   "cell_type": "code",
   "execution_count": 146,
   "metadata": {},
   "outputs": [],
   "source": [
    "df = calculate_nta_scores(pre_process_stage3('data/treated_venues_data.csv','data/treated_venues_details.csv'))"
   ]
  },
  {
   "cell_type": "code",
   "execution_count": 147,
   "metadata": {},
   "outputs": [
    {
     "data": {
      "text/html": [
       "<div>\n",
       "<style scoped>\n",
       "    .dataframe tbody tr th:only-of-type {\n",
       "        vertical-align: middle;\n",
       "    }\n",
       "\n",
       "    .dataframe tbody tr th {\n",
       "        vertical-align: top;\n",
       "    }\n",
       "\n",
       "    .dataframe thead th {\n",
       "        text-align: right;\n",
       "    }\n",
       "</style>\n",
       "<table border=\"1\" class=\"dataframe\">\n",
       "  <thead>\n",
       "    <tr style=\"text-align: right;\">\n",
       "      <th></th>\n",
       "      <th>ntaname</th>\n",
       "      <th>number_of_pizzerias</th>\n",
       "      <th>likes</th>\n",
       "      <th>listed</th>\n",
       "      <th>rating</th>\n",
       "      <th>ratingSignals</th>\n",
       "      <th>stats</th>\n",
       "      <th>grading</th>\n",
       "      <th>popularity</th>\n",
       "      <th>quantity</th>\n",
       "    </tr>\n",
       "  </thead>\n",
       "  <tbody>\n",
       "    <tr>\n",
       "      <th>0</th>\n",
       "      <td>Airport</td>\n",
       "      <td>16</td>\n",
       "      <td>9.875000</td>\n",
       "      <td>1.625000</td>\n",
       "      <td>3.356250</td>\n",
       "      <td>26.187500</td>\n",
       "      <td>9.437500</td>\n",
       "      <td>0.010351</td>\n",
       "      <td>0.009201</td>\n",
       "      <td>0.457143</td>\n",
       "    </tr>\n",
       "    <tr>\n",
       "      <th>1</th>\n",
       "      <td>Allerton-Pelham Gardens</td>\n",
       "      <td>5</td>\n",
       "      <td>18.800000</td>\n",
       "      <td>3.800000</td>\n",
       "      <td>5.600000</td>\n",
       "      <td>30.400000</td>\n",
       "      <td>7.400000</td>\n",
       "      <td>0.020050</td>\n",
       "      <td>0.013957</td>\n",
       "      <td>0.142857</td>\n",
       "    </tr>\n",
       "    <tr>\n",
       "      <th>2</th>\n",
       "      <td>Annadale-Huguenot-Prince's Bay-Eltingville</td>\n",
       "      <td>11</td>\n",
       "      <td>2.363636</td>\n",
       "      <td>0.272727</td>\n",
       "      <td>1.218182</td>\n",
       "      <td>1.818182</td>\n",
       "      <td>1.181818</td>\n",
       "      <td>0.000261</td>\n",
       "      <td>0.001577</td>\n",
       "      <td>0.314286</td>\n",
       "    </tr>\n",
       "    <tr>\n",
       "      <th>3</th>\n",
       "      <td>Arden Heights</td>\n",
       "      <td>2</td>\n",
       "      <td>6.500000</td>\n",
       "      <td>3.000000</td>\n",
       "      <td>3.850000</td>\n",
       "      <td>9.500000</td>\n",
       "      <td>3.500000</td>\n",
       "      <td>0.004308</td>\n",
       "      <td>0.007054</td>\n",
       "      <td>0.057143</td>\n",
       "    </tr>\n",
       "    <tr>\n",
       "      <th>4</th>\n",
       "      <td>Astoria</td>\n",
       "      <td>16</td>\n",
       "      <td>50.937500</td>\n",
       "      <td>56.812500</td>\n",
       "      <td>6.150000</td>\n",
       "      <td>74.250000</td>\n",
       "      <td>19.750000</td>\n",
       "      <td>0.053780</td>\n",
       "      <td>0.066491</td>\n",
       "      <td>0.457143</td>\n",
       "    </tr>\n",
       "  </tbody>\n",
       "</table>\n",
       "</div>"
      ],
      "text/plain": [
       "                                      ntaname  number_of_pizzerias      likes  \\\n",
       "0                                     Airport                   16   9.875000   \n",
       "1                     Allerton-Pelham Gardens                    5  18.800000   \n",
       "2  Annadale-Huguenot-Prince's Bay-Eltingville                   11   2.363636   \n",
       "3                               Arden Heights                    2   6.500000   \n",
       "4                                     Astoria                   16  50.937500   \n",
       "\n",
       "      listed    rating  ratingSignals      stats   grading  popularity  \\\n",
       "0   1.625000  3.356250      26.187500   9.437500  0.010351    0.009201   \n",
       "1   3.800000  5.600000      30.400000   7.400000  0.020050    0.013957   \n",
       "2   0.272727  1.218182       1.818182   1.181818  0.000261    0.001577   \n",
       "3   3.000000  3.850000       9.500000   3.500000  0.004308    0.007054   \n",
       "4  56.812500  6.150000      74.250000  19.750000  0.053780    0.066491   \n",
       "\n",
       "   quantity  \n",
       "0  0.457143  \n",
       "1  0.142857  \n",
       "2  0.314286  \n",
       "3  0.057143  \n",
       "4  0.457143  "
      ]
     },
     "execution_count": 147,
     "metadata": {},
     "output_type": "execute_result"
    }
   ],
   "source": [
    "df.head()"
   ]
  },
  {
   "cell_type": "code",
   "execution_count": 148,
   "metadata": {},
   "outputs": [],
   "source": [
    "raw = pd.read_csv('data/raw_nta_data.csv')"
   ]
  },
  {
   "cell_type": "code",
   "execution_count": 149,
   "metadata": {},
   "outputs": [],
   "source": [
    "treated_nta_data = raw.merge(df,left_on='ntaname',right_on='ntaname')"
   ]
  },
  {
   "cell_type": "code",
   "execution_count": 150,
   "metadata": {},
   "outputs": [
    {
     "name": "stdout",
     "output_type": "stream",
     "text": [
      "<class 'pandas.core.frame.DataFrame'>\n",
      "Int64Index: 174 entries, 0 to 173\n",
      "Data columns (total 15 columns):\n",
      "ntacode                174 non-null object\n",
      "ntaname                174 non-null object\n",
      "boroname               174 non-null object\n",
      "geometry               174 non-null object\n",
      "centroid_gpd           174 non-null object\n",
      "lat_long               174 non-null object\n",
      "number_of_pizzerias    174 non-null int64\n",
      "likes                  174 non-null float64\n",
      "listed                 174 non-null float64\n",
      "rating                 174 non-null float64\n",
      "ratingSignals          174 non-null float64\n",
      "stats                  174 non-null float64\n",
      "grading                174 non-null float64\n",
      "popularity             174 non-null float64\n",
      "quantity               174 non-null float64\n",
      "dtypes: float64(8), int64(1), object(6)\n",
      "memory usage: 21.8+ KB\n"
     ]
    }
   ],
   "source": [
    "treated_nta_data.info()"
   ]
  },
  {
   "cell_type": "code",
   "execution_count": 151,
   "metadata": {},
   "outputs": [],
   "source": [
    "treated_nta_data.to_csv('data/treated_nta_data.csv',index=False)"
   ]
  },
  {
   "cell_type": "markdown",
   "metadata": {},
   "source": [
    "## Modeling & Evaluation"
   ]
  },
  {
   "cell_type": "code",
   "execution_count": 151,
   "metadata": {},
   "outputs": [],
   "source": [
    "treated_nta_data = pd.read_csv('data/treated_nta_data.csv')"
   ]
  },
  {
   "cell_type": "code",
   "execution_count": 3,
   "metadata": {},
   "outputs": [
    {
     "data": {
      "text/html": [
       "<div>\n",
       "<style scoped>\n",
       "    .dataframe tbody tr th:only-of-type {\n",
       "        vertical-align: middle;\n",
       "    }\n",
       "\n",
       "    .dataframe tbody tr th {\n",
       "        vertical-align: top;\n",
       "    }\n",
       "\n",
       "    .dataframe thead th {\n",
       "        text-align: right;\n",
       "    }\n",
       "</style>\n",
       "<table border=\"1\" class=\"dataframe\">\n",
       "  <thead>\n",
       "    <tr style=\"text-align: right;\">\n",
       "      <th></th>\n",
       "      <th>ntacode</th>\n",
       "      <th>ntaname</th>\n",
       "      <th>boroname</th>\n",
       "      <th>geometry</th>\n",
       "      <th>centroid_gpd</th>\n",
       "      <th>lat_long</th>\n",
       "      <th>number_of_pizzerias</th>\n",
       "      <th>likes</th>\n",
       "      <th>listed</th>\n",
       "      <th>rating</th>\n",
       "      <th>ratingSignals</th>\n",
       "      <th>stats</th>\n",
       "      <th>grading</th>\n",
       "      <th>popularity</th>\n",
       "      <th>quantity</th>\n",
       "    </tr>\n",
       "  </thead>\n",
       "  <tbody>\n",
       "    <tr>\n",
       "      <th>0</th>\n",
       "      <td>BK43</td>\n",
       "      <td>Midwood</td>\n",
       "      <td>Brooklyn</td>\n",
       "      <td>MULTIPOLYGON (((-73.94732672160586 40.62916656...</td>\n",
       "      <td>POINT (-73.95682460579987 40.62092404879829)</td>\n",
       "      <td>40.620924048798294,-73.95682460579987</td>\n",
       "      <td>5</td>\n",
       "      <td>127.00</td>\n",
       "      <td>526.4</td>\n",
       "      <td>5.980</td>\n",
       "      <td>194.00</td>\n",
       "      <td>73.40</td>\n",
       "      <td>0.136631</td>\n",
       "      <td>0.293325</td>\n",
       "      <td>0.142857</td>\n",
       "    </tr>\n",
       "    <tr>\n",
       "      <th>1</th>\n",
       "      <td>BK75</td>\n",
       "      <td>Bedford</td>\n",
       "      <td>Brooklyn</td>\n",
       "      <td>MULTIPOLYGON (((-73.94193078816201 40.70072523...</td>\n",
       "      <td>POINT (-73.94990503494105 40.69150749506858)</td>\n",
       "      <td>40.691507495068585,-73.94990503494105</td>\n",
       "      <td>5</td>\n",
       "      <td>30.40</td>\n",
       "      <td>15.8</td>\n",
       "      <td>7.000</td>\n",
       "      <td>54.40</td>\n",
       "      <td>17.20</td>\n",
       "      <td>0.044848</td>\n",
       "      <td>0.034895</td>\n",
       "      <td>0.142857</td>\n",
       "    </tr>\n",
       "    <tr>\n",
       "      <th>2</th>\n",
       "      <td>BK88</td>\n",
       "      <td>Borough Park</td>\n",
       "      <td>Brooklyn</td>\n",
       "      <td>MULTIPOLYGON (((-73.9760493559142 40.631275905...</td>\n",
       "      <td>POINT (-73.98866123069084 40.63094965540432)</td>\n",
       "      <td>40.63094965540432,-73.98866123069084</td>\n",
       "      <td>4</td>\n",
       "      <td>6.25</td>\n",
       "      <td>2.0</td>\n",
       "      <td>3.575</td>\n",
       "      <td>10.25</td>\n",
       "      <td>4.25</td>\n",
       "      <td>0.004316</td>\n",
       "      <td>0.006489</td>\n",
       "      <td>0.114286</td>\n",
       "    </tr>\n",
       "    <tr>\n",
       "      <th>3</th>\n",
       "      <td>BK96</td>\n",
       "      <td>Rugby-Remsen Village</td>\n",
       "      <td>Brooklyn</td>\n",
       "      <td>MULTIPOLYGON (((-73.90855790522774 40.65209593...</td>\n",
       "      <td>POINT (-73.92225097387865 40.6523648041028)</td>\n",
       "      <td>40.652364804102795,-73.92225097387865</td>\n",
       "      <td>2</td>\n",
       "      <td>4.00</td>\n",
       "      <td>0.0</td>\n",
       "      <td>3.900</td>\n",
       "      <td>5.50</td>\n",
       "      <td>1.50</td>\n",
       "      <td>0.002526</td>\n",
       "      <td>0.000000</td>\n",
       "      <td>0.057143</td>\n",
       "    </tr>\n",
       "    <tr>\n",
       "      <th>4</th>\n",
       "      <td>QN52</td>\n",
       "      <td>East Flushing</td>\n",
       "      <td>Queens</td>\n",
       "      <td>MULTIPOLYGON (((-73.79493246234003 40.75779803...</td>\n",
       "      <td>POINT (-73.80729418195874 40.75410888687151)</td>\n",
       "      <td>40.754108886871514,-73.80729418195874</td>\n",
       "      <td>1</td>\n",
       "      <td>2.00</td>\n",
       "      <td>1.0</td>\n",
       "      <td>5.800</td>\n",
       "      <td>8.00</td>\n",
       "      <td>3.00</td>\n",
       "      <td>0.005465</td>\n",
       "      <td>0.003137</td>\n",
       "      <td>0.028571</td>\n",
       "    </tr>\n",
       "  </tbody>\n",
       "</table>\n",
       "</div>"
      ],
      "text/plain": [
       "  ntacode               ntaname  boroname  \\\n",
       "0    BK43               Midwood  Brooklyn   \n",
       "1    BK75               Bedford  Brooklyn   \n",
       "2    BK88          Borough Park  Brooklyn   \n",
       "3    BK96  Rugby-Remsen Village  Brooklyn   \n",
       "4    QN52         East Flushing    Queens   \n",
       "\n",
       "                                            geometry  \\\n",
       "0  MULTIPOLYGON (((-73.94732672160586 40.62916656...   \n",
       "1  MULTIPOLYGON (((-73.94193078816201 40.70072523...   \n",
       "2  MULTIPOLYGON (((-73.9760493559142 40.631275905...   \n",
       "3  MULTIPOLYGON (((-73.90855790522774 40.65209593...   \n",
       "4  MULTIPOLYGON (((-73.79493246234003 40.75779803...   \n",
       "\n",
       "                                   centroid_gpd  \\\n",
       "0  POINT (-73.95682460579987 40.62092404879829)   \n",
       "1  POINT (-73.94990503494105 40.69150749506858)   \n",
       "2  POINT (-73.98866123069084 40.63094965540432)   \n",
       "3   POINT (-73.92225097387865 40.6523648041028)   \n",
       "4  POINT (-73.80729418195874 40.75410888687151)   \n",
       "\n",
       "                                lat_long  number_of_pizzerias   likes  listed  \\\n",
       "0  40.620924048798294,-73.95682460579987                    5  127.00   526.4   \n",
       "1  40.691507495068585,-73.94990503494105                    5   30.40    15.8   \n",
       "2   40.63094965540432,-73.98866123069084                    4    6.25     2.0   \n",
       "3  40.652364804102795,-73.92225097387865                    2    4.00     0.0   \n",
       "4  40.754108886871514,-73.80729418195874                    1    2.00     1.0   \n",
       "\n",
       "   rating  ratingSignals  stats   grading  popularity  quantity  \n",
       "0   5.980         194.00  73.40  0.136631    0.293325  0.142857  \n",
       "1   7.000          54.40  17.20  0.044848    0.034895  0.142857  \n",
       "2   3.575          10.25   4.25  0.004316    0.006489  0.114286  \n",
       "3   3.900           5.50   1.50  0.002526    0.000000  0.057143  \n",
       "4   5.800           8.00   3.00  0.005465    0.003137  0.028571  "
      ]
     },
     "execution_count": 3,
     "metadata": {},
     "output_type": "execute_result"
    }
   ],
   "source": [
    "treated_nta_data.head()"
   ]
  },
  {
   "cell_type": "code",
   "execution_count": 4,
   "metadata": {},
   "outputs": [],
   "source": [
    "X = treated_nta_data[['grading','popularity','quantity']]"
   ]
  },
  {
   "cell_type": "code",
   "execution_count": 9,
   "metadata": {},
   "outputs": [
    {
     "data": {
      "image/png": "[encoded data removed]",
      "text/plain": [
       "<Figure size 432x288 with 1 Axes>"
      ]
     },
     "metadata": {
      "needs_background": "light"
     },
     "output_type": "display_data"
    }
   ],
   "source": [
    "km = KMeans(n_jobs=-1,random_state=42,max_iter=5000)\n",
    "viz = KElbowVisualizer(km, k=25,metric='distortion',timings=False)\n",
    "viz.fit(X)\n",
    "viz.show();"
   ]
  },
  {
   "cell_type": "code",
   "execution_count": 11,
   "metadata": {},
   "outputs": [],
   "source": [
    "km_final = KMeans(n_clusters=8,random_state=42,max_iter=5000,n_jobs=-1,n_init=1000)\n",
    "treated_nta_data['cluster'] = km_final.fit_predict(X)"
   ]
  },
  {
   "cell_type": "code",
   "execution_count": 76,
   "metadata": {},
   "outputs": [],
   "source": [
    "count_per_cluster = treated_nta_data[['ntacode','cluster']].groupby('cluster',as_index=False).count()"
   ]
  },
  {
   "cell_type": "code",
   "execution_count": 77,
   "metadata": {},
   "outputs": [
    {
     "data": {
      "text/html": [
       "<div>\n",
       "<style scoped>\n",
       "    .dataframe tbody tr th:only-of-type {\n",
       "        vertical-align: middle;\n",
       "    }\n",
       "\n",
       "    .dataframe tbody tr th {\n",
       "        vertical-align: top;\n",
       "    }\n",
       "\n",
       "    .dataframe thead th {\n",
       "        text-align: right;\n",
       "    }\n",
       "</style>\n",
       "<table border=\"1\" class=\"dataframe\">\n",
       "  <thead>\n",
       "    <tr style=\"text-align: right;\">\n",
       "      <th></th>\n",
       "      <th>cluster</th>\n",
       "      <th>ntacode</th>\n",
       "    </tr>\n",
       "  </thead>\n",
       "  <tbody>\n",
       "    <tr>\n",
       "      <th>0</th>\n",
       "      <td>0</td>\n",
       "      <td>90</td>\n",
       "    </tr>\n",
       "    <tr>\n",
       "      <th>1</th>\n",
       "      <td>1</td>\n",
       "      <td>21</td>\n",
       "    </tr>\n",
       "    <tr>\n",
       "      <th>2</th>\n",
       "      <td>2</td>\n",
       "      <td>6</td>\n",
       "    </tr>\n",
       "    <tr>\n",
       "      <th>3</th>\n",
       "      <td>3</td>\n",
       "      <td>1</td>\n",
       "    </tr>\n",
       "    <tr>\n",
       "      <th>4</th>\n",
       "      <td>4</td>\n",
       "      <td>14</td>\n",
       "    </tr>\n",
       "    <tr>\n",
       "      <th>5</th>\n",
       "      <td>5</td>\n",
       "      <td>2</td>\n",
       "    </tr>\n",
       "    <tr>\n",
       "      <th>6</th>\n",
       "      <td>6</td>\n",
       "      <td>5</td>\n",
       "    </tr>\n",
       "    <tr>\n",
       "      <th>7</th>\n",
       "      <td>7</td>\n",
       "      <td>35</td>\n",
       "    </tr>\n",
       "  </tbody>\n",
       "</table>\n",
       "</div>"
      ],
      "text/plain": [
       "   cluster  ntacode\n",
       "0        0       90\n",
       "1        1       21\n",
       "2        2        6\n",
       "3        3        1\n",
       "4        4       14\n",
       "5        5        2\n",
       "6        6        5\n",
       "7        7       35"
      ]
     },
     "execution_count": 77,
     "metadata": {},
     "output_type": "execute_result"
    }
   ],
   "source": [
    "count_per_cluster"
   ]
  },
  {
   "cell_type": "code",
   "execution_count": 78,
   "metadata": {},
   "outputs": [
    {
     "data": {
      "application/vnd.plotly.v1+json": {
       "config": {
        "plotlyServerURL": "https://plot.ly"
       },
       "data": [
        {
         "alignmentgroup": "True",
         "hoverlabel": {
          "namelength": 0
         },
         "hovertemplate": "cluster=%{x}<br>ntacode=%{y}",
         "legendgroup": "",
         "marker": {
          "color": "#636efa"
         },
         "name": "",
         "offsetgroup": "",
         "orientation": "v",
         "showlegend": false,
         "textposition": "auto",
         "type": "bar",
         "x": [
          0,
          1,
          2,
          3,
          4,
          5,
          6,
          7
         ],
         "xaxis": "x",
         "y": [
          90,
          21,
          6,
          1,
          14,
          2,
          5,
          35
         ],
         "yaxis": "y"
        }
       ],
       "layout": {
        "autosize": true,
        "barmode": "relative",
        "legend": {
         "tracegroupgap": 0
        },
        "template": {
         "data": {
          "bar": [
           {
            "error_x": {
             "color": "#2a3f5f"
            },
            "error_y": {
             "color": "#2a3f5f"
            },
            "marker": {
             "line": {
              "color": "#E5ECF6",
              "width": 0.5
             }
            },
            "type": "bar"
           }
          ],
          "barpolar": [
           {
            "marker": {
             "line": {
              "color": "#E5ECF6",
              "width": 0.5
             }
            },
            "type": "barpolar"
           }
          ],
          "carpet": [
           {
            "aaxis": {
             "endlinecolor": "#2a3f5f",
             "gridcolor": "white",
             "linecolor": "white",
             "minorgridcolor": "white",
             "startlinecolor": "#2a3f5f"
            },
            "baxis": {
             "endlinecolor": "#2a3f5f",
             "gridcolor": "white",
             "linecolor": "white",
             "minorgridcolor": "white",
             "startlinecolor": "#2a3f5f"
            },
            "type": "carpet"
           }
          ],
          "choropleth": [
           {
            "colorbar": {
             "outlinewidth": 0,
             "ticks": ""
            },
            "type": "choropleth"
           }
          ],
          "contour": [
           {
            "colorbar": {
             "outlinewidth": 0,
             "ticks": ""
            },
            "colorscale": [
             [
              0,
              "#0d0887"
             ],
             [
              0.1111111111111111,
              "#46039f"
             ],
             [
              0.2222222222222222,
              "#7201a8"
             ],
             [
              0.3333333333333333,
              "#9c179e"
             ],
             [
              0.4444444444444444,
              "#bd3786"
             ],
             [
              0.5555555555555556,
              "#d8576b"
             ],
             [
              0.6666666666666666,
              "#ed7953"
             ],
             [
              0.7777777777777778,
              "#fb9f3a"
             ],
             [
              0.8888888888888888,
              "#fdca26"
             ],
             [
              1,
              "#f0f921"
             ]
            ],
            "type": "contour"
           }
          ],
          "contourcarpet": [
           {
            "colorbar": {
             "outlinewidth": 0,
             "ticks": ""
            },
            "type": "contourcarpet"
           }
          ],
          "heatmap": [
           {
            "colorbar": {
             "outlinewidth": 0,
             "ticks": ""
            },
            "colorscale": [
             [
              0,
              "#0d0887"
             ],
             [
              0.1111111111111111,
              "#46039f"
             ],
             [
              0.2222222222222222,
              "#7201a8"
             ],
             [
              0.3333333333333333,
              "#9c179e"
             ],
             [
              0.4444444444444444,
              "#bd3786"
             ],
             [
              0.5555555555555556,
              "#d8576b"
             ],
             [
              0.6666666666666666,
              "#ed7953"
             ],
             [
              0.7777777777777778,
              "#fb9f3a"
             ],
             [
              0.8888888888888888,
              "#fdca26"
             ],
             [
              1,
              "#f0f921"
             ]
            ],
            "type": "heatmap"
           }
          ],
          "heatmapgl": [
           {
            "colorbar": {
             "outlinewidth": 0,
             "ticks": ""
            },
            "colorscale": [
             [
              0,
              "#0d0887"
             ],
             [
              0.1111111111111111,
              "#46039f"
             ],
             [
              0.2222222222222222,
              "#7201a8"
             ],
             [
              0.3333333333333333,
              "#9c179e"
             ],
             [
              0.4444444444444444,
              "#bd3786"
             ],
             [
              0.5555555555555556,
              "#d8576b"
             ],
             [
              0.6666666666666666,
              "#ed7953"
             ],
             [
              0.7777777777777778,
              "#fb9f3a"
             ],
             [
              0.8888888888888888,
              "#fdca26"
             ],
             [
              1,
              "#f0f921"
             ]
            ],
            "type": "heatmapgl"
           }
          ],
          "histogram": [
           {
            "marker": {
             "colorbar": {
              "outlinewidth": 0,
              "ticks": ""
             }
            },
            "type": "histogram"
           }
          ],
          "histogram2d": [
           {
            "colorbar": {
             "outlinewidth": 0,
             "ticks": ""
            },
            "colorscale": [
             [
              0,
              "#0d0887"
             ],
             [
              0.1111111111111111,
              "#46039f"
             ],
             [
              0.2222222222222222,
              "#7201a8"
             ],
             [
              0.3333333333333333,
              "#9c179e"
             ],
             [
              0.4444444444444444,
              "#bd3786"
             ],
             [
              0.5555555555555556,
              "#d8576b"
             ],
             [
              0.6666666666666666,
              "#ed7953"
             ],
             [
              0.7777777777777778,
              "#fb9f3a"
             ],
             [
              0.8888888888888888,
              "#fdca26"
             ],
             [
              1,
              "#f0f921"
             ]
            ],
            "type": "histogram2d"
           }
          ],
          "histogram2dcontour": [
           {
            "colorbar": {
             "outlinewidth": 0,
             "ticks": ""
            },
            "colorscale": [
             [
              0,
              "#0d0887"
             ],
             [
              0.1111111111111111,
              "#46039f"
             ],
             [
              0.2222222222222222,
              "#7201a8"
             ],
             [
              0.3333333333333333,
              "#9c179e"
             ],
             [
              0.4444444444444444,
              "#bd3786"
             ],
             [
              0.5555555555555556,
              "#d8576b"
             ],
             [
              0.6666666666666666,
              "#ed7953"
             ],
             [
              0.7777777777777778,
              "#fb9f3a"
             ],
             [
              0.8888888888888888,
              "#fdca26"
             ],
             [
              1,
              "#f0f921"
             ]
            ],
            "type": "histogram2dcontour"
           }
          ],
          "mesh3d": [
           {
            "colorbar": {
             "outlinewidth": 0,
             "ticks": ""
            },
            "type": "mesh3d"
           }
          ],
          "parcoords": [
           {
            "line": {
             "colorbar": {
              "outlinewidth": 0,
              "ticks": ""
             }
            },
            "type": "parcoords"
           }
          ],
          "pie": [
           {
            "automargin": true,
            "type": "pie"
           }
          ],
          "scatter": [
           {
            "marker": {
             "colorbar": {
              "outlinewidth": 0,
              "ticks": ""
             }
            },
            "type": "scatter"
           }
          ],
          "scatter3d": [
           {
            "line": {
             "colorbar": {
              "outlinewidth": 0,
              "ticks": ""
             }
            },
            "marker": {
             "colorbar": {
              "outlinewidth": 0,
              "ticks": ""
             }
            },
            "type": "scatter3d"
           }
          ],
          "scattercarpet": [
           {
            "marker": {
             "colorbar": {
              "outlinewidth": 0,
              "ticks": ""
             }
            },
            "type": "scattercarpet"
           }
          ],
          "scattergeo": [
           {
            "marker": {
             "colorbar": {
              "outlinewidth": 0,
              "ticks": ""
             }
            },
            "type": "scattergeo"
           }
          ],
          "scattergl": [
           {
            "marker": {
             "colorbar": {
              "outlinewidth": 0,
              "ticks": ""
             }
            },
            "type": "scattergl"
           }
          ],
          "scattermapbox": [
           {
            "marker": {
             "colorbar": {
              "outlinewidth": 0,
              "ticks": ""
             }
            },
            "type": "scattermapbox"
           }
          ],
          "scatterpolar": [
           {
            "marker": {
             "colorbar": {
              "outlinewidth": 0,
              "ticks": ""
             }
            },
            "type": "scatterpolar"
           }
          ],
          "scatterpolargl": [
           {
            "marker": {
             "colorbar": {
              "outlinewidth": 0,
              "ticks": ""
             }
            },
            "type": "scatterpolargl"
           }
          ],
          "scatterternary": [
           {
            "marker": {
             "colorbar": {
              "outlinewidth": 0,
              "ticks": ""
             }
            },
            "type": "scatterternary"
           }
          ],
          "surface": [
           {
            "colorbar": {
             "outlinewidth": 0,
             "ticks": ""
            },
            "colorscale": [
             [
              0,
              "#0d0887"
             ],
             [
              0.1111111111111111,
              "#46039f"
             ],
             [
              0.2222222222222222,
              "#7201a8"
             ],
             [
              0.3333333333333333,
              "#9c179e"
             ],
             [
              0.4444444444444444,
              "#bd3786"
             ],
             [
              0.5555555555555556,
              "#d8576b"
             ],
             [
              0.6666666666666666,
              "#ed7953"
             ],
             [
              0.7777777777777778,
              "#fb9f3a"
             ],
             [
              0.8888888888888888,
              "#fdca26"
             ],
             [
              1,
              "#f0f921"
             ]
            ],
            "type": "surface"
           }
          ],
          "table": [
           {
            "cells": {
             "fill": {
              "color": "#EBF0F8"
             },
             "line": {
              "color": "white"
             }
            },
            "header": {
             "fill": {
              "color": "#C8D4E3"
             },
             "line": {
              "color": "white"
             }
            },
            "type": "table"
           }
          ]
         },
         "layout": {
          "annotationdefaults": {
           "arrowcolor": "#2a3f5f",
           "arrowhead": 0,
           "arrowwidth": 1
          },
          "coloraxis": {
           "colorbar": {
            "outlinewidth": 0,
            "ticks": ""
           }
          },
          "colorscale": {
           "diverging": [
            [
             0,
             "#8e0152"
            ],
            [
             0.1,
             "#c51b7d"
            ],
            [
             0.2,
             "#de77ae"
            ],
            [
             0.3,
             "#f1b6da"
            ],
            [
             0.4,
             "#fde0ef"
            ],
            [
             0.5,
             "#f7f7f7"
            ],
            [
             0.6,
             "#e6f5d0"
            ],
            [
             0.7,
             "#b8e186"
            ],
            [
             0.8,
             "#7fbc41"
            ],
            [
             0.9,
             "#4d9221"
            ],
            [
             1,
             "#276419"
            ]
           ],
           "sequential": [
            [
             0,
             "#0d0887"
            ],
            [
             0.1111111111111111,
             "#46039f"
            ],
            [
             0.2222222222222222,
             "#7201a8"
            ],
            [
             0.3333333333333333,
             "#9c179e"
            ],
            [
             0.4444444444444444,
             "#bd3786"
            ],
            [
             0.5555555555555556,
             "#d8576b"
            ],
            [
             0.6666666666666666,
             "#ed7953"
            ],
            [
             0.7777777777777778,
             "#fb9f3a"
            ],
            [
             0.8888888888888888,
             "#fdca26"
            ],
            [
             1,
             "#f0f921"
            ]
           ],
           "sequentialminus": [
            [
             0,
             "#0d0887"
            ],
            [
             0.1111111111111111,
             "#46039f"
            ],
            [
             0.2222222222222222,
             "#7201a8"
            ],
            [
             0.3333333333333333,
             "#9c179e"
            ],
            [
             0.4444444444444444,
             "#bd3786"
            ],
            [
             0.5555555555555556,
             "#d8576b"
            ],
            [
             0.6666666666666666,
             "#ed7953"
            ],
            [
             0.7777777777777778,
             "#fb9f3a"
            ],
            [
             0.8888888888888888,
             "#fdca26"
            ],
            [
             1,
             "#f0f921"
            ]
           ]
          },
          "colorway": [
           "#636efa",
           "#EF553B",
           "#00cc96",
           "#ab63fa",
           "#FFA15A",
           "#19d3f3",
           "#FF6692",
           "#B6E880",
           "#FF97FF",
           "#FECB52"
          ],
          "font": {
           "color": "#2a3f5f"
          },
          "geo": {
           "bgcolor": "white",
           "lakecolor": "white",
           "landcolor": "#E5ECF6",
           "showlakes": true,
           "showland": true,
           "subunitcolor": "white"
          },
          "hoverlabel": {
           "align": "left"
          },
          "hovermode": "closest",
          "mapbox": {
           "style": "light"
          },
          "paper_bgcolor": "white",
          "plot_bgcolor": "#E5ECF6",
          "polar": {
           "angularaxis": {
            "gridcolor": "white",
            "linecolor": "white",
            "ticks": ""
           },
           "bgcolor": "#E5ECF6",
           "radialaxis": {
            "gridcolor": "white",
            "linecolor": "white",
            "ticks": ""
           }
          },
          "scene": {
           "xaxis": {
            "backgroundcolor": "#E5ECF6",
            "gridcolor": "white",
            "gridwidth": 2,
            "linecolor": "white",
            "showbackground": true,
            "ticks": "",
            "zerolinecolor": "white"
           },
           "yaxis": {
            "backgroundcolor": "#E5ECF6",
            "gridcolor": "white",
            "gridwidth": 2,
            "linecolor": "white",
            "showbackground": true,
            "ticks": "",
            "zerolinecolor": "white"
           },
           "zaxis": {
            "backgroundcolor": "#E5ECF6",
            "gridcolor": "white",
            "gridwidth": 2,
            "linecolor": "white",
            "showbackground": true,
            "ticks": "",
            "zerolinecolor": "white"
           }
          },
          "shapedefaults": {
           "line": {
            "color": "#2a3f5f"
           }
          },
          "ternary": {
           "aaxis": {
            "gridcolor": "white",
            "linecolor": "white",
            "ticks": ""
           },
           "baxis": {
            "gridcolor": "white",
            "linecolor": "white",
            "ticks": ""
           },
           "bgcolor": "#E5ECF6",
           "caxis": {
            "gridcolor": "white",
            "linecolor": "white",
            "ticks": ""
           }
          },
          "title": {
           "x": 0.05
          },
          "xaxis": {
           "automargin": true,
           "gridcolor": "white",
           "linecolor": "white",
           "ticks": "",
           "title": {
            "standoff": 15
           },
           "zerolinecolor": "white",
           "zerolinewidth": 2
          },
          "yaxis": {
           "automargin": true,
           "gridcolor": "white",
           "linecolor": "white",
           "ticks": "",
           "title": {
            "standoff": 15
           },
           "zerolinecolor": "white",
           "zerolinewidth": 2
          }
         }
        },
        "title": {
         "text": "Number of NTA per cluster"
        },
        "xaxis": {
         "anchor": "y",
         "autorange": true,
         "domain": [
          0,
          1
         ],
         "range": [
          -0.5,
          7.5
         ],
         "title": {
          "text": "cluster"
         },
         "type": "linear"
        },
        "yaxis": {
         "anchor": "x",
         "autorange": true,
         "domain": [
          0,
          1
         ],
         "range": [
          0,
          94.73684210526315
         ],
         "title": {
          "text": "ntacode"
         },
         "type": "linear"
        }
       }
      },
      "image/png": "[encoded data removed]",
      "text/html": [
       "<div>\n",
       "        \n",
       "        \n",
       "            <div id=\"4ca35a74-c62f-4e6c-8478-8435ca2f8a72\" class=\"plotly-graph-div\" style=\"height:600px; width:100%;\"></div>\n",
       "            <script type=\"text/javascript\">\n",
       "                require([\"plotly\"], function(Plotly) {\n",
       "                    window.PLOTLYENV=window.PLOTLYENV || {};\n",
       "                    \n",
       "                if (document.getElementById(\"4ca35a74-c62f-4e6c-8478-8435ca2f8a72\")) {\n",
       "                    Plotly.newPlot(\n",
       "                        '4ca35a74-c62f-4e6c-8478-8435ca2f8a72',\n",
       "                        [{\"alignmentgroup\": \"True\", \"hoverlabel\": {\"namelength\": 0}, \"hovertemplate\": \"cluster=%{x}<br>ntacode=%{y}\", \"legendgroup\": \"\", \"marker\": {\"color\": \"#636efa\"}, \"name\": \"\", \"offsetgroup\": \"\", \"orientation\": \"v\", \"showlegend\": false, \"textposition\": \"auto\", \"type\": \"bar\", \"x\": [0, 1, 2, 3, 4, 5, 6, 7], \"xaxis\": \"x\", \"y\": [90, 21, 6, 1, 14, 2, 5, 35], \"yaxis\": \"y\"}],\n",
       "                        {\"barmode\": \"relative\", \"height\": 600, \"legend\": {\"tracegroupgap\": 0}, \"template\": {\"data\": {\"bar\": [{\"error_x\": {\"color\": \"#2a3f5f\"}, \"error_y\": {\"color\": \"#2a3f5f\"}, \"marker\": {\"line\": {\"color\": \"#E5ECF6\", \"width\": 0.5}}, \"type\": \"bar\"}], \"barpolar\": [{\"marker\": {\"line\": {\"color\": \"#E5ECF6\", \"width\": 0.5}}, \"type\": \"barpolar\"}], \"carpet\": [{\"aaxis\": {\"endlinecolor\": \"#2a3f5f\", \"gridcolor\": \"white\", \"linecolor\": \"white\", \"minorgridcolor\": \"white\", \"startlinecolor\": \"#2a3f5f\"}, \"baxis\": {\"endlinecolor\": \"#2a3f5f\", \"gridcolor\": \"white\", \"linecolor\": \"white\", \"minorgridcolor\": \"white\", \"startlinecolor\": \"#2a3f5f\"}, \"type\": \"carpet\"}], \"choropleth\": [{\"colorbar\": {\"outlinewidth\": 0, \"ticks\": \"\"}, \"type\": \"choropleth\"}], \"contour\": [{\"colorbar\": {\"outlinewidth\": 0, \"ticks\": \"\"}, \"colorscale\": [[0.0, \"#0d0887\"], [0.1111111111111111, \"#46039f\"], [0.2222222222222222, \"#7201a8\"], [0.3333333333333333, \"#9c179e\"], [0.4444444444444444, \"#bd3786\"], [0.5555555555555556, \"#d8576b\"], [0.6666666666666666, \"#ed7953\"], [0.7777777777777778, \"#fb9f3a\"], [0.8888888888888888, \"#fdca26\"], [1.0, \"#f0f921\"]], \"type\": \"contour\"}], \"contourcarpet\": [{\"colorbar\": {\"outlinewidth\": 0, \"ticks\": \"\"}, \"type\": \"contourcarpet\"}], \"heatmap\": [{\"colorbar\": {\"outlinewidth\": 0, \"ticks\": \"\"}, \"colorscale\": [[0.0, \"#0d0887\"], [0.1111111111111111, \"#46039f\"], [0.2222222222222222, \"#7201a8\"], [0.3333333333333333, \"#9c179e\"], [0.4444444444444444, \"#bd3786\"], [0.5555555555555556, \"#d8576b\"], [0.6666666666666666, \"#ed7953\"], [0.7777777777777778, \"#fb9f3a\"], [0.8888888888888888, \"#fdca26\"], [1.0, \"#f0f921\"]], \"type\": \"heatmap\"}], \"heatmapgl\": [{\"colorbar\": {\"outlinewidth\": 0, \"ticks\": \"\"}, \"colorscale\": [[0.0, \"#0d0887\"], [0.1111111111111111, \"#46039f\"], [0.2222222222222222, \"#7201a8\"], [0.3333333333333333, \"#9c179e\"], [0.4444444444444444, \"#bd3786\"], [0.5555555555555556, \"#d8576b\"], [0.6666666666666666, \"#ed7953\"], [0.7777777777777778, \"#fb9f3a\"], [0.8888888888888888, \"#fdca26\"], [1.0, \"#f0f921\"]], \"type\": \"heatmapgl\"}], \"histogram\": [{\"marker\": {\"colorbar\": {\"outlinewidth\": 0, \"ticks\": \"\"}}, \"type\": \"histogram\"}], \"histogram2d\": [{\"colorbar\": {\"outlinewidth\": 0, \"ticks\": \"\"}, \"colorscale\": [[0.0, \"#0d0887\"], [0.1111111111111111, \"#46039f\"], [0.2222222222222222, \"#7201a8\"], [0.3333333333333333, \"#9c179e\"], [0.4444444444444444, \"#bd3786\"], [0.5555555555555556, \"#d8576b\"], [0.6666666666666666, \"#ed7953\"], [0.7777777777777778, \"#fb9f3a\"], [0.8888888888888888, \"#fdca26\"], [1.0, \"#f0f921\"]], \"type\": \"histogram2d\"}], \"histogram2dcontour\": [{\"colorbar\": {\"outlinewidth\": 0, \"ticks\": \"\"}, \"colorscale\": [[0.0, \"#0d0887\"], [0.1111111111111111, \"#46039f\"], [0.2222222222222222, \"#7201a8\"], [0.3333333333333333, \"#9c179e\"], [0.4444444444444444, \"#bd3786\"], [0.5555555555555556, \"#d8576b\"], [0.6666666666666666, \"#ed7953\"], [0.7777777777777778, \"#fb9f3a\"], [0.8888888888888888, \"#fdca26\"], [1.0, \"#f0f921\"]], \"type\": \"histogram2dcontour\"}], \"mesh3d\": [{\"colorbar\": {\"outlinewidth\": 0, \"ticks\": \"\"}, \"type\": \"mesh3d\"}], \"parcoords\": [{\"line\": {\"colorbar\": {\"outlinewidth\": 0, \"ticks\": \"\"}}, \"type\": \"parcoords\"}], \"pie\": [{\"automargin\": true, \"type\": \"pie\"}], \"scatter\": [{\"marker\": {\"colorbar\": {\"outlinewidth\": 0, \"ticks\": \"\"}}, \"type\": \"scatter\"}], \"scatter3d\": [{\"line\": {\"colorbar\": {\"outlinewidth\": 0, \"ticks\": \"\"}}, \"marker\": {\"colorbar\": {\"outlinewidth\": 0, \"ticks\": \"\"}}, \"type\": \"scatter3d\"}], \"scattercarpet\": [{\"marker\": {\"colorbar\": {\"outlinewidth\": 0, \"ticks\": \"\"}}, \"type\": \"scattercarpet\"}], \"scattergeo\": [{\"marker\": {\"colorbar\": {\"outlinewidth\": 0, \"ticks\": \"\"}}, \"type\": \"scattergeo\"}], \"scattergl\": [{\"marker\": {\"colorbar\": {\"outlinewidth\": 0, \"ticks\": \"\"}}, \"type\": \"scattergl\"}], \"scattermapbox\": [{\"marker\": {\"colorbar\": {\"outlinewidth\": 0, \"ticks\": \"\"}}, \"type\": \"scattermapbox\"}], \"scatterpolar\": [{\"marker\": {\"colorbar\": {\"outlinewidth\": 0, \"ticks\": \"\"}}, \"type\": \"scatterpolar\"}], \"scatterpolargl\": [{\"marker\": {\"colorbar\": {\"outlinewidth\": 0, \"ticks\": \"\"}}, \"type\": \"scatterpolargl\"}], \"scatterternary\": [{\"marker\": {\"colorbar\": {\"outlinewidth\": 0, \"ticks\": \"\"}}, \"type\": \"scatterternary\"}], \"surface\": [{\"colorbar\": {\"outlinewidth\": 0, \"ticks\": \"\"}, \"colorscale\": [[0.0, \"#0d0887\"], [0.1111111111111111, \"#46039f\"], [0.2222222222222222, \"#7201a8\"], [0.3333333333333333, \"#9c179e\"], [0.4444444444444444, \"#bd3786\"], [0.5555555555555556, \"#d8576b\"], [0.6666666666666666, \"#ed7953\"], [0.7777777777777778, \"#fb9f3a\"], [0.8888888888888888, \"#fdca26\"], [1.0, \"#f0f921\"]], \"type\": \"surface\"}], \"table\": [{\"cells\": {\"fill\": {\"color\": \"#EBF0F8\"}, \"line\": {\"color\": \"white\"}}, \"header\": {\"fill\": {\"color\": \"#C8D4E3\"}, \"line\": {\"color\": \"white\"}}, \"type\": \"table\"}]}, \"layout\": {\"annotationdefaults\": {\"arrowcolor\": \"#2a3f5f\", \"arrowhead\": 0, \"arrowwidth\": 1}, \"coloraxis\": {\"colorbar\": {\"outlinewidth\": 0, \"ticks\": \"\"}}, \"colorscale\": {\"diverging\": [[0, \"#8e0152\"], [0.1, \"#c51b7d\"], [0.2, \"#de77ae\"], [0.3, \"#f1b6da\"], [0.4, \"#fde0ef\"], [0.5, \"#f7f7f7\"], [0.6, \"#e6f5d0\"], [0.7, \"#b8e186\"], [0.8, \"#7fbc41\"], [0.9, \"#4d9221\"], [1, \"#276419\"]], \"sequential\": [[0.0, \"#0d0887\"], [0.1111111111111111, \"#46039f\"], [0.2222222222222222, \"#7201a8\"], [0.3333333333333333, \"#9c179e\"], [0.4444444444444444, \"#bd3786\"], [0.5555555555555556, \"#d8576b\"], [0.6666666666666666, \"#ed7953\"], [0.7777777777777778, \"#fb9f3a\"], [0.8888888888888888, \"#fdca26\"], [1.0, \"#f0f921\"]], \"sequentialminus\": [[0.0, \"#0d0887\"], [0.1111111111111111, \"#46039f\"], [0.2222222222222222, \"#7201a8\"], [0.3333333333333333, \"#9c179e\"], [0.4444444444444444, \"#bd3786\"], [0.5555555555555556, \"#d8576b\"], [0.6666666666666666, \"#ed7953\"], [0.7777777777777778, \"#fb9f3a\"], [0.8888888888888888, \"#fdca26\"], [1.0, \"#f0f921\"]]}, \"colorway\": [\"#636efa\", \"#EF553B\", \"#00cc96\", \"#ab63fa\", \"#FFA15A\", \"#19d3f3\", \"#FF6692\", \"#B6E880\", \"#FF97FF\", \"#FECB52\"], \"font\": {\"color\": \"#2a3f5f\"}, \"geo\": {\"bgcolor\": \"white\", \"lakecolor\": \"white\", \"landcolor\": \"#E5ECF6\", \"showlakes\": true, \"showland\": true, \"subunitcolor\": \"white\"}, \"hoverlabel\": {\"align\": \"left\"}, \"hovermode\": \"closest\", \"mapbox\": {\"style\": \"light\"}, \"paper_bgcolor\": \"white\", \"plot_bgcolor\": \"#E5ECF6\", \"polar\": {\"angularaxis\": {\"gridcolor\": \"white\", \"linecolor\": \"white\", \"ticks\": \"\"}, \"bgcolor\": \"#E5ECF6\", \"radialaxis\": {\"gridcolor\": \"white\", \"linecolor\": \"white\", \"ticks\": \"\"}}, \"scene\": {\"xaxis\": {\"backgroundcolor\": \"#E5ECF6\", \"gridcolor\": \"white\", \"gridwidth\": 2, \"linecolor\": \"white\", \"showbackground\": true, \"ticks\": \"\", \"zerolinecolor\": \"white\"}, \"yaxis\": {\"backgroundcolor\": \"#E5ECF6\", \"gridcolor\": \"white\", \"gridwidth\": 2, \"linecolor\": \"white\", \"showbackground\": true, \"ticks\": \"\", \"zerolinecolor\": \"white\"}, \"zaxis\": {\"backgroundcolor\": \"#E5ECF6\", \"gridcolor\": \"white\", \"gridwidth\": 2, \"linecolor\": \"white\", \"showbackground\": true, \"ticks\": \"\", \"zerolinecolor\": \"white\"}}, \"shapedefaults\": {\"line\": {\"color\": \"#2a3f5f\"}}, \"ternary\": {\"aaxis\": {\"gridcolor\": \"white\", \"linecolor\": \"white\", \"ticks\": \"\"}, \"baxis\": {\"gridcolor\": \"white\", \"linecolor\": \"white\", \"ticks\": \"\"}, \"bgcolor\": \"#E5ECF6\", \"caxis\": {\"gridcolor\": \"white\", \"linecolor\": \"white\", \"ticks\": \"\"}}, \"title\": {\"x\": 0.05}, \"xaxis\": {\"automargin\": true, \"gridcolor\": \"white\", \"linecolor\": \"white\", \"ticks\": \"\", \"title\": {\"standoff\": 15}, \"zerolinecolor\": \"white\", \"zerolinewidth\": 2}, \"yaxis\": {\"automargin\": true, \"gridcolor\": \"white\", \"linecolor\": \"white\", \"ticks\": \"\", \"title\": {\"standoff\": 15}, \"zerolinecolor\": \"white\", \"zerolinewidth\": 2}}}, \"title\": {\"text\": \"Number of NTA per cluster\"}, \"xaxis\": {\"anchor\": \"y\", \"domain\": [0.0, 1.0], \"title\": {\"text\": \"cluster\"}}, \"yaxis\": {\"anchor\": \"x\", \"domain\": [0.0, 1.0], \"title\": {\"text\": \"ntacode\"}}},\n",
       "                        {\"responsive\": true}\n",
       "                    ).then(function(){\n",
       "                            \n",
       "var gd = document.getElementById('4ca35a74-c62f-4e6c-8478-8435ca2f8a72');\n",
       "var x = new MutationObserver(function (mutations, observer) {{\n",
       "        var display = window.getComputedStyle(gd).display;\n",
       "        if (!display || display === 'none') {{\n",
       "            console.log([gd, 'removed!']);\n",
       "            Plotly.purge(gd);\n",
       "            observer.disconnect();\n",
       "        }}\n",
       "}});\n",
       "\n",
       "// Listen for the removal of the full notebook cells\n",
       "var notebookContainer = gd.closest('#notebook-container');\n",
       "if (notebookContainer) {{\n",
       "    x.observe(notebookContainer, {childList: true});\n",
       "}}\n",
       "\n",
       "// Listen for the clearing of the current output cell\n",
       "var outputEl = gd.closest('.output');\n",
       "if (outputEl) {{\n",
       "    x.observe(outputEl, {childList: true});\n",
       "}}\n",
       "\n",
       "                        })\n",
       "                };\n",
       "                });\n",
       "            </script>\n",
       "        </div>"
      ]
     },
     "metadata": {},
     "output_type": "display_data"
    }
   ],
   "source": [
    "px.bar(count_per_cluster,x='cluster',y='ntacode',title='Number of NTA per cluster')"
   ]
  },
  {
   "cell_type": "code",
   "execution_count": 79,
   "metadata": {},
   "outputs": [
    {
     "data": {
      "application/vnd.plotly.v1+json": {
       "config": {
        "plotlyServerURL": "https://plot.ly"
       },
       "data": [
        {
         "hoverlabel": {
          "namelength": 0
         },
         "hovertemplate": "grading=%{x}<br>quantity=%{y}<br>popularity=%{z}<br>cluster=%{marker.color}",
         "legendgroup": "",
         "marker": {
          "color": [
           1,
           7,
           0,
           0,
           0,
           0,
           0,
           0,
           0,
           0,
           0,
           0,
           0,
           0,
           0,
           0,
           0,
           0,
           0,
           6,
           0,
           0,
           7,
           7,
           1,
           7,
           0,
           7,
           0,
           7,
           7,
           0,
           7,
           0,
           7,
           7,
           0,
           0,
           0,
           0,
           0,
           7,
           2,
           7,
           0,
           1,
           0,
           0,
           7,
           4,
           0,
           7,
           7,
           7,
           4,
           7,
           1,
           0,
           0,
           0,
           0,
           6,
           1,
           6,
           7,
           0,
           0,
           0,
           0,
           7,
           0,
           0,
           0,
           1,
           4,
           0,
           7,
           4,
           7,
           1,
           5,
           1,
           6,
           1,
           0,
           0,
           0,
           0,
           0,
           1,
           0,
           7,
           0,
           4,
           4,
           0,
           0,
           1,
           1,
           7,
           7,
           0,
           1,
           7,
           2,
           0,
           0,
           3,
           0,
           4,
           4,
           7,
           0,
           1,
           7,
           2,
           0,
           0,
           1,
           7,
           4,
           4,
           0,
           0,
           0,
           7,
           1,
           7,
           0,
           0,
           0,
           0,
           0,
           0,
           0,
           1,
           0,
           0,
           4,
           1,
           0,
           0,
           0,
           7,
           4,
           2,
           0,
           7,
           0,
           0,
           0,
           1,
           0,
           4,
           0,
           0,
           0,
           7,
           0,
           1,
           0,
           1,
           0,
           6,
           5,
           2,
           2,
           0,
           7,
           0,
           7,
           0,
           0,
           4
          ],
          "coloraxis": "coloraxis",
          "symbol": "circle"
         },
         "mode": "markers",
         "name": "",
         "scene": "scene",
         "showlegend": false,
         "type": "scatter3d",
         "x": [
          0.13663098140362034,
          0.04484801375590338,
          0.00431564969555642,
          0.002526233968130587,
          0.005464673945047051,
          0.012048192771084338,
          0.014811935915705834,
          0.013614575604470668,
          0.0006699983380900597,
          0.0075993122048310545,
          0.0029914378923317905,
          0.010104935872522348,
          0.02876020209871745,
          0.010411146050477571,
          0.004004286942491372,
          0,
          0.003297648070287013,
          0.008285340776596121,
          0.07992085644631311,
          0.3507700564395083,
          0,
          0.007631699819807087,
          0.09431662813732816,
          0.1014376420638566,
          0.18545737201003426,
          0.0016528952056006512,
          0,
          0.01087658552096951,
          0,
          0.011276543122637178,
          0.08055683143129702,
          0,
          0.06825084633090853,
          0.005255626612019927,
          0.020049700267345042,
          0.04859555524149383,
          0.0001674995845225149,
          0.0565311097763488,
          0.02868953821149702,
          0,
          0.018519827109022603,
          0.0036686334781943024,
          0.7075902436726379,
          0.0007518253034881761,
          0.00046152351340847267,
          0.1830749895266024,
          0.028883209606101176,
          0.006019679892590892,
          0.02246102129506716,
          0.053779634667703066,
          0.02151715365862276,
          0.02090237783980497,
          0.012194567966040955,
          0.009955916790628912,
          0.005348222743148065,
          0.06517471646115253,
          0.29863147605083085,
          0.032411169605106635,
          0,
          0.017889740781307048,
          0.024228553183080974,
          0.24652809129425274,
          0.18758906594118413,
          0.3653244453866296,
          0.050607591656950376,
          0.00741970815814578,
          0.02750788098631084,
          0.0005564781118609335,
          0.0137297315688299,
          0.049326010460872496,
          0,
          0.007184161867410993,
          0.02868953821149701,
          0.09503998398285222,
          0.0027445743384093557,
          0.009963608098081476,
          0.003951616174702067,
          0.04714765459588069,
          0.04229932928193714,
          0.12831678620640924,
          0.81062830664463,
          0.18085656408625705,
          0.3657875261895028,
          0.11695167767845575,
          0.003014992521405269,
          0,
          0.018006205336170356,
          0.08458467300286189,
          0,
          0.1529024710969078,
          0,
          0.006444546514503763,
          0.005574595547389951,
          0.08691883234679566,
          0.0006045688128859523,
          0.009598511347442556,
          0.0108560668218655,
          0.14642604304477605,
          0.13761697817663615,
          0.06874418495094749,
          0.02531501044909517,
          0.024334876161537646,
          0.12273654736247044,
          0.07819031820413691,
          0.59220569963137,
          0.06578807900222591,
          0,
          0.2150812887074061,
          0.062027189893493824,
          0.002302012018296511,
          0.0011304591877133187,
          0.003507887734744509,
          0.029506589407483307,
          0.1785597914630173,
          0.03104956783264484,
          0.5723774864855316,
          0.0006124203559104452,
          0.03720453662155955,
          0.17474958484966255,
          0.015667508744656045,
          0.04698855809501868,
          0.014145536201502003,
          0.0041949322215548415,
          0,
          0.025272808405338527,
          0.011053850929482491,
          0.15383969897184044,
          0.08686370354239993,
          0,
          0,
          0.0046925237607320786,
          0.010332630620232644,
          0.00264989577076635,
          0.008420779893768623,
          0.05547115146804226,
          0.35416740274882524,
          0.05622784392702775,
          0.023080592163374908,
          0.1296949501056251,
          0.12128082221358555,
          0.004027841571564853,
          0.020993063161737862,
          0.010970568490972688,
          0.0002608529170120778,
          0.0016822598578192381,
          0.3538611925708701,
          0.015793378793767444,
          0.028247182277497087,
          0.013524282859689004,
          0.025321226253989568,
          0.002517728129854053,
          0.14997085114652156,
          0.004743640577297786,
          0.0018349608109858792,
          0,
          0.004981804049040739,
          0.004307552791812412,
          0.0005568314312970357,
          0.0063623670308474035,
          0.1337902931373588,
          0.009892944210861041,
          0.124633431085044,
          0.014368323734821987,
          0.4702526986601249,
          1,
          0.5032799820984819,
          0.4793661449316327,
          0.028442214606225487,
          0.032905345723068226,
          0.0037687406517565867,
          0.07974376053142733,
          0,
          0,
          0.010351293369960782
         ],
         "y": [
          0.14285714285714285,
          0.14285714285714285,
          0.11428571428571427,
          0.057142857142857134,
          0.028571428571428567,
          0.057142857142857134,
          0.08571428571428573,
          0.028571428571428567,
          0.08571428571428573,
          0.057142857142857134,
          0.057142857142857134,
          0.028571428571428567,
          0.028571428571428567,
          0.057142857142857134,
          0.028571428571428567,
          0.028571428571428567,
          0.028571428571428567,
          0.057142857142857134,
          0.057142857142857134,
          0.3428571428571429,
          0.028571428571428567,
          0.028571428571428567,
          0.3142857142857143,
          0.22857142857142854,
          0.028571428571428567,
          0.2571428571428571,
          0.028571428571428567,
          0.14285714285714285,
          0.028571428571428567,
          0.2857142857142857,
          0.17142857142857146,
          0.028571428571428567,
          0.2571428571428571,
          0.11428571428571427,
          0.14285714285714285,
          0.14285714285714285,
          0.08571428571428573,
          0.057142857142857134,
          0.028571428571428567,
          0.057142857142857134,
          0.11428571428571427,
          0.17142857142857146,
          0.2857142857142857,
          0.2,
          0.11428571428571427,
          0.2,
          0.08571428571428573,
          0.11428571428571427,
          0.2,
          0.4571428571428571,
          0.057142857142857134,
          0.14285714285714285,
          0.2,
          0.2,
          0.4,
          0.14285714285714285,
          0.11428571428571427,
          0.028571428571428567,
          0.057142857142857134,
          0.08571428571428573,
          0.08571428571428573,
          0.5142857142857142,
          0.028571428571428567,
          0.17142857142857146,
          0.14285714285714285,
          0.028571428571428567,
          0.08571428571428573,
          0.11428571428571427,
          0.08571428571428573,
          0.17142857142857146,
          0.028571428571428567,
          0.057142857142857134,
          0.11428571428571427,
          0.057142857142857134,
          0.4571428571428571,
          0.057142857142857134,
          0.17142857142857146,
          0.4,
          0.22857142857142854,
          0.11428571428571427,
          0.3428571428571429,
          0.2857142857142857,
          0.2,
          0.11428571428571427,
          0.028571428571428567,
          0.028571428571428567,
          0.08571428571428573,
          0.057142857142857134,
          0.028571428571428567,
          0.2,
          0.057142857142857134,
          0.14285714285714285,
          0.08571428571428573,
          0.5428571428571428,
          0.3428571428571429,
          0.057142857142857134,
          0.08571428571428573,
          0.17142857142857146,
          0.14285714285714285,
          0.17142857142857146,
          0.17142857142857146,
          0.057142857142857134,
          0.11428571428571427,
          0.2571428571428571,
          0.22857142857142854,
          0.057142857142857134,
          0.057142857142857134,
          1,
          0.08571428571428573,
          0.37142857142857133,
          0.4857142857142857,
          0.3142857142857143,
          0.11428571428571427,
          0.08571428571428573,
          0.2,
          0.057142857142857134,
          0.08571428571428573,
          0.057142857142857134,
          0.11428571428571427,
          0.22857142857142854,
          0.37142857142857133,
          0.3428571428571429,
          0.11428571428571427,
          0.028571428571428567,
          0.08571428571428573,
          0.2,
          0.11428571428571427,
          0.2,
          0.028571428571428567,
          0.08571428571428573,
          0.11428571428571427,
          0.08571428571428573,
          0.11428571428571427,
          0.028571428571428567,
          0.057142857142857134,
          0.028571428571428567,
          0.057142857142857134,
          0.11428571428571427,
          0.5142857142857142,
          0.17142857142857146,
          0.057142857142857134,
          0.057142857142857134,
          0.057142857142857134,
          0.3142857142857143,
          0.6,
          0.028571428571428567,
          0.057142857142857134,
          0.2857142857142857,
          0.08571428571428573,
          0.028571428571428567,
          0.08571428571428573,
          0.11428571428571427,
          0.08571428571428573,
          0.4571428571428571,
          0.057142857142857134,
          0.11428571428571427,
          0.057142857142857134,
          0.2857142857142857,
          0.08571428571428573,
          0.2571428571428571,
          0.08571428571428573,
          0.057142857142857134,
          0.028571428571428567,
          0.37142857142857133,
          0.08571428571428573,
          0.22857142857142854,
          0.11428571428571427,
          0.057142857142857134,
          0.14285714285714285,
          0.028571428571428567,
          0.2571428571428571,
          0.057142857142857134,
          0.028571428571428567,
          0.4571428571428571
         ],
         "z": [
          0.293324923282528,
          0.034895019960680264,
          0.006488984343215803,
          0,
          0.003136612210054243,
          0.01042829424017896,
          0.009968357504198342,
          0,
          0.0013172945829348732,
          0.012187780753801985,
          0.002174805439106971,
          0,
          0.025109223578130373,
          0.005646332207618322,
          0.0039518837488046205,
          0,
          0,
          0.0035569664015388572,
          0.07224668048214314,
          0.3557829349344161,
          0,
          0.00718104934043155,
          0.09726617626676268,
          0.10064460846872272,
          0.16142972974557546,
          0.003362772528573289,
          0,
          0.009991756293112854,
          0,
          0.029388060158509293,
          0.07768848506810191,
          0,
          0.06178342774042691,
          0.004585754870046834,
          0.01395730172757082,
          0.044846973332830616,
          0,
          0.04616446791581538,
          0.019124498171673054,
          0,
          0.010967463601275384,
          0.003280010465610771,
          0.7338881184651294,
          0.0013102156771562382,
          0.002110631301048872,
          0.2149099317536836,
          0.021585749428910967,
          0.011384343193529144,
          0.03033431296198929,
          0.0664905544014458,
          0.01864377817264629,
          0.03185561731656845,
          0.01890833053743821,
          0.013642762219736836,
          0.01656626980678222,
          0.042452595222460934,
          0.2848676127131564,
          0.016440498912940412,
          0,
          0.012531910647774936,
          0.022517909537340543,
          0.2757961287864653,
          0.20470299668654465,
          0.4403166002826315,
          0.03449005647211908,
          0.007279432104780638,
          0.02051952986062393,
          0.0017439407767493144,
          0.013299072823442691,
          0.05132239948238361,
          0,
          0.0033788130772592173,
          0.039447716310782685,
          0.10803351617580316,
          0.009493203419975593,
          0.00638555657954844,
          0.003444278463103426,
          0.04592889519864588,
          0.0579146749104536,
          0.12976349419192146,
          0.9943798936427638,
          0.16844514292860044,
          0.38190486349831776,
          0.10254750525815587,
          0,
          0,
          0.011867835891419655,
          0.047844221813573416,
          0,
          0.2287938289176574,
          0,
          0.01190036796663863,
          0.0064428525629053645,
          0.07758027911795175,
          0.0027144734000834696,
          0.006509278406045352,
          0.012281105833008949,
          0.18954552345831868,
          0.14809359181816512,
          0.06633636034853105,
          0.0281091414386054,
          0.011958433564783846,
          0.1608838236666995,
          0.0956152682801262,
          0.6627656234275682,
          0.08331323110796217,
          0,
          0.2185145192656644,
          0.02528504067273615,
          0.004736250343813501,
          0.0023741987821397892,
          0.004696013370677551,
          0.015124985979445556,
          0.1349876466107897,
          0.033784452752558466,
          0.5800932188454532,
          0,
          0.02431336761336213,
          0.1488258690992976,
          0.05501268298047241,
          0.039400834346942616,
          0.017883092742142122,
          0.004197071454302478,
          0,
          0.011087297559935228,
          0.01046532206428552,
          0.1195476773572369,
          0.07222376859708114,
          0.00974618341765232,
          0.0023713109343592377,
          0.0035356666908355006,
          0.015394320884413944,
          0.005080702965861387,
          0.0049790615218564035,
          0.03169761400636685,
          0.2908525020364055,
          0.029457499219185675,
          0.037634165012238485,
          0.14709776619389306,
          0.11303981583865393,
          0,
          0.012364109986714942,
          0.012047678907583449,
          0.0015765111442932293,
          0.0038848234897609023,
          0.5494314244790192,
          0.00762658496920097,
          0.0469100486543136,
          0.01055548109506731,
          0.012707731901618512,
          0.004379609142566311,
          0.13462372714693502,
          0.007581837940068072,
          0.00800834654040751,
          0,
          0.006613802990860151,
          0.0070541490286799464,
          0.0019573248951962733,
          0.005269178331739494,
          0.21499726542478248,
          0,
          0.09706393480587654,
          0.010060791343633066,
          0.40856698722916585,
          1,
          0.5511735869205461,
          0.6894263137953107,
          0.04614917846952908,
          0.02661695008502912,
          0,
          0.06714913795192279,
          0,
          0,
          0.009200813408523668
         ]
        }
       ],
       "layout": {
        "autosize": true,
        "coloraxis": {
         "colorbar": {
          "title": {
           "text": "cluster"
          }
         },
         "colorscale": [
          [
           0,
           "#0d0887"
          ],
          [
           0.1111111111111111,
           "#46039f"
          ],
          [
           0.2222222222222222,
           "#7201a8"
          ],
          [
           0.3333333333333333,
           "#9c179e"
          ],
          [
           0.4444444444444444,
           "#bd3786"
          ],
          [
           0.5555555555555556,
           "#d8576b"
          ],
          [
           0.6666666666666666,
           "#ed7953"
          ],
          [
           0.7777777777777778,
           "#fb9f3a"
          ],
          [
           0.8888888888888888,
           "#fdca26"
          ],
          [
           1,
           "#f0f921"
          ]
         ]
        },
        "legend": {
         "tracegroupgap": 0
        },
        "margin": {
         "b": 0,
         "l": 0,
         "r": 0,
         "t": 0
        },
        "scene": {
         "aspectmode": "auto",
         "aspectratio": {
          "x": 1.0097093450822419,
          "y": 0.9808605066513205,
          "z": 1.0097093450822419
         },
         "camera": {
          "center": {
           "x": 0,
           "y": 0,
           "z": 0
          },
          "eye": {
           "x": -2.0766311204862222,
           "y": -1.6096739124262474,
           "z": 1.0972411392104908
          },
          "projection": {
           "type": "perspective"
          },
          "up": {
           "x": 0,
           "y": 0,
           "z": 1
          }
         },
         "domain": {
          "x": [
           0,
           1
          ],
          "y": [
           0,
           1
          ]
         },
         "xaxis": {
          "title": {
           "text": "grading"
          },
          "type": "linear"
         },
         "yaxis": {
          "title": {
           "text": "quantity"
          },
          "type": "linear"
         },
         "zaxis": {
          "title": {
           "text": "popularity"
          },
          "type": "linear"
         }
        },
        "template": {
         "data": {
          "bar": [
           {
            "error_x": {
             "color": "#2a3f5f"
            },
            "error_y": {
             "color": "#2a3f5f"
            },
            "marker": {
             "line": {
              "color": "#E5ECF6",
              "width": 0.5
             }
            },
            "type": "bar"
           }
          ],
          "barpolar": [
           {
            "marker": {
             "line": {
              "color": "#E5ECF6",
              "width": 0.5
             }
            },
            "type": "barpolar"
           }
          ],
          "carpet": [
           {
            "aaxis": {
             "endlinecolor": "#2a3f5f",
             "gridcolor": "white",
             "linecolor": "white",
             "minorgridcolor": "white",
             "startlinecolor": "#2a3f5f"
            },
            "baxis": {
             "endlinecolor": "#2a3f5f",
             "gridcolor": "white",
             "linecolor": "white",
             "minorgridcolor": "white",
             "startlinecolor": "#2a3f5f"
            },
            "type": "carpet"
           }
          ],
          "choropleth": [
           {
            "colorbar": {
             "outlinewidth": 0,
             "ticks": ""
            },
            "type": "choropleth"
           }
          ],
          "contour": [
           {
            "colorbar": {
             "outlinewidth": 0,
             "ticks": ""
            },
            "colorscale": [
             [
              0,
              "#0d0887"
             ],
             [
              0.1111111111111111,
              "#46039f"
             ],
             [
              0.2222222222222222,
              "#7201a8"
             ],
             [
              0.3333333333333333,
              "#9c179e"
             ],
             [
              0.4444444444444444,
              "#bd3786"
             ],
             [
              0.5555555555555556,
              "#d8576b"
             ],
             [
              0.6666666666666666,
              "#ed7953"
             ],
             [
              0.7777777777777778,
              "#fb9f3a"
             ],
             [
              0.8888888888888888,
              "#fdca26"
             ],
             [
              1,
              "#f0f921"
             ]
            ],
            "type": "contour"
           }
          ],
          "contourcarpet": [
           {
            "colorbar": {
             "outlinewidth": 0,
             "ticks": ""
            },
            "type": "contourcarpet"
           }
          ],
          "heatmap": [
           {
            "colorbar": {
             "outlinewidth": 0,
             "ticks": ""
            },
            "colorscale": [
             [
              0,
              "#0d0887"
             ],
             [
              0.1111111111111111,
              "#46039f"
             ],
             [
              0.2222222222222222,
              "#7201a8"
             ],
             [
              0.3333333333333333,
              "#9c179e"
             ],
             [
              0.4444444444444444,
              "#bd3786"
             ],
             [
              0.5555555555555556,
              "#d8576b"
             ],
             [
              0.6666666666666666,
              "#ed7953"
             ],
             [
              0.7777777777777778,
              "#fb9f3a"
             ],
             [
              0.8888888888888888,
              "#fdca26"
             ],
             [
              1,
              "#f0f921"
             ]
            ],
            "type": "heatmap"
           }
          ],
          "heatmapgl": [
           {
            "colorbar": {
             "outlinewidth": 0,
             "ticks": ""
            },
            "colorscale": [
             [
              0,
              "#0d0887"
             ],
             [
              0.1111111111111111,
              "#46039f"
             ],
             [
              0.2222222222222222,
              "#7201a8"
             ],
             [
              0.3333333333333333,
              "#9c179e"
             ],
             [
              0.4444444444444444,
              "#bd3786"
             ],
             [
              0.5555555555555556,
              "#d8576b"
             ],
             [
              0.6666666666666666,
              "#ed7953"
             ],
             [
              0.7777777777777778,
              "#fb9f3a"
             ],
             [
              0.8888888888888888,
              "#fdca26"
             ],
             [
              1,
              "#f0f921"
             ]
            ],
            "type": "heatmapgl"
           }
          ],
          "histogram": [
           {
            "marker": {
             "colorbar": {
              "outlinewidth": 0,
              "ticks": ""
             }
            },
            "type": "histogram"
           }
          ],
          "histogram2d": [
           {
            "colorbar": {
             "outlinewidth": 0,
             "ticks": ""
            },
            "colorscale": [
             [
              0,
              "#0d0887"
             ],
             [
              0.1111111111111111,
              "#46039f"
             ],
             [
              0.2222222222222222,
              "#7201a8"
             ],
             [
              0.3333333333333333,
              "#9c179e"
             ],
             [
              0.4444444444444444,
              "#bd3786"
             ],
             [
              0.5555555555555556,
              "#d8576b"
             ],
             [
              0.6666666666666666,
              "#ed7953"
             ],
             [
              0.7777777777777778,
              "#fb9f3a"
             ],
             [
              0.8888888888888888,
              "#fdca26"
             ],
             [
              1,
              "#f0f921"
             ]
            ],
            "type": "histogram2d"
           }
          ],
          "histogram2dcontour": [
           {
            "colorbar": {
             "outlinewidth": 0,
             "ticks": ""
            },
            "colorscale": [
             [
              0,
              "#0d0887"
             ],
             [
              0.1111111111111111,
              "#46039f"
             ],
             [
              0.2222222222222222,
              "#7201a8"
             ],
             [
              0.3333333333333333,
              "#9c179e"
             ],
             [
              0.4444444444444444,
              "#bd3786"
             ],
             [
              0.5555555555555556,
              "#d8576b"
             ],
             [
              0.6666666666666666,
              "#ed7953"
             ],
             [
              0.7777777777777778,
              "#fb9f3a"
             ],
             [
              0.8888888888888888,
              "#fdca26"
             ],
             [
              1,
              "#f0f921"
             ]
            ],
            "type": "histogram2dcontour"
           }
          ],
          "mesh3d": [
           {
            "colorbar": {
             "outlinewidth": 0,
             "ticks": ""
            },
            "type": "mesh3d"
           }
          ],
          "parcoords": [
           {
            "line": {
             "colorbar": {
              "outlinewidth": 0,
              "ticks": ""
             }
            },
            "type": "parcoords"
           }
          ],
          "pie": [
           {
            "automargin": true,
            "type": "pie"
           }
          ],
          "scatter": [
           {
            "marker": {
             "colorbar": {
              "outlinewidth": 0,
              "ticks": ""
             }
            },
            "type": "scatter"
           }
          ],
          "scatter3d": [
           {
            "line": {
             "colorbar": {
              "outlinewidth": 0,
              "ticks": ""
             }
            },
            "marker": {
             "colorbar": {
              "outlinewidth": 0,
              "ticks": ""
             }
            },
            "type": "scatter3d"
           }
          ],
          "scattercarpet": [
           {
            "marker": {
             "colorbar": {
              "outlinewidth": 0,
              "ticks": ""
             }
            },
            "type": "scattercarpet"
           }
          ],
          "scattergeo": [
           {
            "marker": {
             "colorbar": {
              "outlinewidth": 0,
              "ticks": ""
             }
            },
            "type": "scattergeo"
           }
          ],
          "scattergl": [
           {
            "marker": {
             "colorbar": {
              "outlinewidth": 0,
              "ticks": ""
             }
            },
            "type": "scattergl"
           }
          ],
          "scattermapbox": [
           {
            "marker": {
             "colorbar": {
              "outlinewidth": 0,
              "ticks": ""
             }
            },
            "type": "scattermapbox"
           }
          ],
          "scatterpolar": [
           {
            "marker": {
             "colorbar": {
              "outlinewidth": 0,
              "ticks": ""
             }
            },
            "type": "scatterpolar"
           }
          ],
          "scatterpolargl": [
           {
            "marker": {
             "colorbar": {
              "outlinewidth": 0,
              "ticks": ""
             }
            },
            "type": "scatterpolargl"
           }
          ],
          "scatterternary": [
           {
            "marker": {
             "colorbar": {
              "outlinewidth": 0,
              "ticks": ""
             }
            },
            "type": "scatterternary"
           }
          ],
          "surface": [
           {
            "colorbar": {
             "outlinewidth": 0,
             "ticks": ""
            },
            "colorscale": [
             [
              0,
              "#0d0887"
             ],
             [
              0.1111111111111111,
              "#46039f"
             ],
             [
              0.2222222222222222,
              "#7201a8"
             ],
             [
              0.3333333333333333,
              "#9c179e"
             ],
             [
              0.4444444444444444,
              "#bd3786"
             ],
             [
              0.5555555555555556,
              "#d8576b"
             ],
             [
              0.6666666666666666,
              "#ed7953"
             ],
             [
              0.7777777777777778,
              "#fb9f3a"
             ],
             [
              0.8888888888888888,
              "#fdca26"
             ],
             [
              1,
              "#f0f921"
             ]
            ],
            "type": "surface"
           }
          ],
          "table": [
           {
            "cells": {
             "fill": {
              "color": "#EBF0F8"
             },
             "line": {
              "color": "white"
             }
            },
            "header": {
             "fill": {
              "color": "#C8D4E3"
             },
             "line": {
              "color": "white"
             }
            },
            "type": "table"
           }
          ]
         },
         "layout": {
          "annotationdefaults": {
           "arrowcolor": "#2a3f5f",
           "arrowhead": 0,
           "arrowwidth": 1
          },
          "coloraxis": {
           "colorbar": {
            "outlinewidth": 0,
            "ticks": ""
           }
          },
          "colorscale": {
           "diverging": [
            [
             0,
             "#8e0152"
            ],
            [
             0.1,
             "#c51b7d"
            ],
            [
             0.2,
             "#de77ae"
            ],
            [
             0.3,
             "#f1b6da"
            ],
            [
             0.4,
             "#fde0ef"
            ],
            [
             0.5,
             "#f7f7f7"
            ],
            [
             0.6,
             "#e6f5d0"
            ],
            [
             0.7,
             "#b8e186"
            ],
            [
             0.8,
             "#7fbc41"
            ],
            [
             0.9,
             "#4d9221"
            ],
            [
             1,
             "#276419"
            ]
           ],
           "sequential": [
            [
             0,
             "#0d0887"
            ],
            [
             0.1111111111111111,
             "#46039f"
            ],
            [
             0.2222222222222222,
             "#7201a8"
            ],
            [
             0.3333333333333333,
             "#9c179e"
            ],
            [
             0.4444444444444444,
             "#bd3786"
            ],
            [
             0.5555555555555556,
             "#d8576b"
            ],
            [
             0.6666666666666666,
             "#ed7953"
            ],
            [
             0.7777777777777778,
             "#fb9f3a"
            ],
            [
             0.8888888888888888,
             "#fdca26"
            ],
            [
             1,
             "#f0f921"
            ]
           ],
           "sequentialminus": [
            [
             0,
             "#0d0887"
            ],
            [
             0.1111111111111111,
             "#46039f"
            ],
            [
             0.2222222222222222,
             "#7201a8"
            ],
            [
             0.3333333333333333,
             "#9c179e"
            ],
            [
             0.4444444444444444,
             "#bd3786"
            ],
            [
             0.5555555555555556,
             "#d8576b"
            ],
            [
             0.6666666666666666,
             "#ed7953"
            ],
            [
             0.7777777777777778,
             "#fb9f3a"
            ],
            [
             0.8888888888888888,
             "#fdca26"
            ],
            [
             1,
             "#f0f921"
            ]
           ]
          },
          "colorway": [
           "#636efa",
           "#EF553B",
           "#00cc96",
           "#ab63fa",
           "#FFA15A",
           "#19d3f3",
           "#FF6692",
           "#B6E880",
           "#FF97FF",
           "#FECB52"
          ],
          "font": {
           "color": "#2a3f5f"
          },
          "geo": {
           "bgcolor": "white",
           "lakecolor": "white",
           "landcolor": "#E5ECF6",
           "showlakes": true,
           "showland": true,
           "subunitcolor": "white"
          },
          "hoverlabel": {
           "align": "left"
          },
          "hovermode": "closest",
          "mapbox": {
           "style": "light"
          },
          "paper_bgcolor": "white",
          "plot_bgcolor": "#E5ECF6",
          "polar": {
           "angularaxis": {
            "gridcolor": "white",
            "linecolor": "white",
            "ticks": ""
           },
           "bgcolor": "#E5ECF6",
           "radialaxis": {
            "gridcolor": "white",
            "linecolor": "white",
            "ticks": ""
           }
          },
          "scene": {
           "xaxis": {
            "backgroundcolor": "#E5ECF6",
            "gridcolor": "white",
            "gridwidth": 2,
            "linecolor": "white",
            "showbackground": true,
            "ticks": "",
            "zerolinecolor": "white"
           },
           "yaxis": {
            "backgroundcolor": "#E5ECF6",
            "gridcolor": "white",
            "gridwidth": 2,
            "linecolor": "white",
            "showbackground": true,
            "ticks": "",
            "zerolinecolor": "white"
           },
           "zaxis": {
            "backgroundcolor": "#E5ECF6",
            "gridcolor": "white",
            "gridwidth": 2,
            "linecolor": "white",
            "showbackground": true,
            "ticks": "",
            "zerolinecolor": "white"
           }
          },
          "shapedefaults": {
           "line": {
            "color": "#2a3f5f"
           }
          },
          "ternary": {
           "aaxis": {
            "gridcolor": "white",
            "linecolor": "white",
            "ticks": ""
           },
           "baxis": {
            "gridcolor": "white",
            "linecolor": "white",
            "ticks": ""
           },
           "bgcolor": "#E5ECF6",
           "caxis": {
            "gridcolor": "white",
            "linecolor": "white",
            "ticks": ""
           }
          },
          "title": {
           "x": 0.05
          },
          "xaxis": {
           "automargin": true,
           "gridcolor": "white",
           "linecolor": "white",
           "ticks": "",
           "title": {
            "standoff": 15
           },
           "zerolinecolor": "white",
           "zerolinewidth": 2
          },
          "yaxis": {
           "automargin": true,
           "gridcolor": "white",
           "linecolor": "white",
           "ticks": "",
           "title": {
            "standoff": 15
           },
           "zerolinecolor": "white",
           "zerolinewidth": 2
          }
         }
        }
       }
      },
      "image/png": "[encoded data removed]",
      "text/html": [
       "<div>\n",
       "        \n",
       "        \n",
       "            <div id=\"701a6e0a-fb24-4fbd-b84b-1d70ee5b7646\" class=\"plotly-graph-div\" style=\"height:600px; width:100%;\"></div>\n",
       "            <script type=\"text/javascript\">\n",
       "                require([\"plotly\"], function(Plotly) {\n",
       "                    window.PLOTLYENV=window.PLOTLYENV || {};\n",
       "                    \n",
       "                if (document.getElementById(\"701a6e0a-fb24-4fbd-b84b-1d70ee5b7646\")) {\n",
       "                    Plotly.newPlot(\n",
       "                        '701a6e0a-fb24-4fbd-b84b-1d70ee5b7646',\n",
       "                        [{\"hoverlabel\": {\"namelength\": 0}, \"hovertemplate\": \"grading=%{x}<br>quantity=%{y}<br>popularity=%{z}<br>cluster=%{marker.color}\", \"legendgroup\": \"\", \"marker\": {\"color\": [1, 7, 0, 0, 0, 0, 0, 0, 0, 0, 0, 0, 0, 0, 0, 0, 0, 0, 0, 6, 0, 0, 7, 7, 1, 7, 0, 7, 0, 7, 7, 0, 7, 0, 7, 7, 0, 0, 0, 0, 0, 7, 2, 7, 0, 1, 0, 0, 7, 4, 0, 7, 7, 7, 4, 7, 1, 0, 0, 0, 0, 6, 1, 6, 7, 0, 0, 0, 0, 7, 0, 0, 0, 1, 4, 0, 7, 4, 7, 1, 5, 1, 6, 1, 0, 0, 0, 0, 0, 1, 0, 7, 0, 4, 4, 0, 0, 1, 1, 7, 7, 0, 1, 7, 2, 0, 0, 3, 0, 4, 4, 7, 0, 1, 7, 2, 0, 0, 1, 7, 4, 4, 0, 0, 0, 7, 1, 7, 0, 0, 0, 0, 0, 0, 0, 1, 0, 0, 4, 1, 0, 0, 0, 7, 4, 2, 0, 7, 0, 0, 0, 1, 0, 4, 0, 0, 0, 7, 0, 1, 0, 1, 0, 6, 5, 2, 2, 0, 7, 0, 7, 0, 0, 4], \"coloraxis\": \"coloraxis\", \"symbol\": \"circle\"}, \"mode\": \"markers\", \"name\": \"\", \"scene\": \"scene\", \"showlegend\": false, \"type\": \"scatter3d\", \"x\": [0.13663098140362034, 0.04484801375590338, 0.00431564969555642, 0.002526233968130587, 0.005464673945047051, 0.012048192771084338, 0.014811935915705834, 0.013614575604470668, 0.0006699983380900597, 0.0075993122048310545, 0.0029914378923317905, 0.010104935872522348, 0.02876020209871745, 0.010411146050477571, 0.004004286942491372, 0.0, 0.003297648070287013, 0.008285340776596121, 0.07992085644631311, 0.3507700564395083, 0.0, 0.007631699819807087, 0.09431662813732816, 0.1014376420638566, 0.18545737201003426, 0.0016528952056006512, 0.0, 0.01087658552096951, 0.0, 0.011276543122637178, 0.08055683143129702, 0.0, 0.06825084633090853, 0.005255626612019927, 0.020049700267345042, 0.04859555524149383, 0.0001674995845225149, 0.0565311097763488, 0.02868953821149702, 0.0, 0.018519827109022603, 0.0036686334781943024, 0.7075902436726379, 0.0007518253034881761, 0.00046152351340847267, 0.1830749895266024, 0.028883209606101176, 0.006019679892590892, 0.02246102129506716, 0.053779634667703066, 0.02151715365862276, 0.02090237783980497, 0.012194567966040955, 0.009955916790628912, 0.005348222743148065, 0.06517471646115253, 0.29863147605083085, 0.032411169605106635, 0.0, 0.017889740781307048, 0.024228553183080974, 0.24652809129425274, 0.18758906594118413, 0.3653244453866296, 0.050607591656950376, 0.00741970815814578, 0.02750788098631084, 0.0005564781118609335, 0.0137297315688299, 0.049326010460872496, 0.0, 0.007184161867410993, 0.02868953821149701, 0.09503998398285222, 0.0027445743384093557, 0.009963608098081476, 0.003951616174702067, 0.04714765459588069, 0.04229932928193714, 0.12831678620640924, 0.81062830664463, 0.18085656408625705, 0.3657875261895028, 0.11695167767845575, 0.003014992521405269, 0.0, 0.018006205336170356, 0.08458467300286189, 0.0, 0.1529024710969078, 0.0, 0.006444546514503763, 0.005574595547389951, 0.08691883234679566, 0.0006045688128859523, 0.009598511347442556, 0.0108560668218655, 0.14642604304477605, 0.13761697817663615, 0.06874418495094749, 0.02531501044909517, 0.024334876161537646, 0.12273654736247044, 0.07819031820413691, 0.59220569963137, 0.06578807900222591, 0.0, 0.2150812887074061, 0.062027189893493824, 0.002302012018296511, 0.0011304591877133187, 0.003507887734744509, 0.029506589407483307, 0.1785597914630173, 0.03104956783264484, 0.5723774864855316, 0.0006124203559104452, 0.03720453662155955, 0.17474958484966255, 0.015667508744656045, 0.04698855809501868, 0.014145536201502003, 0.0041949322215548415, 0.0, 0.025272808405338527, 0.011053850929482491, 0.15383969897184044, 0.08686370354239993, 0.0, 0.0, 0.0046925237607320786, 0.010332630620232644, 0.00264989577076635, 0.008420779893768623, 0.05547115146804226, 0.35416740274882524, 0.05622784392702775, 0.023080592163374908, 0.1296949501056251, 0.12128082221358555, 0.004027841571564853, 0.020993063161737862, 0.010970568490972688, 0.0002608529170120778, 0.0016822598578192381, 0.3538611925708701, 0.015793378793767444, 0.028247182277497087, 0.013524282859689004, 0.025321226253989568, 0.002517728129854053, 0.14997085114652156, 0.004743640577297786, 0.0018349608109858792, 0.0, 0.004981804049040739, 0.004307552791812412, 0.0005568314312970357, 0.0063623670308474035, 0.1337902931373588, 0.009892944210861041, 0.124633431085044, 0.014368323734821987, 0.4702526986601249, 1.0, 0.5032799820984819, 0.4793661449316327, 0.028442214606225487, 0.032905345723068226, 0.0037687406517565867, 0.07974376053142733, 0.0, 0.0, 0.010351293369960782], \"y\": [0.14285714285714285, 0.14285714285714285, 0.11428571428571427, 0.057142857142857134, 0.028571428571428567, 0.057142857142857134, 0.08571428571428573, 0.028571428571428567, 0.08571428571428573, 0.057142857142857134, 0.057142857142857134, 0.028571428571428567, 0.028571428571428567, 0.057142857142857134, 0.028571428571428567, 0.028571428571428567, 0.028571428571428567, 0.057142857142857134, 0.057142857142857134, 0.3428571428571429, 0.028571428571428567, 0.028571428571428567, 0.3142857142857143, 0.22857142857142854, 0.028571428571428567, 0.2571428571428571, 0.028571428571428567, 0.14285714285714285, 0.028571428571428567, 0.2857142857142857, 0.17142857142857146, 0.028571428571428567, 0.2571428571428571, 0.11428571428571427, 0.14285714285714285, 0.14285714285714285, 0.08571428571428573, 0.057142857142857134, 0.028571428571428567, 0.057142857142857134, 0.11428571428571427, 0.17142857142857146, 0.2857142857142857, 0.2, 0.11428571428571427, 0.2, 0.08571428571428573, 0.11428571428571427, 0.2, 0.4571428571428571, 0.057142857142857134, 0.14285714285714285, 0.2, 0.2, 0.4, 0.14285714285714285, 0.11428571428571427, 0.028571428571428567, 0.057142857142857134, 0.08571428571428573, 0.08571428571428573, 0.5142857142857142, 0.028571428571428567, 0.17142857142857146, 0.14285714285714285, 0.028571428571428567, 0.08571428571428573, 0.11428571428571427, 0.08571428571428573, 0.17142857142857146, 0.028571428571428567, 0.057142857142857134, 0.11428571428571427, 0.057142857142857134, 0.4571428571428571, 0.057142857142857134, 0.17142857142857146, 0.4, 0.22857142857142854, 0.11428571428571427, 0.3428571428571429, 0.2857142857142857, 0.2, 0.11428571428571427, 0.028571428571428567, 0.028571428571428567, 0.08571428571428573, 0.057142857142857134, 0.028571428571428567, 0.2, 0.057142857142857134, 0.14285714285714285, 0.08571428571428573, 0.5428571428571428, 0.3428571428571429, 0.057142857142857134, 0.08571428571428573, 0.17142857142857146, 0.14285714285714285, 0.17142857142857146, 0.17142857142857146, 0.057142857142857134, 0.11428571428571427, 0.2571428571428571, 0.22857142857142854, 0.057142857142857134, 0.057142857142857134, 1.0, 0.08571428571428573, 0.37142857142857133, 0.4857142857142857, 0.3142857142857143, 0.11428571428571427, 0.08571428571428573, 0.2, 0.057142857142857134, 0.08571428571428573, 0.057142857142857134, 0.11428571428571427, 0.22857142857142854, 0.37142857142857133, 0.3428571428571429, 0.11428571428571427, 0.028571428571428567, 0.08571428571428573, 0.2, 0.11428571428571427, 0.2, 0.028571428571428567, 0.08571428571428573, 0.11428571428571427, 0.08571428571428573, 0.11428571428571427, 0.028571428571428567, 0.057142857142857134, 0.028571428571428567, 0.057142857142857134, 0.11428571428571427, 0.5142857142857142, 0.17142857142857146, 0.057142857142857134, 0.057142857142857134, 0.057142857142857134, 0.3142857142857143, 0.6, 0.028571428571428567, 0.057142857142857134, 0.2857142857142857, 0.08571428571428573, 0.028571428571428567, 0.08571428571428573, 0.11428571428571427, 0.08571428571428573, 0.4571428571428571, 0.057142857142857134, 0.11428571428571427, 0.057142857142857134, 0.2857142857142857, 0.08571428571428573, 0.2571428571428571, 0.08571428571428573, 0.057142857142857134, 0.028571428571428567, 0.37142857142857133, 0.08571428571428573, 0.22857142857142854, 0.11428571428571427, 0.057142857142857134, 0.14285714285714285, 0.028571428571428567, 0.2571428571428571, 0.057142857142857134, 0.028571428571428567, 0.4571428571428571], \"z\": [0.293324923282528, 0.034895019960680264, 0.006488984343215803, 0.0, 0.003136612210054243, 0.01042829424017896, 0.009968357504198342, 0.0, 0.0013172945829348732, 0.012187780753801985, 0.002174805439106971, 0.0, 0.025109223578130373, 0.005646332207618322, 0.0039518837488046205, 0.0, 0.0, 0.0035569664015388572, 0.07224668048214314, 0.3557829349344161, 0.0, 0.00718104934043155, 0.09726617626676268, 0.10064460846872272, 0.16142972974557546, 0.003362772528573289, 0.0, 0.009991756293112854, 0.0, 0.029388060158509293, 0.07768848506810191, 0.0, 0.06178342774042691, 0.004585754870046834, 0.01395730172757082, 0.044846973332830616, 0.0, 0.04616446791581538, 0.019124498171673054, 0.0, 0.010967463601275384, 0.003280010465610771, 0.7338881184651294, 0.0013102156771562382, 0.002110631301048872, 0.2149099317536836, 0.021585749428910967, 0.011384343193529144, 0.03033431296198929, 0.0664905544014458, 0.01864377817264629, 0.03185561731656845, 0.01890833053743821, 0.013642762219736836, 0.01656626980678222, 0.042452595222460934, 0.2848676127131564, 0.016440498912940412, 0.0, 0.012531910647774936, 0.022517909537340543, 0.2757961287864653, 0.20470299668654465, 0.4403166002826315, 0.03449005647211908, 0.007279432104780638, 0.02051952986062393, 0.0017439407767493144, 0.013299072823442691, 0.05132239948238361, 0.0, 0.0033788130772592173, 0.039447716310782685, 0.10803351617580316, 0.009493203419975593, 0.00638555657954844, 0.003444278463103426, 0.04592889519864588, 0.0579146749104536, 0.12976349419192146, 0.9943798936427638, 0.16844514292860044, 0.38190486349831776, 0.10254750525815587, 0.0, 0.0, 0.011867835891419655, 0.047844221813573416, 0.0, 0.2287938289176574, 0.0, 0.01190036796663863, 0.0064428525629053645, 0.07758027911795175, 0.0027144734000834696, 0.006509278406045352, 0.012281105833008949, 0.18954552345831868, 0.14809359181816512, 0.06633636034853105, 0.0281091414386054, 0.011958433564783846, 0.1608838236666995, 0.0956152682801262, 0.6627656234275682, 0.08331323110796217, 0.0, 0.2185145192656644, 0.02528504067273615, 0.004736250343813501, 0.0023741987821397892, 0.004696013370677551, 0.015124985979445556, 0.1349876466107897, 0.033784452752558466, 0.5800932188454532, 0.0, 0.02431336761336213, 0.1488258690992976, 0.05501268298047241, 0.039400834346942616, 0.017883092742142122, 0.004197071454302478, 0.0, 0.011087297559935228, 0.01046532206428552, 0.1195476773572369, 0.07222376859708114, 0.00974618341765232, 0.0023713109343592377, 0.0035356666908355006, 0.015394320884413944, 0.005080702965861387, 0.0049790615218564035, 0.03169761400636685, 0.2908525020364055, 0.029457499219185675, 0.037634165012238485, 0.14709776619389306, 0.11303981583865393, 0.0, 0.012364109986714942, 0.012047678907583449, 0.0015765111442932293, 0.0038848234897609023, 0.5494314244790192, 0.00762658496920097, 0.0469100486543136, 0.01055548109506731, 0.012707731901618512, 0.004379609142566311, 0.13462372714693502, 0.007581837940068072, 0.00800834654040751, 0.0, 0.006613802990860151, 0.0070541490286799464, 0.0019573248951962733, 0.005269178331739494, 0.21499726542478248, 0.0, 0.09706393480587654, 0.010060791343633066, 0.40856698722916585, 1.0, 0.5511735869205461, 0.6894263137953107, 0.04614917846952908, 0.02661695008502912, 0.0, 0.06714913795192279, 0.0, 0.0, 0.009200813408523668]}],\n",
       "                        {\"coloraxis\": {\"colorbar\": {\"title\": {\"text\": \"cluster\"}}, \"colorscale\": [[0.0, \"#0d0887\"], [0.1111111111111111, \"#46039f\"], [0.2222222222222222, \"#7201a8\"], [0.3333333333333333, \"#9c179e\"], [0.4444444444444444, \"#bd3786\"], [0.5555555555555556, \"#d8576b\"], [0.6666666666666666, \"#ed7953\"], [0.7777777777777778, \"#fb9f3a\"], [0.8888888888888888, \"#fdca26\"], [1.0, \"#f0f921\"]]}, \"height\": 600, \"legend\": {\"tracegroupgap\": 0}, \"margin\": {\"b\": 0, \"l\": 0, \"r\": 0, \"t\": 0}, \"scene\": {\"domain\": {\"x\": [0.0, 1.0], \"y\": [0.0, 1.0]}, \"xaxis\": {\"title\": {\"text\": \"grading\"}}, \"yaxis\": {\"title\": {\"text\": \"quantity\"}}, \"zaxis\": {\"title\": {\"text\": \"popularity\"}}}, \"template\": {\"data\": {\"bar\": [{\"error_x\": {\"color\": \"#2a3f5f\"}, \"error_y\": {\"color\": \"#2a3f5f\"}, \"marker\": {\"line\": {\"color\": \"#E5ECF6\", \"width\": 0.5}}, \"type\": \"bar\"}], \"barpolar\": [{\"marker\": {\"line\": {\"color\": \"#E5ECF6\", \"width\": 0.5}}, \"type\": \"barpolar\"}], \"carpet\": [{\"aaxis\": {\"endlinecolor\": \"#2a3f5f\", \"gridcolor\": \"white\", \"linecolor\": \"white\", \"minorgridcolor\": \"white\", \"startlinecolor\": \"#2a3f5f\"}, \"baxis\": {\"endlinecolor\": \"#2a3f5f\", \"gridcolor\": \"white\", \"linecolor\": \"white\", \"minorgridcolor\": \"white\", \"startlinecolor\": \"#2a3f5f\"}, \"type\": \"carpet\"}], \"choropleth\": [{\"colorbar\": {\"outlinewidth\": 0, \"ticks\": \"\"}, \"type\": \"choropleth\"}], \"contour\": [{\"colorbar\": {\"outlinewidth\": 0, \"ticks\": \"\"}, \"colorscale\": [[0.0, \"#0d0887\"], [0.1111111111111111, \"#46039f\"], [0.2222222222222222, \"#7201a8\"], [0.3333333333333333, \"#9c179e\"], [0.4444444444444444, \"#bd3786\"], [0.5555555555555556, \"#d8576b\"], [0.6666666666666666, \"#ed7953\"], [0.7777777777777778, \"#fb9f3a\"], [0.8888888888888888, \"#fdca26\"], [1.0, \"#f0f921\"]], \"type\": \"contour\"}], \"contourcarpet\": [{\"colorbar\": {\"outlinewidth\": 0, \"ticks\": \"\"}, \"type\": \"contourcarpet\"}], \"heatmap\": [{\"colorbar\": {\"outlinewidth\": 0, \"ticks\": \"\"}, \"colorscale\": [[0.0, \"#0d0887\"], [0.1111111111111111, \"#46039f\"], [0.2222222222222222, \"#7201a8\"], [0.3333333333333333, \"#9c179e\"], [0.4444444444444444, \"#bd3786\"], [0.5555555555555556, \"#d8576b\"], [0.6666666666666666, \"#ed7953\"], [0.7777777777777778, \"#fb9f3a\"], [0.8888888888888888, \"#fdca26\"], [1.0, \"#f0f921\"]], \"type\": \"heatmap\"}], \"heatmapgl\": [{\"colorbar\": {\"outlinewidth\": 0, \"ticks\": \"\"}, \"colorscale\": [[0.0, \"#0d0887\"], [0.1111111111111111, \"#46039f\"], [0.2222222222222222, \"#7201a8\"], [0.3333333333333333, \"#9c179e\"], [0.4444444444444444, \"#bd3786\"], [0.5555555555555556, \"#d8576b\"], [0.6666666666666666, \"#ed7953\"], [0.7777777777777778, \"#fb9f3a\"], [0.8888888888888888, \"#fdca26\"], [1.0, \"#f0f921\"]], \"type\": \"heatmapgl\"}], \"histogram\": [{\"marker\": {\"colorbar\": {\"outlinewidth\": 0, \"ticks\": \"\"}}, \"type\": \"histogram\"}], \"histogram2d\": [{\"colorbar\": {\"outlinewidth\": 0, \"ticks\": \"\"}, \"colorscale\": [[0.0, \"#0d0887\"], [0.1111111111111111, \"#46039f\"], [0.2222222222222222, \"#7201a8\"], [0.3333333333333333, \"#9c179e\"], [0.4444444444444444, \"#bd3786\"], [0.5555555555555556, \"#d8576b\"], [0.6666666666666666, \"#ed7953\"], [0.7777777777777778, \"#fb9f3a\"], [0.8888888888888888, \"#fdca26\"], [1.0, \"#f0f921\"]], \"type\": \"histogram2d\"}], \"histogram2dcontour\": [{\"colorbar\": {\"outlinewidth\": 0, \"ticks\": \"\"}, \"colorscale\": [[0.0, \"#0d0887\"], [0.1111111111111111, \"#46039f\"], [0.2222222222222222, \"#7201a8\"], [0.3333333333333333, \"#9c179e\"], [0.4444444444444444, \"#bd3786\"], [0.5555555555555556, \"#d8576b\"], [0.6666666666666666, \"#ed7953\"], [0.7777777777777778, \"#fb9f3a\"], [0.8888888888888888, \"#fdca26\"], [1.0, \"#f0f921\"]], \"type\": \"histogram2dcontour\"}], \"mesh3d\": [{\"colorbar\": {\"outlinewidth\": 0, \"ticks\": \"\"}, \"type\": \"mesh3d\"}], \"parcoords\": [{\"line\": {\"colorbar\": {\"outlinewidth\": 0, \"ticks\": \"\"}}, \"type\": \"parcoords\"}], \"pie\": [{\"automargin\": true, \"type\": \"pie\"}], \"scatter\": [{\"marker\": {\"colorbar\": {\"outlinewidth\": 0, \"ticks\": \"\"}}, \"type\": \"scatter\"}], \"scatter3d\": [{\"line\": {\"colorbar\": {\"outlinewidth\": 0, \"ticks\": \"\"}}, \"marker\": {\"colorbar\": {\"outlinewidth\": 0, \"ticks\": \"\"}}, \"type\": \"scatter3d\"}], \"scattercarpet\": [{\"marker\": {\"colorbar\": {\"outlinewidth\": 0, \"ticks\": \"\"}}, \"type\": \"scattercarpet\"}], \"scattergeo\": [{\"marker\": {\"colorbar\": {\"outlinewidth\": 0, \"ticks\": \"\"}}, \"type\": \"scattergeo\"}], \"scattergl\": [{\"marker\": {\"colorbar\": {\"outlinewidth\": 0, \"ticks\": \"\"}}, \"type\": \"scattergl\"}], \"scattermapbox\": [{\"marker\": {\"colorbar\": {\"outlinewidth\": 0, \"ticks\": \"\"}}, \"type\": \"scattermapbox\"}], \"scatterpolar\": [{\"marker\": {\"colorbar\": {\"outlinewidth\": 0, \"ticks\": \"\"}}, \"type\": \"scatterpolar\"}], \"scatterpolargl\": [{\"marker\": {\"colorbar\": {\"outlinewidth\": 0, \"ticks\": \"\"}}, \"type\": \"scatterpolargl\"}], \"scatterternary\": [{\"marker\": {\"colorbar\": {\"outlinewidth\": 0, \"ticks\": \"\"}}, \"type\": \"scatterternary\"}], \"surface\": [{\"colorbar\": {\"outlinewidth\": 0, \"ticks\": \"\"}, \"colorscale\": [[0.0, \"#0d0887\"], [0.1111111111111111, \"#46039f\"], [0.2222222222222222, \"#7201a8\"], [0.3333333333333333, \"#9c179e\"], [0.4444444444444444, \"#bd3786\"], [0.5555555555555556, \"#d8576b\"], [0.6666666666666666, \"#ed7953\"], [0.7777777777777778, \"#fb9f3a\"], [0.8888888888888888, \"#fdca26\"], [1.0, \"#f0f921\"]], \"type\": \"surface\"}], \"table\": [{\"cells\": {\"fill\": {\"color\": \"#EBF0F8\"}, \"line\": {\"color\": \"white\"}}, \"header\": {\"fill\": {\"color\": \"#C8D4E3\"}, \"line\": {\"color\": \"white\"}}, \"type\": \"table\"}]}, \"layout\": {\"annotationdefaults\": {\"arrowcolor\": \"#2a3f5f\", \"arrowhead\": 0, \"arrowwidth\": 1}, \"coloraxis\": {\"colorbar\": {\"outlinewidth\": 0, \"ticks\": \"\"}}, \"colorscale\": {\"diverging\": [[0, \"#8e0152\"], [0.1, \"#c51b7d\"], [0.2, \"#de77ae\"], [0.3, \"#f1b6da\"], [0.4, \"#fde0ef\"], [0.5, \"#f7f7f7\"], [0.6, \"#e6f5d0\"], [0.7, \"#b8e186\"], [0.8, \"#7fbc41\"], [0.9, \"#4d9221\"], [1, \"#276419\"]], \"sequential\": [[0.0, \"#0d0887\"], [0.1111111111111111, \"#46039f\"], [0.2222222222222222, \"#7201a8\"], [0.3333333333333333, \"#9c179e\"], [0.4444444444444444, \"#bd3786\"], [0.5555555555555556, \"#d8576b\"], [0.6666666666666666, \"#ed7953\"], [0.7777777777777778, \"#fb9f3a\"], [0.8888888888888888, \"#fdca26\"], [1.0, \"#f0f921\"]], \"sequentialminus\": [[0.0, \"#0d0887\"], [0.1111111111111111, \"#46039f\"], [0.2222222222222222, \"#7201a8\"], [0.3333333333333333, \"#9c179e\"], [0.4444444444444444, \"#bd3786\"], [0.5555555555555556, \"#d8576b\"], [0.6666666666666666, \"#ed7953\"], [0.7777777777777778, \"#fb9f3a\"], [0.8888888888888888, \"#fdca26\"], [1.0, \"#f0f921\"]]}, \"colorway\": [\"#636efa\", \"#EF553B\", \"#00cc96\", \"#ab63fa\", \"#FFA15A\", \"#19d3f3\", \"#FF6692\", \"#B6E880\", \"#FF97FF\", \"#FECB52\"], \"font\": {\"color\": \"#2a3f5f\"}, \"geo\": {\"bgcolor\": \"white\", \"lakecolor\": \"white\", \"landcolor\": \"#E5ECF6\", \"showlakes\": true, \"showland\": true, \"subunitcolor\": \"white\"}, \"hoverlabel\": {\"align\": \"left\"}, \"hovermode\": \"closest\", \"mapbox\": {\"style\": \"light\"}, \"paper_bgcolor\": \"white\", \"plot_bgcolor\": \"#E5ECF6\", \"polar\": {\"angularaxis\": {\"gridcolor\": \"white\", \"linecolor\": \"white\", \"ticks\": \"\"}, \"bgcolor\": \"#E5ECF6\", \"radialaxis\": {\"gridcolor\": \"white\", \"linecolor\": \"white\", \"ticks\": \"\"}}, \"scene\": {\"xaxis\": {\"backgroundcolor\": \"#E5ECF6\", \"gridcolor\": \"white\", \"gridwidth\": 2, \"linecolor\": \"white\", \"showbackground\": true, \"ticks\": \"\", \"zerolinecolor\": \"white\"}, \"yaxis\": {\"backgroundcolor\": \"#E5ECF6\", \"gridcolor\": \"white\", \"gridwidth\": 2, \"linecolor\": \"white\", \"showbackground\": true, \"ticks\": \"\", \"zerolinecolor\": \"white\"}, \"zaxis\": {\"backgroundcolor\": \"#E5ECF6\", \"gridcolor\": \"white\", \"gridwidth\": 2, \"linecolor\": \"white\", \"showbackground\": true, \"ticks\": \"\", \"zerolinecolor\": \"white\"}}, \"shapedefaults\": {\"line\": {\"color\": \"#2a3f5f\"}}, \"ternary\": {\"aaxis\": {\"gridcolor\": \"white\", \"linecolor\": \"white\", \"ticks\": \"\"}, \"baxis\": {\"gridcolor\": \"white\", \"linecolor\": \"white\", \"ticks\": \"\"}, \"bgcolor\": \"#E5ECF6\", \"caxis\": {\"gridcolor\": \"white\", \"linecolor\": \"white\", \"ticks\": \"\"}}, \"title\": {\"x\": 0.05}, \"xaxis\": {\"automargin\": true, \"gridcolor\": \"white\", \"linecolor\": \"white\", \"ticks\": \"\", \"title\": {\"standoff\": 15}, \"zerolinecolor\": \"white\", \"zerolinewidth\": 2}, \"yaxis\": {\"automargin\": true, \"gridcolor\": \"white\", \"linecolor\": \"white\", \"ticks\": \"\", \"title\": {\"standoff\": 15}, \"zerolinecolor\": \"white\", \"zerolinewidth\": 2}}}},\n",
       "                        {\"responsive\": true}\n",
       "                    ).then(function(){\n",
       "                            \n",
       "var gd = document.getElementById('701a6e0a-fb24-4fbd-b84b-1d70ee5b7646');\n",
       "var x = new MutationObserver(function (mutations, observer) {{\n",
       "        var display = window.getComputedStyle(gd).display;\n",
       "        if (!display || display === 'none') {{\n",
       "            console.log([gd, 'removed!']);\n",
       "            Plotly.purge(gd);\n",
       "            observer.disconnect();\n",
       "        }}\n",
       "}});\n",
       "\n",
       "// Listen for the removal of the full notebook cells\n",
       "var notebookContainer = gd.closest('#notebook-container');\n",
       "if (notebookContainer) {{\n",
       "    x.observe(notebookContainer, {childList: true});\n",
       "}}\n",
       "\n",
       "// Listen for the clearing of the current output cell\n",
       "var outputEl = gd.closest('.output');\n",
       "if (outputEl) {{\n",
       "    x.observe(outputEl, {childList: true});\n",
       "}}\n",
       "\n",
       "                        })\n",
       "                };\n",
       "                });\n",
       "            </script>\n",
       "        </div>"
      ]
     },
     "metadata": {},
     "output_type": "display_data"
    }
   ],
   "source": [
    "fig = px.scatter_3d(treated_nta_data,x='grading',y='quantity',z='popularity',color='cluster')\n",
    "fig.update_layout(margin=dict(l=0, r=0, b=0, t=0))\n",
    "fig.show()"
   ]
  },
  {
   "cell_type": "markdown",
   "metadata": {},
   "source": [
    "## Results"
   ]
  },
  {
   "cell_type": "code",
   "execution_count": 134,
   "metadata": {},
   "outputs": [],
   "source": [
    "treated_nta_data['geometry'] = treated_nta_data['geometry'].apply(MultiPolygon)\n",
    "treated_nta_data = geopd.GeoDataFrame(treated_nta_data,geometry='geometry')\n",
    "treated_nta_data.crs = {'init' :'epsg:4326'}"
   ]
  },
  {
   "cell_type": "code",
   "execution_count": 150,
   "metadata": {},
   "outputs": [],
   "source": [
    "m = fl.Map(location=['40.64554010471746','-73.90272819297329'],tiles='OpenStreetMap')\n",
    "fl.raster_layers.TileLayer(tiles='Stamen Toner').add_to(m)\n",
    "\n",
    "colors = ['']\n",
    "\n",
    "\n",
    "for cluster in treated_nta_data['cluster'].unique():\n",
    "    cluster_group = fl.map.FeatureGroup(name='Cluster {}'.format(cluster),colors='red') \n",
    "    cluster_group.add_child(fl.features.Choropleth(geo_data=treated_nta_data[treated_nta_data['cluster'] == cluster].geometry,colors='YlOrRd'))\n",
    "    m.add_child(cluster_group)\n",
    "    \n",
    "\n",
    "fl.LayerControl().add_to(m)\n",
    "\n",
    "m.save('report_map.html')"
   ]
  },
  {
   "cell_type": "code",
   "execution_count": null,
   "metadata": {},
   "outputs": [],
   "source": []
  },
  {
   "cell_type": "code",
   "execution_count": null,
   "metadata": {},
   "outputs": [],
   "source": []
  },
  {
   "cell_type": "code",
   "execution_count": null,
   "metadata": {},
   "outputs": [],
   "source": []
  }
 ],
 "metadata": {
  "kernelspec": {
   "display_name": "Python 3",
   "language": "python",
   "name": "python3"
  },
  "language_info": {
   "codemirror_mode": {
    "name": "ipython",
    "version": 3
   },
   "file_extension": ".py",
   "mimetype": "text/x-python",
   "name": "python",
   "nbconvert_exporter": "python",
   "pygments_lexer": "ipython3",
   "version": "3.7.5"
  }
 },
 "nbformat": 4,
 "nbformat_minor": 4
}
